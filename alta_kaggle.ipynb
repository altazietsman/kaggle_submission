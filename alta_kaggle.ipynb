{
 "cells": [
  {
   "cell_type": "markdown",
   "metadata": {},
   "source": [
    "## Kaggle Climate Change Belief Challenge\n",
    "\n",
    "Alta Saunders"
   ]
  },
  {
   "cell_type": "markdown",
   "metadata": {},
   "source": [
    "# Aim\n",
    "\n",
    "Develop a machine leraning model that can predict whether people belief in Climate Change based on tweets."
   ]
  },
  {
   "cell_type": "markdown",
   "metadata": {},
   "source": [
    "# Supplied Data sets\n",
    "\n",
    "- train.csv (should be used to train data)\n",
    "- test.csv (should be used to test data and excludes arrival times)\n",
    "- example of submission"
   ]
  },
  {
   "cell_type": "markdown",
   "metadata": {},
   "source": [
    "# Import and viewing of Data"
   ]
  },
  {
   "cell_type": "code",
   "execution_count": 1,
   "metadata": {},
   "outputs": [],
   "source": [
    "import numpy as np\n",
    "import pandas as pd\n",
    "import matplotlib.pyplot as plt"
   ]
  },
  {
   "cell_type": "code",
   "execution_count": 326,
   "metadata": {},
   "outputs": [],
   "source": [
    "df_train = pd.read_csv('C:/Users/alta/Documents/GitHub/kaggle/train.csv')\n",
    "df_test = pd.read_csv('C:/Users/alta/Documents/GitHub/kaggle/test.csv')\n",
    "df_sub = pd.read_csv('C:/Users/alta/Documents/GitHub/kaggle/sample_submission.csv')"
   ]
  },
  {
   "cell_type": "code",
   "execution_count": 332,
   "metadata": {},
   "outputs": [
    {
     "name": "stderr",
     "output_type": "stream",
     "text": [
      "[nltk_data] Downloading package words to\n",
      "[nltk_data]     C:\\Users\\alta\\AppData\\Roaming\\nltk_data...\n",
      "[nltk_data]   Unzipping corpora\\words.zip.\n"
     ]
    }
   ],
   "source": [
    "import nltk \n",
    "nltk.download('words')\n",
    "words = set(nltk.corpus.words.words())\n"
   ]
  },
  {
   "cell_type": "markdown",
   "metadata": {},
   "source": [
    "## Dealing with Imbalanced data"
   ]
  },
  {
   "cell_type": "code",
   "execution_count": 337,
   "metadata": {},
   "outputs": [
    {
     "data": {
      "image/png": "[encoded data removed]",
      "text/plain": [
       "<Figure size 432x288 with 1 Axes>"
      ]
     },
     "metadata": {
      "needs_background": "light"
     },
     "output_type": "display_data"
    }
   ],
   "source": [
    "df_train['sentiment'].value_counts().plot(kind = 'bar')\n",
    "plt.show()"
   ]
  },
  {
   "cell_type": "markdown",
   "metadata": {},
   "source": [
    "There is a clear disparity in the distribution of the data (2,0,-1 are under represented). Everything needs to be equal before training."
   ]
  },
  {
   "cell_type": "code",
   "execution_count": 338,
   "metadata": {},
   "outputs": [],
   "source": [
    "# Indicies of each group\n",
    "sentiment_0 = df_train[df_train.sentiment == 0]\n",
    "sentiment_1 = df_train[df_train.sentiment == 1]\n",
    "sentiment_2 = df_train[df_train.sentiment == 2]\n",
    "sentiment_n1 = df_train[df_train.sentiment == -1]\n",
    "\n"
   ]
  },
  {
   "cell_type": "code",
   "execution_count": 339,
   "metadata": {},
   "outputs": [],
   "source": [
    "# get length of majority sentiment\n",
    "n_sentimentn1 = len(sentiment_n1)\n"
   ]
  },
  {
   "cell_type": "code",
   "execution_count": 340,
   "metadata": {},
   "outputs": [],
   "source": [
    "from sklearn.utils import resample"
   ]
  },
  {
   "cell_type": "code",
   "execution_count": 341,
   "metadata": {},
   "outputs": [],
   "source": [
    "# downsample majorityclass\n",
    "sentiment_0_upsampled = resample(sentiment_0, replace=True, n_samples=n_sentimentn1, random_state=50) \n",
    "sentiment_1_upsampled = resample(sentiment_1, replace=True, n_samples=n_sentimentn1, random_state=50)\n",
    "sentiment_2_upsampled = resample(sentiment_2, replace=True, n_samples=n_sentimentn1, random_state=50)\n",
    " "
   ]
  },
  {
   "cell_type": "code",
   "execution_count": 342,
   "metadata": {},
   "outputs": [],
   "source": [
    "#create new upsampled dataframe\n",
    "df_upsampled = pd.concat([sentiment_0_upsampled, sentiment_1_upsampled,sentiment_2_upsampled, sentiment_n1])"
   ]
  },
  {
   "cell_type": "code",
   "execution_count": 343,
   "metadata": {},
   "outputs": [
    {
     "data": {
      "image/png": "[encoded data removed]",
      "text/plain": [
       "<Figure size 432x288 with 1 Axes>"
      ]
     },
     "metadata": {
      "needs_background": "light"
     },
     "output_type": "display_data"
    }
   ],
   "source": [
    "df_upsampled['sentiment'].value_counts().plot(kind = 'bar')\n",
    "plt.show()"
   ]
  },
  {
   "cell_type": "markdown",
   "metadata": {},
   "source": [
    "# Preprocessing of data"
   ]
  },
  {
   "cell_type": "code",
   "execution_count": 29,
   "metadata": {},
   "outputs": [],
   "source": [
    "import nltk\n",
    "import re"
   ]
  },
  {
   "cell_type": "markdown",
   "metadata": {},
   "source": [
    "View data to see how to best clean it and remove noise"
   ]
  },
  {
   "cell_type": "markdown",
   "metadata": {},
   "source": [
    "To clean data we can remove the @.... strings, we can remove punctuation and make everything lower case."
   ]
  },
  {
   "cell_type": "code",
   "execution_count": 349,
   "metadata": {},
   "outputs": [],
   "source": [
    "pattern_tweets = r'(RT)|(@[A-Za-z0-9]+)'\n",
    "pattern_url = r'http[s]?://(?:[A-Za-z]|[0-9]|[$-_@.&+]|[!*\\(\\),]|(?:%[0-9A-Fa-f][0-9A-Fa-f]))+'\n",
    "\n"
   ]
  },
  {
   "cell_type": "code",
   "execution_count": 358,
   "metadata": {},
   "outputs": [],
   "source": [
    "tweets = df_upsampled['message']"
   ]
  },
  {
   "cell_type": "code",
   "execution_count": 392,
   "metadata": {},
   "outputs": [],
   "source": [
    "tweets_clean = []\n",
    "\n",
    "from string import punctuation\n",
    "my_punctuation = punctuation.replace(\"'\", \"\")\n",
    "\n",
    "for x in tweets:\n",
    "    new = ' '.join(re.sub(pattern_tweets,\" \",x).split())\n",
    "    new1 = ' '.join(re.sub(pattern_url,\" \",new).split())\n",
    "    new2 = new1.translate(str.maketrans(\"\", \"\", my_punctuation))\n",
    "    new3 = ' '.join(re.sub(r'[^a-zA-Z]', \" \",new2).split())\n",
    "   \n",
    "    tweets_clean.append(new3)"
   ]
  },
  {
   "cell_type": "markdown",
   "metadata": {},
   "source": [
    "There are non-english tweets in the training dataset, however there are very few non-english tweets in the test dataset. We do not want to train our model on non-englisg tokens> Lets remove all non-englisjh characters."
   ]
  },
  {
   "cell_type": "code",
   "execution_count": 394,
   "metadata": {},
   "outputs": [],
   "source": [
    "tweets_en = []\n",
    "\n",
    "import nltk\n",
    "words = set(nltk.corpus.words.words())\n",
    "\n",
    "for x in tweets_clean:\n",
    "    new = \" \".join(i for i in nltk.wordpunct_tokenize(x) if i.lower() in words or not i.isalpha())\n",
    "    tweets_en.append(new)\n"
   ]
  },
  {
   "cell_type": "code",
   "execution_count": 395,
   "metadata": {},
   "outputs": [
    {
     "data": {
      "text/plain": [
       "5184"
      ]
     },
     "execution_count": 395,
     "metadata": {},
     "output_type": "execute_result"
    }
   ],
   "source": [
    "len(tweets_en)"
   ]
  },
  {
   "cell_type": "code",
   "execution_count": 396,
   "metadata": {},
   "outputs": [],
   "source": [
    "df_upsampled['message'] = tweets_en"
   ]
  },
  {
   "cell_type": "code",
   "execution_count": 397,
   "metadata": {},
   "outputs": [],
   "source": [
    "#make lower case\n",
    "df_upsampled['message'] = df_upsampled['message'].str.lower()"
   ]
  },
  {
   "cell_type": "markdown",
   "metadata": {},
   "source": [
    "## Tokenization"
   ]
  },
  {
   "cell_type": "code",
   "execution_count": 398,
   "metadata": {},
   "outputs": [],
   "source": [
    "from nltk.tokenize import word_tokenize, TweetTokenizer"
   ]
  },
  {
   "cell_type": "code",
   "execution_count": 399,
   "metadata": {},
   "outputs": [],
   "source": [
    "tokeniser = TweetTokenizer()\n",
    "df_upsampled['tokens'] = df_upsampled['message'].apply(tokeniser.tokenize)"
   ]
  },
  {
   "cell_type": "code",
   "execution_count": 400,
   "metadata": {},
   "outputs": [
    {
     "data": {
      "text/plain": [
       "11385    [we, re, talking, about, this, story, on, soci...\n",
       "10030    [yes, and, the, view, will, find, a, way, to, ...\n",
       "12929    [the, who, are, all, screaming, about, this, a...\n",
       "14408    [how, can, people, still, try, to, deny, globa...\n",
       "13470    [is, there, really, a, god, does, global, warm...\n",
       "Name: tokens, dtype: object"
      ]
     },
     "execution_count": 400,
     "metadata": {},
     "output_type": "execute_result"
    }
   ],
   "source": [
    "df_upsampled['tokens'].head()"
   ]
  },
  {
   "cell_type": "markdown",
   "metadata": {},
   "source": [
    "## Vectorize"
   ]
  },
  {
   "cell_type": "code",
   "execution_count": 401,
   "metadata": {},
   "outputs": [],
   "source": [
    "from sklearn.feature_extraction.text import CountVectorizer"
   ]
  },
  {
   "cell_type": "code",
   "execution_count": 408,
   "metadata": {},
   "outputs": [],
   "source": [
    "vect = CountVectorizer(stop_words = 'english', ngram_range=(2,3))"
   ]
  },
  {
   "cell_type": "code",
   "execution_count": 409,
   "metadata": {},
   "outputs": [],
   "source": [
    "X_tokens = vect.fit_transform(df_upsampled['message'])\n",
    "df_tokens = pd.DataFrame(X_tokens.A, columns=vect.get_feature_names())"
   ]
  },
  {
   "cell_type": "code",
   "execution_count": 411,
   "metadata": {},
   "outputs": [],
   "source": [
    "df_tokens.to_csv(r'C:/Users/alta/Documents/Explore/Trains/Sprint 6/kaggle/df_tokens.csv', index = False)"
   ]
  },
  {
   "cell_type": "code",
   "execution_count": 412,
   "metadata": {},
   "outputs": [
    {
     "data": {
      "text/plain": [
       "Index(['abandon deal', 'abandon historic', 'abandon historic climate',\n",
       "       'abide climate', 'abide climate change', 'able destroy',\n",
       "       'able destroy global', 'abolish education',\n",
       "       'abolish education teaching', 'abortion choice',\n",
       "       ...\n",
       "       'zero gun control', 'zero proof', 'zero science',\n",
       "       'zero science emotion', 'zero unexpected', 'zero unexpected fight',\n",
       "       'zone guess', 'zone guess believe', 'zone temperate',\n",
       "       'zone temperate survive'],\n",
       "      dtype='object', length=30271)"
      ]
     },
     "execution_count": 412,
     "metadata": {},
     "output_type": "execute_result"
    }
   ],
   "source": [
    "col_names_tokens = df_tokens.columns\n",
    "col_names_tokens"
   ]
  },
  {
   "cell_type": "code",
   "execution_count": 8,
   "metadata": {},
   "outputs": [],
   "source": [
    "df_upsampled = pd.read_csv('C:/Users/alta/Documents/Explore/Trains/Sprint 6/kaggle/df_upsampled.csv')"
   ]
  },
  {
   "cell_type": "code",
   "execution_count": 413,
   "metadata": {},
   "outputs": [],
   "source": [
    "#add sentiment and to dataframe\n",
    "y = df_upsampled['sentiment']"
   ]
  },
  {
   "cell_type": "markdown",
   "metadata": {},
   "source": [
    "# Train model"
   ]
  },
  {
   "cell_type": "markdown",
   "metadata": {},
   "source": [
    "## Split data into train and test data set"
   ]
  },
  {
   "cell_type": "code",
   "execution_count": 255,
   "metadata": {},
   "outputs": [],
   "source": [
    "df_tokens = pd.read_csv('C:/Users/alta/Documents/Explore/Trains/Sprint 6/kaggle/df_tokens5.csv')"
   ]
  },
  {
   "cell_type": "code",
   "execution_count": 256,
   "metadata": {},
   "outputs": [
    {
     "data": {
      "text/plain": [
       "(5184, 5001)"
      ]
     },
     "execution_count": 256,
     "metadata": {},
     "output_type": "execute_result"
    }
   ],
   "source": [
    "df_tokens.shape"
   ]
  },
  {
   "cell_type": "code",
   "execution_count": 414,
   "metadata": {},
   "outputs": [],
   "source": [
    "from sklearn.model_selection import train_test_split\n",
    "\n",
    "X_train, X_test, y_train, y_test = train_test_split(df_tokens,y)"
   ]
  },
  {
   "cell_type": "markdown",
   "metadata": {},
   "source": [
    "# Feature Selection"
   ]
  },
  {
   "cell_type": "markdown",
   "metadata": {},
   "source": [
    "## Threshold variance"
   ]
  },
  {
   "cell_type": "code",
   "execution_count": 415,
   "metadata": {},
   "outputs": [],
   "source": [
    "# Import the var thresh model and choose a threshold\n",
    "from sklearn.feature_selection import VarianceThreshold\n",
    "selector = VarianceThreshold()\n",
    "\n",
    "# Transform (i.e.: run selection on) the training data\n",
    "X_train_vt = selector.fit_transform(X_train)"
   ]
  },
  {
   "cell_type": "code",
   "execution_count": 416,
   "metadata": {},
   "outputs": [],
   "source": [
    "X_test_vt = selector.transform(X_test)"
   ]
  },
  {
   "cell_type": "code",
   "execution_count": 417,
   "metadata": {},
   "outputs": [
    {
     "data": {
      "text/plain": [
       "(3888, 24323)"
      ]
     },
     "execution_count": 417,
     "metadata": {},
     "output_type": "execute_result"
    }
   ],
   "source": [
    "X_train_vt.shape"
   ]
  },
  {
   "cell_type": "code",
   "execution_count": 418,
   "metadata": {},
   "outputs": [
    {
     "data": {
      "text/plain": [
       "(1296, 24323)"
      ]
     },
     "execution_count": 418,
     "metadata": {},
     "output_type": "execute_result"
    }
   ],
   "source": [
    "X_test_vt.shape"
   ]
  },
  {
   "cell_type": "code",
   "execution_count": 419,
   "metadata": {},
   "outputs": [],
   "source": [
    "vt = X_train.loc[:, selector.fit(X_train).get_support()]"
   ]
  },
  {
   "cell_type": "markdown",
   "metadata": {},
   "source": [
    "## K-best"
   ]
  },
  {
   "cell_type": "code",
   "execution_count": 420,
   "metadata": {},
   "outputs": [
    {
     "name": "stderr",
     "output_type": "stream",
     "text": [
      "C:\\ProgramData\\Anaconda3\\lib\\site-packages\\sklearn\\feature_selection\\univariate_selection.py:114: UserWarning: Features [    3     4     9 ... 30256 30257 30262] are constant.\n",
      "  UserWarning)\n",
      "C:\\ProgramData\\Anaconda3\\lib\\site-packages\\sklearn\\feature_selection\\univariate_selection.py:115: RuntimeWarning: invalid value encountered in true_divide\n",
      "  f = msb / msw\n"
     ]
    }
   ],
   "source": [
    "# Import the feature selector module\n",
    "from sklearn import feature_selection\n",
    "from sklearn.feature_selection import f_classif\n",
    "\n",
    "# Set up selector, choosing score function and number of features to retain\n",
    "selector_kbest = feature_selection.SelectKBest(score_func=f_classif, k=20)\n",
    "\n",
    "# Transform (i.e.: run selection on) the training data\n",
    "X_train_kbest = selector_kbest.fit_transform(X_train, y_train)"
   ]
  },
  {
   "cell_type": "code",
   "execution_count": 421,
   "metadata": {},
   "outputs": [],
   "source": [
    "# Before generating predictions, we'll need to transform the test data the same way we did the train data\n",
    "X_test_kbest = selector_kbest.transform(X_test)"
   ]
  },
  {
   "cell_type": "code",
   "execution_count": 422,
   "metadata": {},
   "outputs": [
    {
     "data": {
      "text/plain": [
       "(1296, 20)"
      ]
     },
     "execution_count": 422,
     "metadata": {},
     "output_type": "execute_result"
    }
   ],
   "source": [
    "X_test_kbest.shape"
   ]
  },
  {
   "cell_type": "code",
   "execution_count": 423,
   "metadata": {},
   "outputs": [
    {
     "data": {
      "text/plain": [
       "(3888, 20)"
      ]
     },
     "execution_count": 423,
     "metadata": {},
     "output_type": "execute_result"
    }
   ],
   "source": [
    "X_train_kbest.shape"
   ]
  },
  {
   "cell_type": "code",
   "execution_count": 424,
   "metadata": {},
   "outputs": [],
   "source": [
    "kbest = selector_kbest.get_support(indices=True)"
   ]
  },
  {
   "cell_type": "code",
   "execution_count": 425,
   "metadata": {},
   "outputs": [],
   "source": [
    "kbest = X_train.iloc[:, kbest]"
   ]
  },
  {
   "cell_type": "markdown",
   "metadata": {},
   "source": [
    "## Train model"
   ]
  },
  {
   "cell_type": "code",
   "execution_count": 267,
   "metadata": {},
   "outputs": [],
   "source": [
    "from sklearn.linear_model import LogisticRegression\n",
    "from sklearn.neighbors import KNeighborsClassifier\n",
    "from sklearn.svm import SVC\n",
    "from sklearn.discriminant_analysis import LinearDiscriminantAnalysis\n",
    "from sklearn.discriminant_analysis import QuadraticDiscriminantAnalysis\n",
    "from sklearn.tree import DecisionTreeClassifier\n",
    "from sklearn.ensemble import RandomForestClassifier, AdaBoostClassifier"
   ]
  },
  {
   "cell_type": "code",
   "execution_count": 426,
   "metadata": {},
   "outputs": [],
   "source": [
    "#create models\n",
    "\n",
    "#lr = LogisticRegression(C=0.05, penalty='l1', solver='liblinear', verbose=1) \n",
    "#kn = KNeighborsClassifier(5)\n",
    "#svc_linear = SVC(kernel=\"linear\", C=0.05)\n",
    "svc = SVC(gamma=1, C=2)\n",
    "#dtc = DecisionTreeClassifier(max_depth=10)\n",
    "#rfc = RandomForestClassifier(max_depth=10, n_estimators=10)\n",
    "#abc = AdaBoostClassifier()"
   ]
  },
  {
   "cell_type": "code",
   "execution_count": 427,
   "metadata": {},
   "outputs": [
    {
     "data": {
      "text/plain": [
       "SVC(C=2, cache_size=200, class_weight=None, coef0=0.0,\n",
       "    decision_function_shape='ovr', degree=3, gamma=1, kernel='rbf', max_iter=-1,\n",
       "    probability=False, random_state=None, shrinking=True, tol=0.001,\n",
       "    verbose=False)"
      ]
     },
     "execution_count": 427,
     "metadata": {},
     "output_type": "execute_result"
    }
   ],
   "source": [
    "#train model on train data\n",
    "#lr.fit(X_train, y_train)\n",
    "#kn.fit(X_train, y_train)\n",
    "#svc_linear.fit(X_train, y_train)\n",
    "svc.fit(X_train, y_train)\n",
    "#dtc.fit(X_train, y_train)\n",
    "#rfc.fit(X_train, y_train)\n",
    "#abc.fit(X_train, y_train)"
   ]
  },
  {
   "cell_type": "code",
   "execution_count": 428,
   "metadata": {},
   "outputs": [],
   "source": [
    "#predict on test data\n",
    "#lr_pred = lr.predict(X_test)\n",
    "#kn_pred = kn.predict(X_test)\n",
    "#svc_linear_pred = svc_linear.predict(X_test)\n",
    "svc_pred =  svc.predict(X_test)\n",
    "#dtc_pred = dtc.predict(X_test)\n",
    "#rfc_pred = rfc.predict(X_test) \n",
    "#abc_pred = abc.predict(X_test)"
   ]
  },
  {
   "cell_type": "markdown",
   "metadata": {},
   "source": [
    "create svc models with variance selecting"
   ]
  },
  {
   "cell_type": "code",
   "execution_count": 429,
   "metadata": {},
   "outputs": [],
   "source": [
    "svc_kbest = SVC(gamma=1, C=2)\n",
    "svc_kbest = svc_kbest.fit(X_train_kbest, y_train)\n",
    "svc_kbest_pred = svc_kbest.predict(X_test_kbest)"
   ]
  },
  {
   "cell_type": "code",
   "execution_count": 430,
   "metadata": {},
   "outputs": [],
   "source": [
    "svc_vt = SVC(gamma=1, C=2)\n",
    "svc_vt = svc_vt.fit(X_train_vt, y_train)\n",
    "svc_vt_pred = svc_vt.predict(X_test_vt)"
   ]
  },
  {
   "cell_type": "markdown",
   "metadata": {},
   "source": [
    "## Calculate metrics"
   ]
  },
  {
   "cell_type": "markdown",
   "metadata": {},
   "source": [
    "### F1"
   ]
  },
  {
   "cell_type": "code",
   "execution_count": 16,
   "metadata": {},
   "outputs": [],
   "source": [
    "from sklearn import metrics"
   ]
  },
  {
   "cell_type": "code",
   "execution_count": 431,
   "metadata": {},
   "outputs": [],
   "source": [
    "#lr_f1  = metrics.f1_score(y_test, lr_pred, average='micro')\n",
    "#kn_f1  = metrics.f1_score(y_test, kn_pred, average='micro')\n",
    "#svc_linear_f1  = metrics.f1_score(y_test, svc_linear_pred, average='micro')\n",
    "svc_f1  = metrics.f1_score(y_test, svc_pred, average='micro')\n",
    "#dtc_f1  = metrics.f1_score(y_test, dtc_pred, average='micro')\n",
    "#rfc_f1  = metrics.f1_score(y_test, rfc_pred, average='micro')\n",
    "#abc_f1  = metrics.f1_score(y_test, abc_pred, average='micro')"
   ]
  },
  {
   "cell_type": "code",
   "execution_count": 432,
   "metadata": {},
   "outputs": [
    {
     "name": "stdout",
     "output_type": "stream",
     "text": [
      "svc:  0.4984567901234568\n"
     ]
    }
   ],
   "source": [
    "#print('lr: ', lr_f1)\n",
    "#print('kn: ', kn_f1)\n",
    "#print('svc_linear: ', svc_linear_f1)\n",
    "print('svc: ', svc_f1)\n",
    "#print('dtc: ', dtc_f1)\n",
    "#print('rfc :', rfc_f1)\n",
    "#print('abc :', abc_f1)"
   ]
  },
  {
   "cell_type": "code",
   "execution_count": 433,
   "metadata": {},
   "outputs": [],
   "source": [
    "svc_f1_vt  = metrics.f1_score(y_test, svc_vt_pred, average='micro')\n",
    "svc_f1_kbest  = metrics.f1_score(y_test, svc_kbest_pred, average='micro')"
   ]
  },
  {
   "cell_type": "code",
   "execution_count": 434,
   "metadata": {},
   "outputs": [
    {
     "name": "stdout",
     "output_type": "stream",
     "text": [
      "vt:  0.49459876543209874\n",
      "kbest:  0.3549382716049383\n"
     ]
    }
   ],
   "source": [
    "print('vt: ', svc_f1_vt)\n",
    "print('kbest: ', svc_f1_kbest)"
   ]
  },
  {
   "cell_type": "markdown",
   "metadata": {},
   "source": [
    "## Tune Hyper parameters"
   ]
  },
  {
   "cell_type": "code",
   "execution_count": 435,
   "metadata": {},
   "outputs": [],
   "source": [
    "from sklearn.model_selection import GridSearchCV"
   ]
  },
  {
   "cell_type": "markdown",
   "metadata": {},
   "source": [
    "Since SVC model did the best, we will start with the hyper parameter tuning for it"
   ]
  },
  {
   "cell_type": "code",
   "execution_count": 932,
   "metadata": {},
   "outputs": [],
   "source": [
    "nfolds = 2\n",
    "\n",
    "Cs = [0.001, 0.01, 0.1, 1, 10]\n",
    "gammas = [0.001, 0.01, 0.1, 1]\n",
    "\n",
    "param_grid = {\n",
    "    'C'     : Cs, \n",
    "    'gamma' : gammas\n",
    "    }\n",
    "\n",
    "grid_SVM = GridSearchCV(SVC(), param_grid, scoring='f1_micro', cv=nfolds)"
   ]
  },
  {
   "cell_type": "code",
   "execution_count": null,
   "metadata": {},
   "outputs": [],
   "source": [
    "grid_SVM.best_params_"
   ]
  },
  {
   "cell_type": "markdown",
   "metadata": {},
   "source": [
    "Now lets use to new hyperparamers and see if there is an improvement"
   ]
  },
  {
   "cell_type": "code",
   "execution_count": 436,
   "metadata": {},
   "outputs": [],
   "source": [
    "svc_new = SVC(gamma=1, C=1)"
   ]
  },
  {
   "cell_type": "code",
   "execution_count": 437,
   "metadata": {},
   "outputs": [
    {
     "data": {
      "text/plain": [
       "SVC(C=1, cache_size=200, class_weight=None, coef0=0.0,\n",
       "    decision_function_shape='ovr', degree=3, gamma=1, kernel='rbf', max_iter=-1,\n",
       "    probability=False, random_state=None, shrinking=True, tol=0.001,\n",
       "    verbose=False)"
      ]
     },
     "execution_count": 437,
     "metadata": {},
     "output_type": "execute_result"
    }
   ],
   "source": [
    "svc_new.fit(X_train, y_train)"
   ]
  },
  {
   "cell_type": "code",
   "execution_count": 438,
   "metadata": {},
   "outputs": [],
   "source": [
    "svc_new_pred =  svc_new.predict(X_test)"
   ]
  },
  {
   "cell_type": "code",
   "execution_count": 439,
   "metadata": {},
   "outputs": [
    {
     "name": "stdout",
     "output_type": "stream",
     "text": [
      "svc_new:  0.4992283950617284\n"
     ]
    }
   ],
   "source": [
    "svc_f1_new  = metrics.f1_score(y_test, svc_new_pred, average='micro')\n",
    "print('svc_new: ', svc_f1_new)"
   ]
  },
  {
   "cell_type": "markdown",
   "metadata": {},
   "source": [
    "Save model to be used later"
   ]
  },
  {
   "cell_type": "code",
   "execution_count": 86,
   "metadata": {},
   "outputs": [],
   "source": [
    "import pickle"
   ]
  },
  {
   "cell_type": "code",
   "execution_count": 87,
   "metadata": {},
   "outputs": [],
   "source": [
    "model_saved_path = 'C:/Users/alta/Documents/Explore/Trains/Sprint 6/kaggle/svc.pkl'"
   ]
  },
  {
   "cell_type": "code",
   "execution_count": 88,
   "metadata": {},
   "outputs": [],
   "source": [
    "with open(model_saved_path, 'wb') as file: pickle.dump(svc, file)"
   ]
  },
  {
   "cell_type": "markdown",
   "metadata": {},
   "source": [
    "## Get submission dataframe"
   ]
  },
  {
   "cell_type": "code",
   "execution_count": 278,
   "metadata": {},
   "outputs": [],
   "source": [
    "df_test = pd.read_csv('C:/Users/alta/Documents/GitHub/kaggle/test.csv')\n",
    "df_sub = pd.read_csv('C:/Users/alta/Documents/GitHub/kaggle/sample_submission.csv')"
   ]
  },
  {
   "cell_type": "code",
   "execution_count": 279,
   "metadata": {},
   "outputs": [],
   "source": [
    "tweets_test = df_test['message']"
   ]
  },
  {
   "cell_type": "code",
   "execution_count": 280,
   "metadata": {},
   "outputs": [],
   "source": [
    "tweets_test_clean = []\n",
    "\n",
    "from string import punctuation\n",
    "my_punctuation = punctuation.replace(\"'\", \"\")\n",
    "\n",
    "for x in tweets:\n",
    "    new = ' '.join(re.sub(pattern_tweets,\" \",x).split())\n",
    "    new1 = ' '.join(re.sub(pattern_url,\" \",new).split())\n",
    "    new2 = new1.translate(str.maketrans(\"\", \"\", my_punctuation))\n",
    "    new3 = ' '.join(re.sub(r'[^a-zA-Z]', \" \",new2).split())\n",
    "   \n",
    "    tweets_test_clean.append(new3)\n"
   ]
  },
  {
   "cell_type": "code",
   "execution_count": null,
   "metadata": {},
   "outputs": [],
   "source": [
    "tweets_test_en = []\n",
    "\n",
    "import nltk\n",
    "words = set(nltk.corpus.words.words())\n",
    "\n",
    "for x in tweets_test_clean:\n",
    "    new = \" \".join(i for i in nltk.wordpunct_tokenize(x) if i.lower() in words or not i.isalpha())\n",
    "    tweets_test_en.append(new)"
   ]
  },
  {
   "cell_type": "code",
   "execution_count": 281,
   "metadata": {},
   "outputs": [],
   "source": [
    "df_test['message'] = tweets_test_en"
   ]
  },
  {
   "cell_type": "code",
   "execution_count": 282,
   "metadata": {},
   "outputs": [],
   "source": [
    "#make lower case\n",
    "df_test['message'] = df_test['message'].str.lower()"
   ]
  },
  {
   "cell_type": "code",
   "execution_count": 283,
   "metadata": {},
   "outputs": [],
   "source": [
    "from sklearn.feature_extraction.text import CountVectorizer\n",
    "vect = CountVectorizer(ngram_range=(4,6), max_features=2000)\n",
    "\n",
    "X_stem_test = vect.fit_transform(df_test['message'])\n",
    "df_stem_test = pd.DataFrame(X_stem_test.A, columns=vect.get_feature_names())"
   ]
  },
  {
   "cell_type": "code",
   "execution_count": 298,
   "metadata": {},
   "outputs": [],
   "source": [
    "col_names_tokens = kbest.columns"
   ]
  },
  {
   "cell_type": "code",
   "execution_count": 299,
   "metadata": {},
   "outputs": [],
   "source": [
    "name_list = []\n",
    "\n",
    "for i in df_stem_test.columns:\n",
    "    if i in col_names_tokens:\n",
    "        name_list.append(i)"
   ]
  },
  {
   "cell_type": "code",
   "execution_count": 300,
   "metadata": {},
   "outputs": [],
   "source": [
    "missing = []\n",
    "\n",
    "for i in col_names_tokens:\n",
    "    if i not in name_list:\n",
    "        missing.append(i)"
   ]
  },
  {
   "cell_type": "code",
   "execution_count": 301,
   "metadata": {},
   "outputs": [],
   "source": [
    "complete_word_list = name_list + missing"
   ]
  },
  {
   "cell_type": "code",
   "execution_count": 302,
   "metadata": {},
   "outputs": [
    {
     "data": {
      "text/plain": [
       "1"
      ]
     },
     "execution_count": 302,
     "metadata": {},
     "output_type": "execute_result"
    }
   ],
   "source": [
    "len(missing)"
   ]
  },
  {
   "cell_type": "code",
   "execution_count": 303,
   "metadata": {},
   "outputs": [
    {
     "data": {
      "text/plain": [
       "19"
      ]
     },
     "execution_count": 303,
     "metadata": {},
     "output_type": "execute_result"
    }
   ],
   "source": [
    "len(name_list)"
   ]
  },
  {
   "cell_type": "code",
   "execution_count": 304,
   "metadata": {},
   "outputs": [
    {
     "data": {
      "text/plain": [
       "20"
      ]
     },
     "execution_count": 304,
     "metadata": {},
     "output_type": "execute_result"
    }
   ],
   "source": [
    "len(complete_word_list)"
   ]
  },
  {
   "cell_type": "code",
   "execution_count": 305,
   "metadata": {},
   "outputs": [
    {
     "data": {
      "text/plain": [
       "20"
      ]
     },
     "execution_count": 305,
     "metadata": {},
     "output_type": "execute_result"
    }
   ],
   "source": [
    "len(col_names_tokens)"
   ]
  },
  {
   "cell_type": "code",
   "execution_count": 313,
   "metadata": {},
   "outputs": [],
   "source": [
    "new_X = df_stem_test.reindex(columns = complete_word_list, fill_value=0)"
   ]
  },
  {
   "cell_type": "code",
   "execution_count": 314,
   "metadata": {},
   "outputs": [
    {
     "data": {
      "text/plain": [
       "20"
      ]
     },
     "execution_count": 314,
     "metadata": {},
     "output_type": "execute_result"
    }
   ],
   "source": [
    "len(col_names_tokens)"
   ]
  },
  {
   "cell_type": "code",
   "execution_count": 315,
   "metadata": {},
   "outputs": [
    {
     "data": {
      "text/plain": [
       "20"
      ]
     },
     "execution_count": 315,
     "metadata": {},
     "output_type": "execute_result"
    }
   ],
   "source": [
    "len(new_X.columns)"
   ]
  },
  {
   "cell_type": "code",
   "execution_count": 316,
   "metadata": {},
   "outputs": [],
   "source": [
    "y_pred = svc_kbest.predict(new_X)"
   ]
  },
  {
   "cell_type": "code",
   "execution_count": 317,
   "metadata": {},
   "outputs": [],
   "source": [
    "svc_final_df = pd.DataFrame()\n",
    "\n",
    "svc_final_df['tweetid'] = df_test['tweetid']\n",
    "svc_final_df['sentiment'] = y_pred"
   ]
  },
  {
   "cell_type": "code",
   "execution_count": 254,
   "metadata": {},
   "outputs": [],
   "source": [
    "svc_final_df.to_csv(r'C:/Users/alta/Documents/Explore/Trains/Sprint 6/kaggle/svc_kaggle_sumbmission.csv', index = False)"
   ]
  },
  {
   "cell_type": "code",
   "execution_count": 318,
   "metadata": {},
   "outputs": [
    {
     "data": {
      "image/png": "[encoded data removed]",
      "text/plain": [
       "<Figure size 432x288 with 1 Axes>"
      ]
     },
     "metadata": {
      "needs_background": "light"
     },
     "output_type": "display_data"
    }
   ],
   "source": [
    "svc_final_df['sentiment'].value_counts().plot(kind = 'bar')\n",
    "plt.show()"
   ]
  },
  {
   "cell_type": "code",
   "execution_count": 324,
   "metadata": {},
   "outputs": [
    {
     "data": {
      "text/plain": [
       "['europe will now be looking to china to make sure that it is not alone in fighting climate change…',\n",
       " \"combine this with the polling of staffers re climate change and womens' rights and you have a fascist state\",\n",
       " 'the scary unimpeachable evidence that climate change is already here itstimetochange climatechange ',\n",
       " \"putin got to you too jill  trump doesn't believe in climate change at all thinks it's s hoax\",\n",
       " \" 'female orgasms cause global warming' sarcastic republican\",\n",
       " ' trump muzzles employees of several gov’t agencies in effort to suppress info on climate change amp the environment …',\n",
       " 'yes wrote that in 3rd yr comp sci ethics part was told by climate change denying lecturer that i was wrong amp marked down',\n",
       " ' indonesian farmers weather climate change w conservation agriculture  …',\n",
       " ' british scientists face a ‘huge hit’ if the us cuts climate change research',\n",
       " 'aid for agriculture  sustainable agriculture and climate change adaptation for smallscale farmers via',\n",
       " 'there is no climate change globalists',\n",
       " 'biggest threat to our economy is climate change',\n",
       " \" he's ceo of a company that lied about climate change now he'll be secretary of state meet rex tillerson…\",\n",
       " ' venice could be swallowed by water within a century thanks to global warming',\n",
       " \"cardsmove 'it's so warm outside because of climate change' ha don't be naive we all know it's because the cubs are in the wsã¢â‚¬â¦\",\n",
       " \"niggas ask me what my inspiration was i told em global warming you feel me i'm too cozy\",\n",
       " \" we have a presidentelect who doesn't believe in climate change millions of people are going to have to say mr tã¢â‚¬â¦\",\n",
       " \" we welcome recommendations published by msps today to improve scotland's plan to tackle climate change scotclimate…\",\n",
       " \" midnovember amp it's hot as hell  but global warming is a hoax oh\",\n",
       " \"recordbreaking climate change pushes world into 'uncharted territory'  the guardian\",\n",
       " ' bigoilowned house science chairman gets heat in texas race for being a global warming skeptic',\n",
       " ' bill nye slams cnn for having climate change skeptic on air',\n",
       " 'michael moore calls trump’s actions on climate change ‘declaration of war’ eco green',\n",
       " \" we have a presidentelect who doesn't believe in climate change millions of people are going to have to say mr tã¢â‚¬â¦\",\n",
       " \"'s beforetheflood is such a masterpiece never knew so many things were associated with global warming\",\n",
       " \"pretty sure i saw an article saying that we'd get more global warming after brexit maybe it was on a bus\",\n",
       " 'i do believe in climate change so what is ackley are you referring to me being ignorant',\n",
       " 'makes a free movie to raise awareness about climate change',\n",
       " \" gov jerry brown warns trump that california won't back down on climate change\",\n",
       " ' ashby tries to divert questions away from culleton back to climate change journos persist roberts walks out',\n",
       " \"how to green the world's deserts and reverse climate change  allan savory via\",\n",
       " \" let's talk climate change\",\n",
       " ' photographer raises awareness for victims of climate change with epic shoot on a bed of lavaã¢â‚¬â¦',\n",
       " ' no matter how much democrats scream and lie and protest and spread their hatred the global warming scam will always be…',\n",
       " ' an entire canadian river vanished due to climate change researchers say',\n",
       " ' wow ã¢â‚¬å“you and your friends will die of old age and iã¢â‚¬â„¢m going to die from climate changeã¢â‚¬ï†\\x9d',\n",
       " ' i might get out tomorrow and enjoy the global warming',\n",
       " \" gov jerry brown warns trump that california won't back down on climate change\",\n",
       " ' same day koch operative pruitt takes down epa climate change site trump crosses off another koch wishlist item–exp…',\n",
       " ' a climate change skeptic says the united states is going to ã¢â‚¬å“shredã¢â‚¬ï†\\x9d the un climate agreement',\n",
       " 'trump taps climate change skeptic scott pruitt to head epa via',\n",
       " '  and speak about climate change and the global movement to stop it',\n",
       " \"incoming gop assemblyman believes climate change is good because it hurts 'our enemies'\",\n",
       " \" climate change isn't just about global warming it's also about extreme winter storms like stella\",\n",
       " \"dismissing the findings of 97 of climate change scientists is like dismissing the medical community's findings that smoking is bad for you\",\n",
       " \" we have a presidentelect who doesn't believe in climate change millions of people are going to have to say mr tã¢â‚¬â¦\",\n",
       " ' white house warns prince charles against ‘lecturing’ on climate change  new york post or what war with england https…',\n",
       " ' physicist  co2 does not cause climate change it responds to it  video',\n",
       " \"ottawa climate alarmists stop believing in fraud of global warming fat joe amp steve aoki called 'climate change expe s' …\",\n",
       " \" president trump's disappears civil rights climate change lgbt rights…\",\n",
       " \" millions of british aid 'wasted' on overseas climate change projects foreign aid renewable energ…\",\n",
       " ' gop can deny climate change they should stop worryingabout coal amp start pushing solar so coal miners can get work htt…',\n",
       " 'a third of the world now faces deadly heatwaves as result of climate change  climatechange',\n",
       " ' a new wave of state bills could allow public schools to teach lies about climate change via…',\n",
       " \"gary malcolm roberts with 77 votes takes aim at australia's over climate change\",\n",
       " \"remember they wanted lists of who worked on gender issues on climate change wanted names named here's why\",\n",
       " 'scientists who study climate change not scientists in general like you had said',\n",
       " \" it's currently 70 degrees and could snow tomorrow and sunday but global warming isn't real i promise\",\n",
       " 'blackmore not only a colossal windbag but a climate change denier i hope residents of jaywick and mersea are listening to owen…',\n",
       " ' much of the fertile land left in africa is deep in its rain forests farming there could accelerate climate change https…',\n",
       " \" 'we now have a president in america who does not believe in global warming' \",\n",
       " \" doug edmeades prof rowarth's partner in epa crime is an 'out' climate change denier surprise surprise ã¢â‚¬â¦\",\n",
       " 'so what are you doing about climate change',\n",
       " 'scott pruitt has spent his career denying the science of climate change he is a dangerous choice to run the epa',\n",
       " 'corals survived caribbean climate change',\n",
       " \" liberals think that 'the science is settled on global warming' yet they deny the science of chromosomes and gender https…\",\n",
       " 'scientists seek holy grail of climate change removing co2 from the atmosphere  cbs news',\n",
       " \"i bet you it's the same number that don't believe in climate change it's very scary they only believe him\",\n",
       " ' thanks for the insightful review amp your passion for nature and solving our climate change problems see photos atã¢â‚¬â¦',\n",
       " ' i guess there are some perks to global warming open beer gardens in february',\n",
       " ' because of climate change the us is relocating the entire town of isle de jean charles louisiana',\n",
       " \"teens suing us over climate change ask for exxon's 'wayne tracker' emails via\",\n",
       " \" chinese premier to trump 'fighting climate change is a global consensus it's not invented by china' …\",\n",
       " ' australian government today ratified the paris agreement reaffirming commitment to global action on climate changeã¢â‚¬â¦',\n",
       " \"truck 65 degrees in november this isn't awesome you morons earth is absolutely battered mate sorry climate change turns meã¢â‚¬â¦\",\n",
       " \" sharp changes due to cold fronts and low pressure systems isn't a direct relationship to climate changes …\",\n",
       " \" it's absolutely disgusting how big of a problem climate change it yet nobody seems to give a fuck\",\n",
       " 'solving climate change is a complex topic but in a single crude brus davidjcmackay quotes',\n",
       " ' epa chief scott pruitt says carbon dioxide is not a primary contributor to global warming …',\n",
       " ' bret stephens’ first new york times column is classic climate change denialism',\n",
       " 'a river in canada just turned to piracy because of global warming  popular science',\n",
       " ' watch beforetheflood right here as travels the world to tackle climate change httã¢â‚¬â¦',\n",
       " \" don't worry about global warming we're going to build a new earth a bigger earth it will be the best earth ever trumpnã¢â‚¬â¦\",\n",
       " \"fatih birol nytenergy ' 23 if the climate change will have to come from the energy sector france europe\",\n",
       " ' screw the left repeal ocare ignore their global warming religion limit immigration slash entitlements these pe…',\n",
       " 'check out these weather stories do not believe the global warming climate change stories sold by un vatican amp obama',\n",
       " ' the many many problems that a universal basic income can help solve from climate change to stress to inequality …',\n",
       " ' norwegian oil production and keeping global warming ‘well below 2°c’ by …',\n",
       " ' the calabar super highway creates challenges for climate change especially the tropical forest in the context of the transport…',\n",
       " ' if you agree we need to change climate change makeclimatematter',\n",
       " \" look forward to reading malcolm roberts' report into climate change though i hear some of the words in yellow crayon are hardã¢â‚¬â¦\",\n",
       " \" us won't budge on climate change despite indigenous groups and arctic nations' pleas\",\n",
       " 'scott pruitt climate change freakout calm down and carry on',\n",
       " ' the us is relocating an entire town because of climate change and this is just the beginning',\n",
       " \"us 'forces g20 to drop any mention of climate change' in joint statement\",\n",
       " ' to all still uninformed about climate change hoax top scientist resigns admitting global warming is a big scam https…',\n",
       " \" diplomats at the un global warming summit are very concerned about trump's stance on climate change\",\n",
       " ' latest reminder that solving climate change would be incomparably less expensive than living with it …',\n",
       " 'i just want to save the planet 😔 climate change is your problem too people',\n",
       " ' climatecentral cities from sydney to oslo are setting more ambitious targets to cut climate change than their nat… https…',\n",
       " \"soooo was there a search criterion here other than 'scientists who are unconcerned about climate change'\",\n",
       " ' i suppose it was climate change that hit galveston in 1900 and left up to 12000 dead these people…',\n",
       " 'we had a way to get our guys into orbit ares v would have flown already priority has been on global warming sats',\n",
       " \" steve bannon means bye bye to the climate change scheme we're spending 22000000000 a year on for 'research' ã¢â‚¬â¦\",\n",
       " 'call a huge thank you to the thousands of people all over the world who stood for landrightsnow to fight climate change http…',\n",
       " 'nor have you looked at the scientific research on climate change',\n",
       " 'i actually like hilary because she endorses alternative energy donald says climate change is a hoax by the chinese',\n",
       " 'times trump administration disbands federal advisory committee on climate change',\n",
       " ' watch beforetheflood right here as travels the world to tackle climate change httã¢â‚¬â¦',\n",
       " \" we have a presidentelect who doesn't believe in climate change millions of people are going to have to say mr tã¢â‚¬â¦\",\n",
       " ' we need a healthy ocean to fight climate change register your commitments to saveourocean …',\n",
       " \"it is a hoaxhasn't been any global warming in 17 yearsfact\",\n",
       " \"here's what president trump's executive order on climate change means for the world by cnn…\",\n",
       " 'verbeek �� jane goodall calls trump’s climate change agenda ‘immensely depressing’ climate…',\n",
       " ' stop global warming i donã¢â‚¬â„¢t look good in shorts',\n",
       " 'german economy minister blocks agreement on climate change plan by markus wacket  november 9 2016 reuters germa…',\n",
       " \" 5 as a party the gop is untethered to reality there is no 'debate' about whether climate change is real but most republic…\",\n",
       " 'state crowding out lowcarbon alternatives that are critical to avoid dangerous climate change climatechange',\n",
       " \"it's a freak occurrence affecting people who never get asthma becoming common in victoria due to climate change effects\",\n",
       " ' as far as i can tell nobody other than the journalist is claiming this to be due to global warming …',\n",
       " \"uk holy see calls for 'intergenerational solidarity' to deal with climate change  independent catholic news …\",\n",
       " ' happy ã°å¸â€™â‚¬ã°å¸å½æ’ã°å¸â€¢â¸ want to see something truly scary amp made a great documentary about global warming httpã¢â‚¬â¦',\n",
       " 'to the left wing lunatics promoting global warming go look outside dummies solareclipse2017',\n",
       " \"sister and his views on the pipelines climate change issues is endgame for me i can't do it\",\n",
       " 'footballs trump has asked for lists of names of climate change scientists women’s rights advocates amp now antiterror officials…',\n",
       " 'an antarctic volcano caused rapid climate change at the end of the last ice age',\n",
       " \" this 'to find solutions to climate change we have to look at the bigger picture' ã¢â‚¬â¦\",\n",
       " 'fire the bumsthat will give them a little climate changeno more tax payer funded incomes for fakenews source…',\n",
       " ' predicting climate change 100 years ago actonclimate climatechange https…',\n",
       " \"wbusch reminder everyone extreme heat events are becoming much more frequent due to the climate change we've caused we…\",\n",
       " 'agree people claiming co2 is positive for plants amp global warming is good are absurd limited effect in some cases…',\n",
       " ' do you believe in global warming rt after voting',\n",
       " \"if you haven't watched climate change documentary 'before the flood' you have to he knows what he's fighting for ã°å¸å’ï†\\x8dã°å¸å’ï†\\x8fã°å¸å’å½ã°å¸å’â³ã°å¸å’â²\",\n",
       " 'no shortcuts fight climate change for real go solar ã°å¸â€™å¡ã°å¸å’å½ã¢å“â€¦ cleanenergy renewables protectmotherearth',\n",
       " 'marrakech test for momentum to fight climate change',\n",
       " ' hrc proposes installing half a billion solar panels by the end of her first term trump thinks climate change is a hoaxã¢â‚¬â¦',\n",
       " 'centrica is a world leader for action on climate change ',\n",
       " \" she's thinking about how she's going to die because your husband doesn't believe in climate change ã¢â‚¬â¦\",\n",
       " ' how do they expect us to care about global warming with all this penguin on penguin crime',\n",
       " \" 'one issue your greatgreatgreat grandchildren will talk about in reference to the trump years is climate change' ã¢â‚¬â¦\",\n",
       " 'once you start to look into the guts of climate change you find th petergarrett quotation',\n",
       " \"if the website goes dark years of work we have done on climate change will disappear' says anonymous epa staffer\",\n",
       " \" china tells trump climate change isn't a hoax it invented\",\n",
       " \"this sounds exactly like his 'china made up global warming' tweet\",\n",
       " 'nature not humaninduced climate change could be cause of up to half of arctic sea ice loss ',\n",
       " ' its 2017 and we are about to give dup power dup who are  antiabortion  antilgbt rights  climate change deniers',\n",
       " \"i'm wearing a flight jacket in february in nyc life's good or global warming 🤷🏻\\u200d♀️\",\n",
       " 'rising conservative voices call for climate change action',\n",
       " \"after a really wellwritten article on huffington post i'm now 100 convinced mankind causes global warming\",\n",
       " \"realizing i can't even make small talk about the weather because then i'll just go off on global warming\",\n",
       " 'climatechange the drum how twitter and carbon brief are helping climate change scientists… …',\n",
       " 'luca just a reminder global warming is not a political argument but a fact to which we must react with global policies httpsã¢â‚¬â¦',\n",
       " ' how to import 100 years of eurpoean climate change data into r rstats',\n",
       " 'al gore offers to work with trump on climate change good luck with that  the washington post',\n",
       " ' imvotingbecause the future of the planet is at stake hillary clinton will combat climate change donald trump thinks iã¢â‚¬â¦',\n",
       " ' how about every time someone participates in a bernie vs hillary argument you talk about climate change',\n",
       " \"doctor if you don't change your ways you'll die young me thinking of the horrors of climate change awaiting us that's the idea\",\n",
       " ' docs say climate change makes americans sicker while gop takes away healthcare and ignores climate …',\n",
       " ' polar vortex shifting due to climate change extending winter study finds  the washington post',\n",
       " \"and then i remembered global warming never mind i'm packing flip flops\",\n",
       " \" in the era of climate change egypt's farmers are learning how to adapt to their drying land https…\",\n",
       " \" she's thinking about how she's going to die because your husband doesn't believe in climate change ã¢â‚¬â¦\",\n",
       " 'ward in the age of trump a climate change libel suit heads to trial',\n",
       " ' more proof climate change does exist as hell has frozen over great to see will do this a cant mis…',\n",
       " ' internationalforestday kelp forests are disappearing due to climate change soskelps intforestday ��kyle mcburnie …',\n",
       " \" 'the concept of global warming was created by and for the chinese in order to make us manufacturing noncompetitiã¢â‚¬â¦\",\n",
       " \"if we subsidized the switch to clean energy as much as we subsidize big oil we could easily slow or halt climate change why aren't we\",\n",
       " ' global warming is fake world leaders duped by manipulated global warming data via',\n",
       " ' covering disasters like harvey while ignoring climate change fails in the most basic duty of journalism …',\n",
       " ' a state lawmaker in maine has introduced a bill that would affirm climate change denial as free speech in the state http…',\n",
       " ' a new study provides a solid evidence for global warming',\n",
       " \" a head of veteran affairs that's not a vetan anti climate change person to head the epaan anti public school person to look…\",\n",
       " ' how do you visualize climate change for 8 stories in 5 countries a nyt photographer captured aerial views…',\n",
       " ' scientists copy climate change data in fear of a trump crackdown',\n",
       " ' so far so good  maga  dismantling climate change initiatives  extreme vetting enforcing regulatory reform  protect…',\n",
       " \" if we don't address climate change there'll be more conflict over limited resources we must listen to scientists not fossiã¢â‚¬â¦\",\n",
       " ' how climate change is changing the landscape of  ahead on  saturday …',\n",
       " \" i have a soft spot for animals and nature that's why i firmly believe in climate changeclimateaction🐼🐻🐝🐠🐚🌷🍀🌎\",\n",
       " \" 'manmade climate change is real with 'no room for doubt' say experts'  mail on sunday …\",\n",
       " \" please compare coverage of 'email' nonsense with climate change russian gaming of election get back to meã¢â‚¬â¦\",\n",
       " ' by threatening basic human needs climate change will be a catalyst for instability migration and conflict …',\n",
       " \" the problem with ny times and climate change isn't what you think\",\n",
       " ' trump administration begins altering epa climate change websites',\n",
       " ' in generational shift college republicans poised to reform party on climate change reuters en…',\n",
       " 'christiana figueres former head of the un climate change body on climate action that is already showing',\n",
       " 'its possible he may be right about climate change but then again its possible he would have been 242 ripped withouã¢â‚¬â¦',\n",
       " \"so scary to think that global warming is happening quickly amp our current president doesn't even acknowledge this prob uwleng110\",\n",
       " \" if global warming doesn't exist then why is club penguin shutting down\",\n",
       " 'is carbon dioxide a major contributor to global warming',\n",
       " ' how climate change is threatening american agriculture',\n",
       " ' reindeer shrink as climate change in arctic puts their food on ice',\n",
       " ' poor countries suffer most from climate change sadly no surprise there new map shows impact on debt defaultã¢â‚¬â¦',\n",
       " ' country with the 2nd highest greenhouse gas emissions on the planet just elected a climate change denier as president ã¢â‚¬â¦',\n",
       " \" you can now figure out how much you're contributing to climate change\",\n",
       " 'the kids suing the government over climate change are our best hope now via',\n",
       " \"earthtomarrakech cop22's digital calltoaction on climate change soloconectate\",\n",
       " ' like it or not humanity will remain globally connected facing common problems like climate change and terrorism …',\n",
       " \"   'perhaps senator rice can enlighten us as to which piece of anatomy really does cause climate change'\",\n",
       " ' climate researchers cancel expedition after climate change makes conditions too dangerous …',\n",
       " 'this is really bad news about the effects of unchecked global warming good reading well researched',\n",
       " 'friends voting trump do you also not believe in global warming or do you just find other issues to be more important genuinely curious',\n",
       " \" white house claims president trump’s views on climate change are 'evolving' although they're currently at singlecelled…\",\n",
       " 'palace to study ph move on climate change deal placating ramos after his blast of duterte',\n",
       " 'no more coffee cuz of global warming how am i suppose to drink my whiskey in the morning plain like some kinda alcoholic',\n",
       " \" sanders tears into epa head for saying co2 isn't a 'primary contributor' to climate change …\",\n",
       " \"sheila gunn reid's reports from the un climate change convention in morocco\",\n",
       " \" most wood energy schemes are a 'disaster' for climate change tells on new report …\",\n",
       " \"a state dept climate change page has changed providing another clue about trump's approach to climate change…\",\n",
       " ' this is the brilliant mind people were counting on to persuade trump not to pull out of the paris climate change ac…',\n",
       " ' sweet to go from a president who said climate change is biggest threat to world peace to trump who recognizes amp acts upo…',\n",
       " 'usda will reprioritize 43 million for safety amp restoration efforts in ca but says limited resources amp climate change limit efforts 22',\n",
       " 'it is happening now millions of humans are forced to flee armed conflicts climate change inequalities and',\n",
       " ' trump said climate change is a hoax then warned of its dire effects in app to build sea wall at irish golf course ht…',\n",
       " ' by far the largest issue our generation faces is climate change amp we just elected someone who thinks it was conjured upã¢â‚¬â¦',\n",
       " \" but if he doesn't combat global warming there won't be any more snowflakes to make fun of\",\n",
       " ' denying evidence of climate change is like finding odd spots in your intimate regions and denying that genital herpes…',\n",
       " ' spring came early this year – it’s no surprise that climate change is the culprit',\n",
       " \" she's thinking about how she's going to die because your husband doesn't believe in climate change ã¢â‚¬â¦\",\n",
       " \" don't believe global warming is a real thing take a look at this\",\n",
       " 'how do we get to believe in climate change beforetheflood',\n",
       " ' in rare move china criticizes trump plan to exit climate change pact',\n",
       " '12 economic facts on energy and climate change via the hamilton project universityofchicago brookings',\n",
       " 'trump admits climate change is real in application for sea wall to protect his golf course',\n",
       " ' donald trump refused to believe scientists so they sent in leonardo dicaprio to educate him on climate change and environmen…',\n",
       " ' trump trying to speak on climate change  classic trump word salad take a look at this exchange with nyt …',\n",
       " ' the mental health implications of climate change',\n",
       " \"they all get to die of old age when we'll die from climate change\",\n",
       " 'india asks developed countries to provide finance tech support to developing nations to tackle climate change thrã¢â‚¬â¦',\n",
       " ' gov moonbeam burdens poor with higher taxes to solve the imaginary problem of global warming',\n",
       " ' monster snowstorm in colorado forces postponement of climate change amp global warming rally https…',\n",
       " ' have any of you ever done a story on geoengineering and how it relates to climate change',\n",
       " ' china is now explaining the history of climate change sciencepolitics 2 underscore to trump they didnt do a hoax godã¢â‚¬â¦',\n",
       " 'trump talks climate change with leo dicaprio rednationrising',\n",
       " 'al i might be related to wright brothers and i think i just solved global warming i sent emails to everyone',\n",
       " ' harvey should be the turning point in fighting climate change',\n",
       " 'when are we gonna stop just talking about climate change and actually do something about it',\n",
       " \" 'planetary health' calls for addressing nexus of human health environmental sustainability amp climate change…\",\n",
       " \" we have a presidentelect who doesn't believe in climate change millions of people are going to have to say mr tã¢â‚¬â¦\",\n",
       " 'food security and climate change',\n",
       " 'cdc’s canceled climate change conference is back on — thanks to al gore',\n",
       " ' florida faces one of the largest hurricanes in history  and its state government is run by climate change deniers https…',\n",
       " 'spas el niño on a warming planet may have sparked the zika epidemic scientists report  washington post…',\n",
       " ' sudan farmers work 2 save soils as climate change brings desert closer  …',\n",
       " ' long ago blatantly stated the truth about their purpose and that of climate change globalwarming…',\n",
       " \"gop senator on climate change 'mankind has actually flourished in warmer temperatures'  via\",\n",
       " ' in the netherlands climate change is not a hypothetical or a drag on the economy it’s an opportunity …',\n",
       " 'first on twitter  4 results of the united nations climate change conferences held in marrakech morocco ',\n",
       " 'how climate change will stress the grid and what isos are doing about it',\n",
       " 'thanks ã°å¸ëœâ¢ im not dumping him over global warming but ya know',\n",
       " ' political leaders in sweden take steps to actually address climate change not dismiss it as a hoax created by china',\n",
       " ' e ã°å¸ëœï†\\x90 reagan believed in climate change lincoln fought for civil rights wash was actually in an armed revolutã¢â‚¬â¦',\n",
       " ' wereldwijd veel meer windmolens  minder global warming  minder zeespiegelstijging  minder windmolens op zee …',\n",
       " ' stopping global warming is the only way to save coral reefs',\n",
       " 'xrim money business how do you save lady liberty from climate change — climate chang…',\n",
       " 'coolidge 11302015 ibt cop21 full speech by prince charles to delegates at climate change talks in paris',\n",
       " 'i just joined in combating climate change take action beforetheflood',\n",
       " 'trump argues that reality of climate change depends on how much it might cost business',\n",
       " ' watch beforetheflood right here as travels the world to tackle climate change httã¢â‚¬â¦',\n",
       " \"writing about global climate change i'm going awff\",\n",
       " 'farmers may see climate change as a seasonal issue not longterm need awareness to trigger behavioral change',\n",
       " ' environment conservation science us needs to lead the way in combating climate change  fourã¢â‚¬â¦',\n",
       " ' harvey is what we can expect from the future of climate change and american infrastructure is grossl…',\n",
       " \"one example was new york's gov declaring that sandy was a response to climate change with no clear evidence\",\n",
       " 'information is beautiful extreme global warming solutions currently on the table',\n",
       " \"hello today i'm going to talk about global warming i will talk about the definition of global warming current situation\",\n",
       " \"i'm jordan 14 years of agei care about climate change i've been learning about it at my school and it's a really big problem\",\n",
       " ' depression anxiety ptsd the mental impact of climate change',\n",
       " ' imvotingbecause the future of the planet is at stake hillary clinton will combat climate change donald trump thinks iã¢â‚¬â¦',\n",
       " 'want to help with conservation climate change etc �� govegan',\n",
       " \"tanya 'nicholas stern cost of global warming ‘is worse than i feared’'\",\n",
       " ' the descent into trumphell begins  chooses top climate change skeptic to lead environmental protection agency ã¢â‚¬â¦',\n",
       " 'be careful lyin’ ted cruz just used a man i have so powerful that politics is a great wall – we need global warming i’ve',\n",
       " 'greenleft divorced arguments over global warming from evidence amp science to push windsolar solution against nuclear foolish',\n",
       " \"urban 'the real challenge is not climate change but mind change' de wakeup call van thomas rau van architects bij…\",\n",
       " 'gt trump taps climate change skeptic scott pruitt to head epa via',\n",
       " ' this is who was elected president a man who believes global warming is a hoax perpetuated by the chinese ã¢â‚¬â¦',\n",
       " ' as the earth gets hotter the mass media coverage of climate change gets colder',\n",
       " ' in the new new world china lectures the united states about climate change and the importance of cooperation betweã¢â‚¬â¦',\n",
       " \" she's thinking about how she's going to die because your husband doesn't believe in climate change ã¢â‚¬â¦\",\n",
       " \" imagine if you will a world where the media covered climate change the way it covers hillary's emailsã¢â‚¬â¦\",\n",
       " \" gov jerry brown warns trump that california won't back down on climate change\",\n",
       " ' global warming really doing crazy things  how is the dmv having 70 degree weather in early february ',\n",
       " \"china to trump we didn't make up climate change  los angeles times\",\n",
       " \" she's thinking about how she's going to die because your husband doesn't believe in climate change ã¢â‚¬â¦\",\n",
       " \" good point is the candidate who might end global warming by bringing us nuclear winter don't beã¢â‚¬â¦\",\n",
       " ' recordbreaking climate change pushes world into ‘uncharted territory’',\n",
       " 'we need to educate local communities about climate change amp local strategies to tackle it mr mungwe saiia',\n",
       " \"wow it speaks sad that poster child of 'white privilege' is so pathetic diabetes caused by 'climate change'yikes\",\n",
       " ' peatland restoration plan to cut climate change gas emissions peat scotland climate …',\n",
       " \" i don't know how to convince someone climate change poses an existential threat to humanity without news stories or stat…\",\n",
       " 'but climate change is a total hoax',\n",
       " 'future generations will study how inbred morons in the south and midwest elected a man who denied global warming in 2016',\n",
       " ' scott pruitt’s office deluged with angry callers after he questions the science of global warming',\n",
       " ' the rockefeller family have a secret “climate change” plan they are trying to force on the country',\n",
       " ' nearly all coral reefs will be ruined by climate change environment climatechange …',\n",
       " ' president trump plans to cut funding for programs fighting climate change',\n",
       " \"gonna tell adrean this proves global warming don't exist\",\n",
       " 'oh yeah global warming is destroying us dead ass',\n",
       " \" she's thinking about how she's going to die because your husband doesn't believe in climate change ã¢â‚¬â¦\",\n",
       " 'election2016 snobs rigged strongertogether debate climate change is directly related to global terrorism',\n",
       " \"i'm a believer in climate change brian but you work against changing minds comparing short term forecast…\",\n",
       " ' how can anthony scaramucci represent administration when he believes in climate change marriage equality and is prochoic…',\n",
       " \"bet my bottom dollar that the 'climate change' beloved of establishment 'scientists' has the politicallycoded impl…\",\n",
       " \"on climate change and the economy we're trapped in an idiotic netherworld  greg jericho we must drop stupidity\",\n",
       " 'epa chief scott pruitt doubts carbon dioxide the main culprit in global warming',\n",
       " 'ritter last night called out the ipa for their destructive nonsense on global warming right there on qanda httpsã¢â‚¬â¦',\n",
       " \" it's okay jets and cars don't cause global warming relax\",\n",
       " 'importance of climate change emergency prep work',\n",
       " ' good news we might all die from infections before global warming gets us',\n",
       " ' the whitehouse is being filled with creationist climate change deniers but on the plus side god will give your grandchilã¢â‚¬â¦',\n",
       " ' toxic air is bigger threat to plants than climate change',\n",
       " \"i'd love to see dumb nation's royal commission on climate change judges are trained to evaluate evidence\",\n",
       " 'soils help to combat and adapt to climate change by playing a key role in the carbon cycle via',\n",
       " ' system change  not climate change the scientist promoting radical climate action and a marshall plan for climate…',\n",
       " 'describes the global warming supporters actuallygtgt',\n",
       " ' china is now explaining the history of climate change sciencepolitics 2 underscore to trump they didnt do a hoax godã¢â‚¬â¦',\n",
       " 'anybody who denies climate change an existential threat to our society is not qualified to lead at all at any social level',\n",
       " \" we have a presidentelect who doesn't believe in climate change millions of people are going to have to say mr tã¢â‚¬â¦\",\n",
       " 'great sat night documentary to watch had no idea the impact of beef consumption on climate changebeforetheflood',\n",
       " 'googlehere is the worst defense of climate change skepticism that you will ever see  washington post',\n",
       " 'anymeans1 prayers are nice but combatting climate change is what reality matters',\n",
       " 'very important thread about climate change 👇👇',\n",
       " \"it's already happening hundreds of animals plants locally extinct due to climate change\",\n",
       " ' no snow where there should be bleached anemones cracks in the ice this is what climate change looks likeã¢â‚¬â¦',\n",
       " 'cnn news services pivots on climate change',\n",
       " 'ip they need to move relocate the coastal waters are going to continue to rise with global warming and…',\n",
       " 'the left and right agree fox news destroyed epa chief scott pruitt over climate change',\n",
       " 'you need to understand climate change is fact not fiction',\n",
       " ' fwiw we have probably lost the battle against climate change tonight',\n",
       " ' the challenge is to think of modern ‘missions’ eg around climate change and ’care’ a new ‘direction’ for innovat…',\n",
       " 'in rare move china criticizes trump plan to exit climate change pact politics news',\n",
       " 'top story on climate change scott pruitt causes an uproar — and contradicts t… see more',\n",
       " 'foodtank the futureoffoodorg amp barillacfn bring together diverse voices to discuss climate change and our food sy…',\n",
       " 'hey monty saw your tweet yep global warming is freezing us to deathcycle of earths climatesmiles',\n",
       " ' vault built to protect seeds from worldending scenarios gets flooded after climate change melts ice ❄️ hear more…',\n",
       " \" most americans want 'aggressive' action on climate change reutersipsos poll\",\n",
       " \"imariajohnsen shirleyst i suggest to create a section about climate change they're removing information about it so it's a hot topic to…\",\n",
       " 'humans stay shooting themselves in the foot maybe global warming is inevitable itã¢â‚¬â„¢s the end of the this global weather era too lol',\n",
       " ' why would you leave an entire country in the hands of a man who thinks global warming is a hoax created by china httpsã¢â‚¬â¦',\n",
       " ' without action on climate change say goodbye to polar bears',\n",
       " \" with epa chief deny㏌g basic scientiﬁc consensus around co2 caused climate change i'm ready to prote…\",\n",
       " 'i remember reading a climate change impact card with wildfires as one scenario i always thought it was…',\n",
       " ' g20 summit shows trump took us from first to worst on climate change in under a year',\n",
       " 'pm nawaz orders disbursement of rs 553m across pakistan to fight climate change',\n",
       " ' i am a climate change denier how long should i spend in jail for my heresy caring',\n",
       " 'blaming everything on global warming',\n",
       " \" somewhere in the antiscience 'debate' on climate change we seem to have forgotten eg acidrain poisonous algae boom statue…\",\n",
       " ' irony florida a state in danger of being washed away due to rising sea levels just elected a guy who denies climate changeã¢â‚¬â¦',\n",
       " ' macron invites american climate change scientists to come do their research in france',\n",
       " 'president has not been honest in acknowledging limitations of his commitment to the paris climate change agreement',\n",
       " ' twelve of our globalgoals are directly linked to climate change the parisagreement is essential for their succesã¢â‚¬â¦',\n",
       " 'as thatcher understood conservatives are not the true climate change deniers  john gummer the guardian world new…',\n",
       " \"um monthly temperature averages are always brought to you by 'climate change'\",\n",
       " ' now is the time for governments businesses amp individuals to start taking climate change seriously and react by lawã¢â‚¬â¦',\n",
       " ' humans on the verge of causing earth’s fastest climate change in 50m years poking an angry bear�� auspol springst https…',\n",
       " \" ��fuck global warming my neck is so frio i'm currently lookin' for 95 leo��\",\n",
       " \" if global warming was a real problem climate scientists wouldn't have to cheat lie and tamper with data\",\n",
       " \"dicaprio's climate change doc wants alberta to feel very very bad via\",\n",
       " \"when will you acknowledge the possibility that climate change is a real thing and it's negativelyã¢â‚¬â¦\",\n",
       " ' architects are helping cities proactively address the possible dangers from catastrophic climate change impact…',\n",
       " \" as negotiations over the world's biggest trade deal are set to begin canada wants climate change added …\",\n",
       " 'from  blue states and cities are pulling an end run around trump on climate change…',\n",
       " 'thank god global warming isnt real',\n",
       " 'niggas ask me what my inspiration is i tell em global warming',\n",
       " 'prince charles coauthors ladybird climate change book',\n",
       " 'this device could read the story of climate change denier try focusing on solutions',\n",
       " ' shortsighted budget 2017 ignores health impacts of climate change',\n",
       " ' trump named an epa head who is suing the epa on climate change how is meeting w al gore and leonardo dicaprio gonna hel…',\n",
       " ' while on one hand centre speaks of paris agreement and our commitment to fighting climate change locally we damage aarey…',\n",
       " 'scottish parliament committees question ambition of draft climate change plans  holyrood magazine  ',\n",
       " 'you mean global warming really is fake',\n",
       " \"the reply to that tweet joking that it's due to climate change and uv radiation ��\",\n",
       " ' climate p2 energy department closes office working on climate change abroad tcot 2a https…',\n",
       " ' what we do and don’t know about the southeast wildfires and climate change',\n",
       " \"i see canada is not ready for global warming all i see is fire and we are using old planes that can't keep up sad \",\n",
       " 'and according to climate change is just a hoax what a fucking moron',\n",
       " 'america retweet if you know climate change is caused by humans amp that we need to work towards transforming our energy system a…',\n",
       " \" recent quinnipiac poll 73 of public concerned about climate change trump response ban the phrase 'climate change' ht…\",\n",
       " \"su jules you're a couple hundred yrs late to worry about climate change manup amp accept th…\",\n",
       " \" hurricane irma coming on the heels of harvey shows that climate change is not a political issue it's a humanitarian one\",\n",
       " \" we have a presidentelect who doesn't believe in climate change millions of people are going to have to say mr tã¢â‚¬â¦\",\n",
       " 'cities best armed to fight climate change un climate chief  reuters',\n",
       " 'the us has the most people that believe in angels in the world yet global warming is too ridiculous of a concept for our new leaders',\n",
       " ' trump forced un to stop making it compulsory for nations to contribute funding to global climate change programs https…',\n",
       " \"aid paris agreement shows 'on climate change we actually are witnessing an era of global cooperation and consensus' httpsã¢â‚¬â¦\",\n",
       " 'doctors warn climate change threatens public health by sciam via',\n",
       " ' rahm emanuel revives deleted epa climate change webpage',\n",
       " ' the 3 of scientific papers that deny climate change a review found them flawed climatechange sustainability https…',\n",
       " 'canada’s permafrost is collapsing thanks to climate change via',\n",
       " ' in full page ad in nyt in 2009 called for urgent action on climate change which does he believe httã¢â‚¬â¦',\n",
       " ' hopes of mild climate change dashed by new research climatechange environment …',\n",
       " \" she's thinking about how she's going to die because your husband doesn't believe in climate change ã¢â‚¬â¦\",\n",
       " \" “saying i didn’t know or i was just following orders doesn’t cut it we’re talking about runaway climate change' be…\",\n",
       " \"doomsday narratives about climate change don't work but here's what does  victoria herrmann\",\n",
       " ' hrc proposes installing half a billion solar panels by the end of her first term trump thinks climate change is a hoaxã¢â‚¬â¦',\n",
       " 'one of the most troubling ideas about climate change just found new evidence in its favor',\n",
       " \"pope orthodox leader make climate change appeal to 'heal wounded creation'\",\n",
       " ' imvotingbecause the future of the planet is at stake hillary clinton will combat climate change donald trump thinks iã¢â‚¬â¦',\n",
       " 'russian president vladimir putin says climate change good for economy',\n",
       " \" the psychological effects of climate change include 'pretraumatic stress disorder' says lise van susteren …\",\n",
       " 'this obstreperousness from the panjandrums of the scientific establishment elides the query if climate change is…',\n",
       " \" reutersipsos 72 of americans want 'aggressive action' on climate change but 'few see it as a priority'\",\n",
       " ' the presidentelect of the united states of america on climate change',\n",
       " ' seriously concerning hope we can raise climate change again on the political agenda asap',\n",
       " ' us is only nation to object to g20 climate change statement',\n",
       " \"judge in environmental activist's trial says climate change is matter of debate\",\n",
       " ' us withdrawal from climate change agreement should a trigger worldwide boycott of us goods',\n",
       " ' gore left wh worth 500k now with climate change scam 150 million amp buying beach front property after…',\n",
       " \" she's thinking about how she's going to die because your husband doesn't believe in climate change ã¢â‚¬â¦\",\n",
       " ' with trump as president chinaã¢â‚¬â€\\x9dchinaã¢â‚¬â€\\x9dwill be the worldã¢â‚¬â„¢s biggest champion of fighting climate changeã¢â‚¬â¦',\n",
       " \"science guy's climate change consequences ice age averted britain got a new wine industry white house leaks\",\n",
       " \" if global warming isn't real why did club penguin shut down\",\n",
       " ' hillary understands climate change is real and creating devastating problems trump believes we should expand fossil fueã¢â‚¬â¦',\n",
       " \"may i ask 'can you supply just one paper that proves climate change is real'\",\n",
       " ' donald trump called global warming ã¢â‚¬å“very expensivebullstã¢â‚¬ï†\\x9d which is also the motto for trump university lssc hã¢â‚¬â¦',\n",
       " \" ocean heatwave destroys tasmania's unique underwater jungle  climate home  climate change news via…\",\n",
       " ' on virtually every major issue ã¢â‚¬â€\\x9d raising the minimum wage climate change pay equity for women ã¢â‚¬â€\\x9d we are the majority',\n",
       " \" she's thinking about how she's going to die because your husband doesn't believe in climate change ã¢â‚¬â¦\",\n",
       " '  is ‘uncomfortable’ with pruitt stance on climate change and with enviros rejecting nuclear power …',\n",
       " ' cop7fctc banning ecigs at a tobacco control conference makes as much sense as banning wind power at a climate change conã¢â‚¬â¦',\n",
       " 'vatican urges trump to reconsider climate change position by reuters via',\n",
       " ' energy secretary rick perry just denied that humans are the main cause of climate change',\n",
       " 'these people are hysterical at this point there are two sides of the climate change debate scientists vs lobbyis…',\n",
       " \"oh they'll piss amp moan about funding va amp the vets embassies education climate change studiesetc but can fundã¢â‚¬â¦\",\n",
       " ' tonight at 1715 at durham uni lecture on climate change amp greenland ice sheet ã¢â‚¬â¦',\n",
       " ' ouijagame i am bored i would like to talk about global warming',\n",
       " \" let's see them prove climate change now iceberg sinks\",\n",
       " 'how bad will climate change have to get before you realise your mistake i wonder that will be a terrible day for you i think',\n",
       " \" trump's energy sec just denied that manmade carbon dioxide is the main driver behind climate change …\",\n",
       " 'said best hope climate change is man made so we can fix it with sustainable renewables',\n",
       " \" our president doesn't believe in global warming so we're all doomed regardless\",\n",
       " \"two climate sceptics to head epa amp energy in trump's cabinet what will this mean in the fight against climate change ajnewsgrid\",\n",
       " 'fake news global warming lies',\n",
       " 'you are so hot that scientists now blame you for global warming kateuptonmoveover awesomebeauty',\n",
       " \"river piracy' is the latest weird thing to come out of climate change\",\n",
       " \"they don't believe in climate change for a start\",\n",
       " ' “repeat after me carbon pollution is causing climate change” by',\n",
       " ' for colombia the rain bombs of climate change fell in the dark of night  http…',\n",
       " ' in several decades water may well be at this level every day and much higher in storms due to climate changeã¢â‚¬â¦',\n",
       " ' shes thinking about global warming tell your husband',\n",
       " ' women play a critical role in leading progress on public health climate change economic development and more…',\n",
       " \"ice trump cannot be allowed to block action on climate change don't letã¢â‚¬â¦\",\n",
       " 'everglades restoration report shows success but climate change remains a challenge  eurekalert',\n",
       " \"paunescu whatever i don't come on twitter to argue with climate change deniers ã°å¸â„¢â€ž monitoring the environment is my job so bye ã°å¸â€˜â€¹ã°å¸ï†\\x8fâ»\",\n",
       " \"defy 'stalinist' global warming rules says trump's economic adviser\",\n",
       " ' businessasusual climate change is heading for 4ã‚â°c or more warming by 2100 which will create a world of growing uninhabiã¢â‚¬â¦',\n",
       " ' i wish instead of global warming we had global cooling bc i hate the heat i know this tweet might be dumb but idc hate…',\n",
       " 'about global warming',\n",
       " \" she's thinking about how she's going to die because your husband doesn't believe in climate change ã¢â‚¬â¦\",\n",
       " ' arctic climate change study canceled due to—wait for it—climate change',\n",
       " \"new york ag sec of state tillerson used pseudonym 'wayne tracker' to discuss climate change while ceo of exxon…\",\n",
       " 'nj republican rebukes trump on climate change jonathan d salant   rep frank lobiondo…',\n",
       " \" lmfao global warming is gonna kill us but these mimosas and day parties in february ain't gonna attend themselves\",\n",
       " \" we'll never tackle climate change nuclear weapons will proliferate and science will stagnate but bros are m…\",\n",
       " ' in full page ad in nyt in 2009 called for urgent action on climate change which does he believe httã¢â‚¬â¦',\n",
       " 'so you support this science which is just as real as climate change you are some special hypocrite impeachtrump',\n",
       " \" amp donald trump wants you know this proves nasa's part of that whole chinese climate change hoax\",\n",
       " 'world leaders duped by manipulated global warming data via',\n",
       " ' the environment is going to take massive hits at a time when the evidence of climate change is right before our eyes httpsã¢â‚¬â¦',\n",
       " 'global warming will cause more snowstorms do you even science bro heat mixes with oh just forget it',\n",
       " ' the female mayors taking on climate change via women4climate …',\n",
       " 'diverted 2000 head of csiro said all 5 computer models had failed on global warming not even a 1c rise 200y',\n",
       " 'industry doc leaked in 1991 revealed aim to “reposition global warming as theory not fact”',\n",
       " \" inside one republican's attempt to shift his party on climate change\",\n",
       " ' important article on need 2 not make nodapl just about climate change thus erasing the struggle for native rightsã¢â‚¬â¦',\n",
       " ' corporations deny existence of climate change greenhouse gas emissions environmental racism etc in an effort 2 preserve…',\n",
       " 'trump seems to be changing his mind on climate change',\n",
       " \" putin once again vacationing topless he's in siberia snorkeling so many tropical reefs there must be global warming h…\",\n",
       " '8 yrs or more of climate change denial will be disastrous to our planet we will resist we will sayã¢â‚¬â¦',\n",
       " ' study believe you can stop climate change and you will ',\n",
       " 'tillerson used an email alias to discuss climate change while he was exxon’s chief executive wayne tracker',\n",
       " ' this is a great thoughtprovoking interview w kim stanley robinson on his new york 2140 novel  climate change …',\n",
       " \" global warming is finally over wars are too i have clear skin and i'm crying\",\n",
       " \"i don't know which part of what i'm saying or linking to is making you think we don't understand the causes of climate change\",\n",
       " \"climatechange science magazine trump's defense chief cites climate change as national… via…\",\n",
       " ' there is a human child on this airplane meowing in the seat next to me and i no longer care about global warming',\n",
       " \" we have a presidentelect who doesn't believe in climate change millions of people are going to have to say mr tã¢â‚¬â¦\",\n",
       " ' how climate change is pushing animal and human diseases to new places',\n",
       " \" the head of trump's environment agency just denied humans are to blame for climate change  by …\",\n",
       " 'that will be super fun amidst a global population boom to 9 billion a global food shortage and climate change hooray',\n",
       " 'mayors will lead on climate change for political gain says exnyc mayor ',\n",
       " 'lolllll climate change my foot termites emit more than all human activity',\n",
       " \" tomorrow's nov 1st and it's suppose to be in the 70s but global warming isn't a thing y'all no need to worry it's fineã¢â‚¬â¦\",\n",
       " ' turtle comeback in cuba at risk from climate change cuba',\n",
       " ' the rich will do nothing to stop climate change it falls to us to be heroes stop making vague requests to power and st…',\n",
       " 'news learn about the iiwi pronounced eeeevee a hawaiian endemic threatened by climate change and avian malaria…',\n",
       " \"my daughters' middle school science teacher is climate change denier cited exxon experts in class\",\n",
       " 'fuck global warming my neck is so frio',\n",
       " 'how climate change is already effecting us amp projected to get worse �� climatechangeisreal climatechange…',\n",
       " \" this is basically climate change denial applied to housing and political economy he's learned not to learn …\",\n",
       " 'ars 12 century later we continue to struggle with climate change denial deception of tobacco industry proportions https…',\n",
       " ' aus bus complicit in the big lie not poss to save reef without tackling global warming ritter htã¢â‚¬â¦',\n",
       " 'burning rain forests has one of the largest impacts to climate change',\n",
       " 'lake tanganyika hit by climate change and overfishing',\n",
       " \" steve bannon means bye bye to the climate change scheme we're spending 22000000000 a year on for 'research' ã¢â‚¬â¦\",\n",
       " \" donald trump's environmental protection chief scott pruitt 'not convinced' carbon dioxide causes global warming…\",\n",
       " \" if you believe climate change is fake do your research if you still then don't believe it is a real thing please don't conã¢â‚¬â¦\",\n",
       " \"white house calls climate change funding 'a waste of your money' – video\",\n",
       " \" i refuse to believe that people don't believe in climate changewhich i guess would make me a 'climate change denier d…\",\n",
       " \" rex tillerson might be trump's worst cabinet pick say no to an oil baron blocking int'l climate change efforts …\",\n",
       " \" trump's election victory threatens efforts to fight climate change\",\n",
       " 'fryedale interesting article on climate change and a post carbon society ',\n",
       " ' my thanks to premier mcleod for the meeting today focused on climate change amp building an economy that works for t…',\n",
       " ' bannon senior counselor to the president on climate change a hoax that costs us 4 billion per day',\n",
       " 'uod huffington post buzzfeed amp vice are blazing a new trail on climate change coverage …',\n",
       " \" there's no such thing as the climate change 'hiatus'\",\n",
       " 'you know which country narrowly benefits from global warming even as it and the world suffers overall russia…',\n",
       " \" hey girl are you climate change because i'm going to ignore you until you fuck me\",\n",
       " \"since i'm throwing truthbombs out there you could've changed the world by fighting climate change but you're blowing it\",\n",
       " 'uk  hits out at bbc for inviting climate change denier on radio 4 by official',\n",
       " ' hrc proposes installing half a billion solar panels by the end of her first term trump thinks climate change is a hoaxã¢â‚¬â¦',\n",
       " \" she's thinking about how she's going to die because your husband doesn't believe in climate change ã¢â‚¬â¦\",\n",
       " \"hudson dup i'm watching disgraced leader of a handful of bigoted misogynous climate change deniers who will have uk pm in their…\",\n",
       " ' leftist militants peddling bullshit to support climate change the fakenews from dems keeps piling up boy this is…',\n",
       " \" robert f kennedy jr issues a warning about president trump's climate change policies …\",\n",
       " 'burke47 significant parts of australia are already seeing climate change drive up insurance premiums…',\n",
       " \" 'the concept of global warming was created by and for the chinese in order to make us manufacturing noncompetitiã¢â‚¬â¦\",\n",
       " '2017 world leaders should ignore donthecon on climate change says michael bloomberg false45 climatechangedenier https…',\n",
       " \"why is it so dark out' laura 'global warming duh'\",\n",
       " \" if donald trump gets into the white house 'global warming' could magically disappear\",\n",
       " ' green leaders fear president donald trump will threaten progress on climate change ã¢â‚¬â¦',\n",
       " 'nobody this is the important news  australia is failing on global warming with science haters in government auspol …',\n",
       " \" in case you've been thinking 'everyone will have to accept that climate change is real when it gets really obvious…\",\n",
       " \"'perspective'  he's facing criminal charges for deceiving everyone about climate change tillerson  go 'perspective' yourself ��\",\n",
       " 'industrial smog is climate change',\n",
       " \"i said fake spiritual or 'woke' ppl meat is in fact bad energy and is the 1 cause of global warming you can't 'love'\",\n",
       " \" if 'global warming' is real then why is there an ice age 5\",\n",
       " \" we don't deny climate change its been around for 4 billion years leftists think it has only been last 100 years …\",\n",
       " \" tony abbott says 'moral panic' about climate change is 'over the top'\",\n",
       " \" the phrase is 'climate change denier' now is the time to speak plainly\",\n",
       " ' dup condemned for climate change denial of trumpstyle proportions',\n",
       " ' china is now explaining the history of climate change sciencepolitics 2 underscore to trump they didnt do a hoax godã¢â‚¬â¦',\n",
       " ' imvotingbecause the future of the planet is at stake hillary clinton will combat climate change donald trump thinks iã¢â‚¬â¦',\n",
       " 'vichit2017vichit2017secretaryross on budget cuts for climate change research “my attitude is the science should … … vichit2017',\n",
       " \" she's thinking about how she's going to die because your husband doesn't believe in climate change ã¢â‚¬â¦\",\n",
       " ' thursday in nyc pga event on climate change amp the globalgoals watch live…',\n",
       " \" do we really want to be deputy sheriff to a racist climate changedenier time to ask serious qs about how slavishly we'll fã¢â‚¬â¦\",\n",
       " ' bernie sanders wants to talk about climate change and income inequality ã¢â‚¬â€œ not 2020 aspirations r3t',\n",
       " ' thereã¢â‚¬â„¢s a simple explanation for this donald trump knows climate change is real but does not give a shit about you httpã¢â‚¬â¦',\n",
       " ' we only have a 5 percent chance of avoiding ‘dangerous’ global warming a study finds',\n",
       " \" she's thinking about how she's going to die because your husband doesn't believe in climate change ã¢â‚¬â¦\",\n",
       " 'google just notched a big victory in the fight against climate change via cnbctech',\n",
       " ' you can now watch leonardo dicaprioã¢â‚¬â„¢s climate change doc online for free',\n",
       " 'we encourage you to come to a climate change activity on nov 25th from 300pm500pm at eton centris activity walk',\n",
       " \" tillerson used email under pseudonym 'wayne tracker' at exxon to talk climate change new york attorney general…\",\n",
       " ' west coast states to fight climate change even if donaldtrump does not jerrybrown …',\n",
       " ' if you said bombing libya was a climate change initiative liberals would defend it everyday they show why trump won 😂😂…',\n",
       " 'us donald trump to undo obama plan to curb global warming says epa chief',\n",
       " 'congress declares climate change a national security threat',\n",
       " 'yrs ago james lovelock said sea level rise is best climate change indicator as it integrates yrtoyr variability…',\n",
       " \" don't let anyone tell you the us can't reach our paris climate change goal we can  and i believe we will …\",\n",
       " 'not to mention the public health gains to be made via some climate change solutions  especially a plant based diet…',\n",
       " 'sec �� nato urges global fight against climate change as trump mulls paris accord climate…',\n",
       " ' japan ranks among worst performers in tackling climate change ã¢â‚¬â¹ japan today',\n",
       " \" proposed cuts to the epa's funding target regional and climate changeoriented initiatives\",\n",
       " 'wrong on health care wrong on climate change ��opines on healthcare',\n",
       " 'haiku watching a special about climate change oh wait this is a window',\n",
       " \" global warming is bullshit all i need are my rockabilly tapes i need my rockabilly tapes 2 be happy i'm just in that…\",\n",
       " 'if any government that pretended to be serious about climate change action really were fracking would be illegalã¢â‚¬â¦',\n",
       " ' plz invest in multiple plants please us americans 4 climate change and produce jobs at…',\n",
       " 'the only ones that are affected by climate change are those that sit on the front porch all day and do nothing',\n",
       " ' more likely a lesbian caused hurricane harvey than climate change says rightwing commentator',\n",
       " \" congrats on being elected please don't let the dup call the shots on abortion gay rights or climate change dupdeal\",\n",
       " ' nationalgeographicã¢â‚¬â„¢s climate change documentary with leonardodicaprio is now on youtube ã¢â‚¬â¦',\n",
       " \" after trump's inauguration pages about climate change and civil rights were removed from the white house website…\",\n",
       " \" trump's pivot on climate change takes shape as federal websites go blank via\",\n",
       " 'leonardo dicaprio finally got his oscar and used his acceptance speech to talk about climate changeã¢â‚¬â¦',\n",
       " \" just one candidate in louisiana's senate runoff embraces climate change facts  ars technica\",\n",
       " ' the president of the united states is trying to force scientists out of talking about climate change this is wild',\n",
       " 'siskind the people trump blames for making up climate change 👇👇👇',\n",
       " ' trump boosts coal as china takes the lead on climate change',\n",
       " 'what a load of crap by your own admission climate change is real you are journalists you…',\n",
       " \" lost jobs higher energy prices the true cost of obama's climate change crusade\",\n",
       " 'he is professing his love for the dangers of global warming',\n",
       " 'not sure about the global warming but this malala is the biggest liberal hoax ever what a joke',\n",
       " 'can we fight climate change with trees and grass',\n",
       " ' the national academy confirms that the 40 rise in co2 in the last 40 yrs is the main cause of climate change see http…',\n",
       " 'when i came to congress i said i wanted to be the best voice on climate change that i could be actonclimate',\n",
       " \" 98 scientists proved climate change exists some say 2 proves its not real okay if i'm 98 inside your girlfriend did…\",\n",
       " 'zimmer icebergs for global warming',\n",
       " \" 'the concept of global warming was created by and for the chinese in order to make us manufacturing noncompetitiã¢â‚¬â¦\",\n",
       " ' the latest president trump to announce the us is withdrawing from the paris climate change accord',\n",
       " 'orkney climate change deniers be gone lisa mackenzie explores the facts on global warming ã¢â‚¬â¦',\n",
       " 'he donald i heard in the fake news that there is a hurricane in texas you told us usa has no global warming is this fake',\n",
       " \" al gore's climate change documentary 'an inconvenient truth' is getting a sequel\",\n",
       " \" foxnews' chris wallace calls out former vp al gore on global warming claims \",\n",
       " ' everyone who voted trump will die of old age diabetes or fireworks while the rest of us will die from climate changeã¢â‚¬â¦',\n",
       " ' bye bye bank regulations bye bye dealing with climate change bye bye health care bye bye diplomacy electionnight',\n",
       " ' in rare move china criticizes trump plan to exit climate change pact via',\n",
       " ' watch beforetheflood right here as travels the world to tackle climate change httã¢â‚¬â¦',\n",
       " \" if any global warming scientists could tell me the exact date that i need to add antigel agents to my fuel i'd appre…\",\n",
       " \" paceu senior fellow john cronin's article for discusses preselect trump stance on climate change…\",\n",
       " \"don't forget the speech  climate change is not real  it is just effect of old age \",\n",
       " \" boris johnson thinks no one should tell donald trump he's wrong about climate change …\",\n",
       " \" 'denying climate change is dangerous'  45th us president actonclimate climate\",\n",
       " \"here's the thing even if climate change were a hoax it isn't cleaning up our air and pollu…\",\n",
       " ' 21 kids are suing trump over climate change',\n",
       " ' trump pulls usa out of paris climate deal but pledges to stay engaged on the issue of climate change…',\n",
       " 'do u apply that to abortions global warming climate change is soooo exaggerated',\n",
       " ' al gore presses on with climate change action in the trump era',\n",
       " \"speier pelosi's credentials on climate change are sterling—got cap and trade thru house died in senate pelosispeiertownhall\",\n",
       " \" in west pokot county kenya herders are faced with the realities of climate change  and it's brutal\",\n",
       " \" she's thinking about how she's going to die because your husband doesn't believe in climate change ã¢â‚¬â¦\",\n",
       " \" here's what you personally can really do about climate change elect people who think it's real\",\n",
       " ' i know global politics and climate change are terrifying but on the plus side at least antibiotic resistance will kill us all',\n",
       " \" erasing web pages won't erase climate change\",\n",
       " \"ay girl are you global warming cause you're hot af amp you're ruining my life\",\n",
       " ' cop22 indigenous knowledge and its contribution to the climate change knowledge base are attracting increasing attentionã¢â‚¬â¦',\n",
       " ' they asked me my inspiration i said global warming',\n",
       " 'corals die as global warming collides with local weather in the south china sea',\n",
       " 'lse trump administration gouging out their eyes amp cutting off their ears to evidence on climate change says ward …',\n",
       " ' here is a great graphic that shows the impact of climate change on human health',\n",
       " \" 1 do 'global challenges' include climate change amp fascism 2 the 'special relationship' is sycophantism 3 don'tã¢â‚¬â¦\",\n",
       " \"  explores the effects of climate change in 's beforetheflood now streaming on huluã¢â‚¬â¦\",\n",
       " ' report 33 states are combating climate change and simultaneously growing their economies …',\n",
       " ' 21 kids and a climate scientist are suing the us government to force it to contend with the threat of climate change https…',\n",
       " 'one of our board of advisors  works to save species in antarctica from climate change read more',\n",
       " \" a scifi author explains why we won't solve global warming ▶ …\",\n",
       " \" how with a straight face can you say that humans can't affect the weather but believe in human induced climate change\",\n",
       " \" ‘shell knew’ oil giant's 1991 film warned of climate change danger  environment  the guardian\",\n",
       " ' how do they expect us to care about global warming with all this penguin on penguin crime',\n",
       " 'how to talk about climate change at a party peak oil her ugo you keep joking all the…',\n",
       " ' unampfao mustpressoncountriesagriculturaldepartmentsnot2usechemicalfertilisers2stop climate change …',\n",
       " \" 2 just like with global warming and a million other topics 'we must do something' is not enough\",\n",
       " ' the american revolution will be postponed due to global warming',\n",
       " 'fighting climate change isn’t a ‘waste of money’ — it’s a good investment',\n",
       " ' after 40 flights are grounded in heat wave a window into climate change effects on air travel',\n",
       " ' imagine if we all understood how starvation amp climate change are the crisis veganism can solveã¢â‚¬â€\\x9dwhile at tã¢â‚¬â¦',\n",
       " \"climate change is real undp is working with the gvt to mitigate the effects of climate change and improve people's…\",\n",
       " 'ayo global warming is like actually a real thing b',\n",
       " \" quitting un climate change body could be trump's quickest exit from paris deal  الخروج الامريكي من مؤامرة المناخ …\",\n",
       " ' the global warming is devastating california again today',\n",
       " ' yet another disturbing consequence of global warming',\n",
       " \" a new poll shows record percentage of americans are concerned about global warming and say it's caused by human act…\",\n",
       " 'analysis why trump wants to kill a popular climate change program  sfgate',\n",
       " 'us presidential election creates global warming anxiety',\n",
       " \"koalas don't like water but they're being 'driven to drink' by climate change\",\n",
       " \" don't say 'happy earth day' and then eat meat with every meal animal agriculture is the leading cause of climate change\",\n",
       " 'its been that long ago dang time flies bet climate change has sum thing to do with it too',\n",
       " \" at exxon rex tillerson reportedly used the alias 'wayne tracker' for emails about climate change…\",\n",
       " \"you canã¢â‚¬â„¢t ignore climate change and think you have an immigration policy'\",\n",
       " \" it's worldscienceday 49 of our followers say defeating climate change is key for ensuring sustainability yoursay\",\n",
       " 'marie so how communicate climate change and other environmental issues great talk by at balticseafuture …',\n",
       " \" we've been waiting a long time  thanks for finally inviting vegan to the climate change discussion gtgt…\",\n",
       " ' the white house website pgs on climate change lgbt rights amp civil rights already no longer exist just to remind you w…',\n",
       " ' no snow where there should be bleached anemones cracks in the ice this is what climate change looks likeã¢â‚¬â¦',\n",
       " ' climatechange daily mail times subscribers are fleeing in wake of climate change column new……',\n",
       " 'not sure ur buying  govt push  on global warming  climate change  whatever is next to call it',\n",
       " 'inside the renegade republican movement for tackling climate change',\n",
       " \"i fear that this is de facto what 'adaptation' to climate change will be\",\n",
       " ' we have a presidentelect who doesnã¢â‚¬â„¢t believe in climate change thatã¢â‚¬â„¢s frightening for this country and the world',\n",
       " ' 2 and a bit weeks left to take action add your voice and call on to be ambitious on climate change…',\n",
       " \"you're irrelevant you don't get to push some fantasy myth about 'climate change' down our tax payers wallet\",\n",
       " ' children win right to sue us government on actions causing climate change',\n",
       " ' hrc proposes installing half a billion solar panels by the end of her first term trump thinks climate change is a hoaxã¢â‚¬â¦',\n",
       " ' the people voting for trump think global warming is fake but satanic witchcraft is 100 real and i feel hashtag blessed',\n",
       " ' when do we start talking about climate change deniers as long term mass murderers',\n",
       " 'over 100 scientists from eu to assess challenges posed by climate change at valencia 5th7th april…',\n",
       " \" how do y'all think climate change isn't real i'm mind blown at the stupidity\",\n",
       " 'icymi a new study about the ocean’s heat content in science advances supports evidence of global warming…',\n",
       " '4 years of straight up inaction on climate change on our part',\n",
       " ' a timeline of every ridiculous thing trump has said about climate change',\n",
       " 'carbon levy could limit impact of climate change study suggests',\n",
       " 'what climate change what comic is that in',\n",
       " 'trump to sign sweeping rollback of obamaera climate change rules tech',\n",
       " ' how harvey has shown us the risks of climate change  houston chronicle',\n",
       " 'global march for science protests call for action on climate change',\n",
       " 'ready for flooding boston analyzes how to tackle climate change',\n",
       " 'thank you for putting people over politics by talking about climate change i hope you will continue to speak the truth',\n",
       " ' sanders trump needs to be confronted about realities of climate change',\n",
       " ' there were 7 questions about russia in the debates amp zero about climate change drugs poverty lgbtq or education…',\n",
       " 'tansat china launches climate change monitoring satellite',\n",
       " ' us allies plan to give trump an earful on climate change at g7 summit',\n",
       " \" this entire climate change nonsense has become a religion there4 making it u can't criticize or disagree just like…\",\n",
       " 'the talks on climate change during of the g7taormina summit in taormina italy were unsatisfactory said german ch…',\n",
       " \"call it taking care of the land call it good business sense just don't call it climate change\",\n",
       " \" ya know yt ppl idk if y'all are gonna really make it with this whole global warming amp sun exposure thing getting w…\",\n",
       " \"as they grapple with unempt no pensions crap healthcare war climate change they'll be appalled she didn'…\",\n",
       " 'disheartening trump seeks fast exit from climate deal he still believes global warming is a hoax wow',\n",
       " ' imagine the art we shall make from starved corpses of relatives right as we go extinct from climate change and shitã¢â‚¬â¦',\n",
       " ' going green in china where climate change isn’t considered a hoax',\n",
       " 'addressing global climate change demands an immediate and ambitious action by governments and industries that is',\n",
       " ' energy day comes as major companies lead the fight against climate change  majorcompanies climã¢â‚¬â¦',\n",
       " \" still wondering why if n y times feels need to be 'fair amp balanced' w climate change denial why not holocaust denial…\",\n",
       " \" she's thinking about how she's going to die because your husband doesn't believe in climate change ã¢â‚¬â¦\",\n",
       " ' cdc abruptly cancels longplanned conference on climate change and health',\n",
       " 'jjn report reveals devastating impact of climate change on livelihoods',\n",
       " \"because it's obviously a climate change denier conference this will be some propaganda org fund…\",\n",
       " \" we have a presidentelect who doesn't believe in climate change millions of people are going to have to say mr tã¢â‚¬â¦\",\n",
       " \" well bolton certainly reduces my climate change concern  we're all gonna glow anyway\",\n",
       " ' be it bringing more tourists to jampk improving connectivity or mitigating climate change chenaninashri tunnel offers ma…',\n",
       " ' google just notched a big victory in the fight against climate change',\n",
       " \" florida half the state's going to disappear in ten years due to global warming they're going for the guy who says it's a chã¢â‚¬â¦\",\n",
       " \"nobody denying climate change is antiscience deniers should be thrown in prison what do you mean you think race isn't a so…\",\n",
       " \"foundation how is pakistan cricketerturnedpolitician imrankhan fighting climate change a 'billion trees' at a time…\",\n",
       " \"gop mt cnn's brian stelter destroyed by weather channel founder john coleman over global warming deserves en…\",\n",
       " ' gallup poll shows more americans than ever are concerned about climate change climate poll …',\n",
       " \"washingtonpost the energy 202 macron tried to soften trump's stance on climate change others have failed\",\n",
       " \" 'the effects of climate change are going to intensify time is against us' ban ki moon secretary general ã¢â‚¬â¦\",\n",
       " ' tonight will be joined by for a conversation on combating climate change…',\n",
       " \" parent i'd do anything for my children scientist here's how to stave off climate change so your children can stay oã¢â‚¬â¦\",\n",
       " 'nina a child rights approach to climate change is long overdue by tweets',\n",
       " \" we have a presidentelect who doesn't believe in climate change millions of people are going to have to say mr tã¢â‚¬â¦\",\n",
       " \" study of ancient penguin poo reveals antarctic colony's survival is related to volcanic activity not climate change…\",\n",
       " \" bernie sanders on a call with clinton supporters 'literally in terms of climate change the future of the planet is atã¢â‚¬â¦\",\n",
       " 'these republicans are challenging trump on climate change nypost newyorkpost',\n",
       " ' done whining on twitter yet mr president because a storm supercharged by climate change you want to make worse is about to…',\n",
       " \" no she's saying that people who aren't vegan have no right to complain about global warming which is true\",\n",
       " ' science loses out to uninformed opinion on climate change – yet again',\n",
       " \"such a poor decision science has proven climate change the entire world agrees there'…\",\n",
       " 'lombardodier to launch climate change bond fund read more',\n",
       " \" stephen hawking has a message for trump don't ignore climate change environment climatechange…\",\n",
       " 'get your wh sharables now before the site is revamped to say big oil is our friend and climate change is hoax',\n",
       " 'are we ready to take the necessary steps to reduce climate change through revolutionary energy evolution cop22',\n",
       " \" when everyone's glad it's 80 degree weather in october but you can't stop thinking about global warming ã¢â‚¬â¦\",\n",
       " 'actually made it for the climate change video they made frie…',\n",
       " ' avoiding talk of climate change has become an apparent point of pride in the trump administration…',\n",
       " ' why do people believe in global warming because they have had propaganda shoved down their throats for 30 years nothin…',\n",
       " 'depression anxiety ptsd the mental impact of climate change  cnn',\n",
       " \" i guess the good news is that with global warming accelerating on trump's watch florida will be less of a factor in futuã¢â‚¬â¦\",\n",
       " ' breaking epa chief says carbon dioxide not a primary contributor to global warming denies scientific consensus https…',\n",
       " 'support for climate change bill is haunting a california republican leader  the mercury news',\n",
       " 'bycraig great article on research and genetic study to futureproof plant species from climate changeã¢â‚¬â¦',\n",
       " ' potus was briefed on the climate change attacks that took place around the world yesterday',\n",
       " \" did the climate change before man then how do you know it's our fault now post hoc fallacy google it\",\n",
       " 'penalty despite the global warming alaska has had very little if any warming since 1977 except barrow as shown below httã¢â‚¬â¦',\n",
       " ' in rare move china criticizes trump plan to exit climate change pact',\n",
       " \"evidence that global warming is less pronounced than predicted'\",\n",
       " \" rex tillerson should get no vote until we see what he's hiding on climate change\",\n",
       " \"jameschamp guys snow isn't real government fakes it to promote global warming snow scary warm good\",\n",
       " ' can a climate changeloving liberal explain why a massive program like the paris accords should be imposed on us wo a…',\n",
       " ' im so grateful for the time you took to tell the important story of climate change in beforetheflood thanã¢â‚¬â¦',\n",
       " \"and above all 3 talk to your politicians do not let this antiglobal climate change conspiracy continue to infect our gov't\",\n",
       " \" it's literally 75ã‚â° outside and it's november 1st global warming can\",\n",
       " 'he also claims obama bugged him climate change is an elaborate hoax amp no one is more christian than heso',\n",
       " \" good point is the candidate who might end global warming by bringing us nuclear winter don't beã¢â‚¬â¦\",\n",
       " \" 'astounding' shifting storms under climate change to worsen coastal perils yet fed govt totally defunded nccarf https…\",\n",
       " \"there's plenty of evidence to be skeptical over climate change\",\n",
       " ' the coming revolution in energy production could make fighting climate change more difficult',\n",
       " ' appointing an epa chief who is a climate change denier is an attack on science sciencemarch',\n",
       " \"from friday more fiery back and forth between exxon amp ny's ag schneiderman in climate change info probe\",\n",
       " ' things will get tricky for the liberal government if the trump white house rolls back efforts on climate change ã¢â‚¬â¦',\n",
       " 'do you doubt that human caused climate change is real do you doubt there will be an eclipse this month same method produced both facts',\n",
       " ' forests are crucial for fighting climate change protect an acre now amp will match it…',\n",
       " 'if you are prochoice progay marriage amp an accepter of the reality of anthropogenic climate change how could u vote 4 trump',\n",
       " ' britney combined global warming and lady gaga into one tweet when will your fave',\n",
       " ' the dup who oppose abortion for rape victimsdeny climate change and insist fossils were placed by satan as a test…',\n",
       " ' with trump as president chinaã¢â‚¬â€\\x9dchinaã¢â‚¬â€\\x9dwill be the worldã¢â‚¬â„¢s biggest champion of fighting climate changeã¢â‚¬â¦',\n",
       " \" hats off to taking a modern stance on climate change voting yes to strengthen vic's climate laws actonclima…\",\n",
       " ' this photo by kerstin langenberger shows how polar bears are being affected by climate change',\n",
       " 'the biggest threat to our country is the southern border not climate change thats why trump won',\n",
       " ' the dakota access pipeline would be a huge blow to our fight against climate change nodapl',\n",
       " 'the harms of climate change which are unfolding slowly and may be partly undone the detonation of a nuclear weapon will be irreversible',\n",
       " ' laws to tackle climate change exceed 1200 worldwide study via',\n",
       " 'ny ag says tillerson used alias in emails on climate change',\n",
       " \"that's why they changed it to climate change in order to cover their lying asses\",\n",
       " 'in my opinionclimate change is nothing more than a way 2 remove our money from our pockets 4 their greeny projectsã¢â‚¬â¦',\n",
       " ' a lot of people are sharing this terrifying piece on climate change by  which you should read …',\n",
       " \"this was an ironic 1111 tweet climate change is real it's basically a challenge from amonra to see if we can not annihilate ourselves\",\n",
       " 'trump to purge climate change from federal government',\n",
       " \"costakis sex is intimate and sacred your body is a temple and shouldn't be shared with anyone who doesn't believe climate change…\",\n",
       " \"s if you care about climate change don't miss tonight's gripping doco on its impact on global security…\",\n",
       " ' saudi arabia will stick to climate change pledges',\n",
       " ' house republicans buck trump call for climate change solutions',\n",
       " ' scott pruitt the head of the epa said that carbon dioxide was not a primary contributor to global warming…',\n",
       " ' solution to global warming',\n",
       " \"imstillnotover trump's view on climate change climatechange united trumppence16\",\n",
       " \" scott pruitt says he's challenging scientists to hold a tv debate over whether climate change is a threat …\",\n",
       " ' freeze injury and climate change are real threats vineyards being impacted in europe with frost risk and damage …',\n",
       " 'denying climate change opposing lgbtq rights banning muslims defunding planned parenthood corruption it goes on',\n",
       " 'the best part is the listing for the global warming article trump is such an idiot',\n",
       " \"harvey s what climate change looks like in a world doesn’t want to take climate change seriously'\",\n",
       " ' they call this type of winter wonderland global warming',\n",
       " ' how climate change is stripping the caribbean of its prized coral reefs',\n",
       " ' เกิดจาก global warming ซึ่งส่วนใหญ่มาจากฝีมือมนุษย์ค่ะ ทำให้ระบบนิเวศทั่วโลกเปลี่ยนแปลงไปค่ะ',\n",
       " ' alarmists say global warming to blame for ‘record’ tick population — but there’s one massive problem…',\n",
       " ' the polar vortex is back—is global warming playing a role',\n",
       " 'en the time is now to stop climate change we teamed up with national geographic to fight climate change yearsproject…',\n",
       " ' russia hack deniers amp climate change deniers have a lot in common either theyre corrupt or they refuse 2 accept univerã¢â‚¬â¦',\n",
       " 'lets hope you deal with it when food cost risesgasglobal warminghateviolencechildren being separatedfamilies hungry ã°å¸â„¢ï†\\x8f',\n",
       " \" she's thinking about how she's going to die because your husband doesn't believe in climate change ã¢â‚¬â¦\",\n",
       " ' schwarzenegger launches project to help lawmakers challenge trump on climate change …',\n",
       " ' 10 places to visit before they disappear due to climate change',\n",
       " 'et channeling on chemtrails climate change whistleblowers and alternative solutions',\n",
       " 'antarctic ice sheet has impact on climate change',\n",
       " 'hey trump are you still going to deny climate change when the rising sea level engulfs your southern white house',\n",
       " 'we will never get climate change with trump',\n",
       " \"president trump signed an executive order combating obama's efforts in regards to climate change j2150ai\",\n",
       " 'trump since the election humans are causing global warming amnesty for dreamers protpp ambassador to china maga trumptransition',\n",
       " ' watch beforetheflood right here as travels the world to tackle climate change httã¢â‚¬â¦',\n",
       " 'america carbon dioxide not ‘primary contributor’ to global warming epa chief says',\n",
       " \"you were right climate change isnt real it's the gays you should be afraid of\",\n",
       " \" where is evidence that any 'action on climate change' will have any effect on climate change\",\n",
       " ' badlands national park climate change tweets deleted',\n",
       " ' emma thompson says she wants people to ‘shout loudly’ about climate change climate…',\n",
       " ' just want to know why holacaust deniers can face jail but climate change and evolution deniers are free…',\n",
       " \" you can watch leonardo dicaprio's climate change documentary for free on youtube viaã¢â‚¬â¦\",\n",
       " ' tillerson reportedly used email alias to discuss climate change at exxon',\n",
       " 'trump has climate change denial  missoulian in missoula',\n",
       " ' keep in mind there are just three years left until the world locks in dangerous climate change amp possible collapseã¢â‚¬â¦',\n",
       " \" rio's famous beaches take battering as scientists issue climate change warning brazil\",\n",
       " '64 and sunny to 32 and snowy climate change is rad ��',\n",
       " \" she's thinking about how she's going to die because your husband doesn't believe in climate change ã¢â‚¬â¦\",\n",
       " \" the queen of fracking will 'combat climate change' it's one thing to campaign for hrc bernie another to lie on hã¢â‚¬â¦\",\n",
       " ' one nation senator joins new world order of climate change denial',\n",
       " 'more global warming o',\n",
       " 'gt researchers say we have three years to act on climate change before it’s too late',\n",
       " \" still think global warming isn't reallonce again we are set to have the hottest year on record viã¢â‚¬â¦\",\n",
       " ' everyone who thinks climate change is a hoax does not get an air conditioner climatechangesummertips',\n",
       " \" she's thinking about how she's going to die because your husband doesn't believe in climate change ã¢â‚¬â¦\",\n",
       " 'moroccan vault preserves seeds if climate change or doomsday sparks crisis',\n",
       " \" we're proud of mayor 's leadership on climate change as copenhagen prepares for the future through a…\",\n",
       " \"maybe you should go back to uzbekistan i'm sure that they believe in climate change lol\",\n",
       " ' omg donald trump wants to shut off an orbiting space camera that monitors climate change',\n",
       " 'bill nye destroys climate changedenying trump adviser william happer',\n",
       " ' the whitehouse is being filled with creationist climate change deniers but on the plus side god will give your grandchilã¢â‚¬â¦',\n",
       " \"here's your earthweek stat a tree can absorb up to 48 lb of carbon dioxide a year plant a tree reduce global warming\",\n",
       " ' new mexico is being hit hard by the global warming again today',\n",
       " 'teeb would be even cooler if directly applied to countries personally somalia would benefit from a climate change interventionpolicy',\n",
       " 'kanzaki me thank you subaru clapping aikomi aikomi ã¢â‚¬â¦the presentation was supposed to be on global warming not why you hateã¢â‚¬â¦',\n",
       " ' we have a presidentelect who doesnã¢â‚¬â„¢t believe in climate change thatã¢â‚¬â„¢s frightening for this country and the world',\n",
       " \"just wasted an hour of my life arguing about climate change to someone who doesn't think it's real resist iwillbeanalcoholicwhenthisisover\",\n",
       " \"paris agreement on climate change us withdraws as trump calls it 'unfair'' via fox news\",\n",
       " \" ã¢â‚¬å“lamar smith is the major impediment to anything being done on climate change in congress' on tx race httpsã¢â‚¬â¦\",\n",
       " ' someone who denies climate change simply cannot be the next president of the usa that would be a literal disaster for eveã¢â‚¬â¦',\n",
       " ' rumored secretary of state candidate dana rohrabacher thinks global warming and tooth decay are conspiracies to expã¢â‚¬â¦',\n",
       " \"that headline isn't that exacly what global warming deniers usually say\",\n",
       " 'odbama believes in climate change n gave a phukk about our pollinators',\n",
       " ' the link between hurricanes and climate change yale climate connections environment more http…',\n",
       " ' 1 california fighting trump on climate change',\n",
       " 'but these dumb republicans think just because it snowed in a city and global warming is fake',\n",
       " ' with ab617 and our action on climate change calif is once again showing you can succeed by being visionary amp pra…',\n",
       " \" parent i'd do anything for my children scientist here's how to stave off climate change so your children can stay oã¢â‚¬â¦\",\n",
       " \"epa head scott pruitt denies that carbon dioxide causes global warming' epa pruitt globalwarming carbondioxide\",\n",
       " 'pakistan ratifies paris agreement to fight global warming',\n",
       " \"willfully ignoring 99 agreement on climate change is not 'winning' it's malpractice cynical shortsighted abdic…\",\n",
       " 'fuck you guys global warming is serious as hell',\n",
       " ' lmao global warming is real',\n",
       " 'a massive climate change study is canceled  because of climate change',\n",
       " 'tech and cash is not enough when it comes to health and climate change',\n",
       " 'no child left behind quotes global warming speech introduction',\n",
       " \" our president doesn't believe in global warming so we're all doomed regardless\",\n",
       " ' kind of likeevolution or climate change or does science end with gender issues',\n",
       " ' new california senator kamala harris questioned the cia nominee on climate change spying on climate change yep a d…',\n",
       " 'the people who believe in man made climate change have to be the dumbest most ignorant people on the planet',\n",
       " \"rightsizing' indeed their use of language no different from the way republicans deny climate change is caused by…\",\n",
       " 'bbc news  g7 talks trump isolated over paris climate change deal',\n",
       " 'in trump era cities must amp up battle vs climate change – official – daily mail slayte ',\n",
       " \"braun 'once the people are convinced of climate change the politicians will fall in line very quickly' ã¢â‚¬â¦\",\n",
       " ' so the energy department’s climate office has banned the use of the phrase “climate change”',\n",
       " \" uh oh another crazed muslim who just can't deal with climate change i'm out of sympathy for europe the…\",\n",
       " ' rick perry no longer wants to eliminate the doe scott pruitt is now more open to the concept of global warming …',\n",
       " ' he danny rollen faure seychelles ã¢â‚¬å“the republic of seychelles views climate change as an existential threatã¢â‚¬ï†\\x9d ã¢â‚¬â¦',\n",
       " 'human activity continues to engender climate change   threatening credibility and leading to inevitable…',\n",
       " \" this is one sad effect of climate change it's killing reindeer\",\n",
       " ' demand trump adm add lgbt rights climate change amp civil rights back 2list of issues on site https…',\n",
       " 'abraham hicks  what about climate change and global warming via',\n",
       " ' birther bigot and climate change denier — how is this guy an appointee oppose nomination of sam clovis ☎️…',\n",
       " \" she's thinking about how she's going to die because your husband doesn't believe in climate change ã¢â‚¬â¦\",\n",
       " 'master why is th raw data kept private anyone should be able to verify the accuracy of climate change stats jansen please answer',\n",
       " ' no snow where there should be bleached anemones cracks in the ice this is what climate change looks likeã¢â‚¬â¦',\n",
       " ' america is about to become the only country in the world with a leader who doesnã¢â‚¬â„¢t think global warming is realã¢â‚¬â¦',\n",
       " 'global climate change is real',\n",
       " \"adoftheday al gore's stirring new climate change ad calls on world leaders\",\n",
       " \" g20 leaders' statement reflects trump position on climate change   us goes down in history for s…\",\n",
       " 'i kinda want this country to be around so yeah climate change is a top priority for me',\n",
       " \"is climate change real' no\",\n",
       " \" if trump does something about global warming it will have 'tangible benefits' for us businesses ã¢â‚¬â¦\",\n",
       " ' world leaders duped by manipulated global warming data',\n",
       " ' scott pruitt’s office deluged with angry callers after he questions the science of global warming…',\n",
       " \" 8 in 10 people now see climate change as “catastrophic risk'  …\",\n",
       " ' the most important action the us has taken to address climate change is under threat …',\n",
       " \" is it true that ron johnson doesn't believe people contribute to climate change mostly\",\n",
       " \"latest public attitude tacker survey results on 'causes of climate change'\",\n",
       " \" a tax to park your car at work 1 idea being considered by ministers in a plan to help meet scotland's climate change targets…\",\n",
       " \" doesn't think co2 drives climate change let's send him a copy of 'global warming for dummies'\",\n",
       " \"he's filled his transition team with fossil fuel industry stalwarts amp lobbyists while continueing to deny climate change is real scary\",\n",
       " 'yay global warming ',\n",
       " 'looking fwd to speak today at on landrights lawyering in the age of climate change amp trump',\n",
       " 'ã¢â‚¬å“will global warming help drive record election turnoutã¢â‚¬ï†\\x9d by',\n",
       " \"the american public understands that climate change is real and caused by humans it's time to actonclimateã¢â‚¬â¦\",\n",
       " 'fox news tucker carlson implodes as bill nye the science guy schooled him on climate change video uniteblue',\n",
       " ' donald trump calls climate change a hoax but worries it could hurt his golf course',\n",
       " ' trump budget cuts all  for climate change research and international climate change programs all of it …',\n",
       " ' are we looking at an america that officially believes climate change is a hoax sorry everybody else',\n",
       " ' obvious ploy to make me root for global warming smh not today satan',\n",
       " \"it's climate change and if this isnt change i don't know what is read a book before flaunting your ignorance to the world\",\n",
       " ' reflections on leonardo dicaprioã¢â‚¬â„¢s new climate change film beforetheflood ã¢â‚¬â¦',\n",
       " ' hiring a climate change denier is pretty appalling  but saying nothing as your employees single out custo…',\n",
       " ' a perfect resource 4 u to use 2 talk 2 yr climate change denier relatives',\n",
       " 'republican green groups seek to temper trump on climate change',\n",
       " 'keep voting in morons who ignore climate change and basic reality a…',\n",
       " ' the concept of global warming was created by and for the chinese in order to make us manufacturing noncompetitive',\n",
       " \"happyea hday2017 ������������take care of her and reminding you of our take on climate change and that he's not…\",\n",
       " 'in other news sturgeon flies to usa with entourage on climate change global warming environment summit…',\n",
       " \"while you're freezing to death this afternoon i'll be at six flags being grateful for global warming\",\n",
       " 'africa is not a major pollutantclimate change is caused by industrialized nation they should bear more in termsã¢â‚¬â¦',\n",
       " 'fiedler there is no climate change biggest sham in the world',\n",
       " 'see how climate change will affect the uae in numbers the risks will affect the country’s economy business and',\n",
       " ' the us pulled out of the paris climate agreement but al gore says that has only made climate change activism gro…',\n",
       " ' american diplomats the epa global warming …',\n",
       " ' consensus climate change increases migration amp a threat multiplier for conflict but many questions on nuance remai…',\n",
       " 'big history reality the global godfreak media adulates the overpopulationeconomic growth racketeers as champions of climate changewaste',\n",
       " \" she's thinking about how she's going to die because your husband doesn't believe in climate change ã¢â‚¬â¦\",\n",
       " ' on virtually every major issue ã¢â‚¬â€\\x9d raising the minimum wage climate change pay equity for women ã¢â‚¬â€\\x9d we are the majority',\n",
       " ' the remy ma and nicki minaj beef was created to distract you from climate change and the fact that temps in antartica rea…',\n",
       " 'absolutely loving this amazing initiative from that will help reduce global warming freedomdrivers',\n",
       " ' global ocean circulation appears to be collapsing due to warming planet climate…',\n",
       " 'resist  scott pruitt’s office deluged with angry callers after he questions the science of global warming',\n",
       " 'after the oil industry companies like hampm forever21 amp zara are contributing to global warming at an alarming rate releasing seasonal 5',\n",
       " \" just watched before the flood a doc by on climate change i'm not a scientist but it made a lot of sense to me\",\n",
       " ' suicides of nearly 60000 indian farmers linked to climate change study claims …',\n",
       " '10 fragen zur üchtlingskrise hier gibt es den aufstieg in humancaused climate change denial in humancaused climate change',\n",
       " \"don't worry about climate change trump will solve that too he'll build a wall to keep the climate out sorted qanda\",\n",
       " '100 most popular slogans on climate change climatechange2',\n",
       " \"stroop 1 reporting this as trump 'moderating' on climate change is really irresponsible what just because he no longer…\",\n",
       " ' the us energy department climate office bans use of phrase ‘climate change’ no it’s not an april fool’s joke…',\n",
       " ' if you were going to be a singleissue voter not making global warming even worse would be a good issue to choose httpsã¢â‚¬â¦',\n",
       " ' so science only is possible when talking about space �� amp climate change but not with x or y chromosomes hmmmm interesting ��…',\n",
       " 'if we want to address climate change amp us competitiveness we need to work with the rest of the world not turn them away',\n",
       " 'what are we going to do about climate change',\n",
       " 'a call to arms on climate change by brenda the civil disobedience penguin  a new 2017 cartoon by',\n",
       " 'if global warming gets to that point what will happen to the rest of earth ',\n",
       " \" we have a presidentelect who doesn't believe in climate change millions of people are going to have to say mr tã¢â‚¬â¦\",\n",
       " 'government action isn’t enough for climate change the private sector can cut billions of tons the conversation',\n",
       " ' with donald trump in charge climate change references were purged from the white house website',\n",
       " 'earth possibly more sensitive to global warming than previously thought via keepitintheground',\n",
       " \"anti vax pro life believes climate change is a hoax doesn't accept evolution as scientific has a 10yo as commandeã¢â‚¬â¦\",\n",
       " \" climate report to un trump is correct to be skeptical of 'climate change' claims globalwarmã¢â‚¬â¦\",\n",
       " 'how a new money system could help stop climate change  the guardian bluehand newbluehaã¢â‚¬â¦',\n",
       " ' for the epa environmental protection agency trump named climate change denier martin ebell',\n",
       " \" hey remember that time that donald trump backed urgent action on climate change it wasn't that long ago ã¢â‚¬â¦\",\n",
       " \" y'all chanting about climate change but throw your garbage everywhere at the same event\",\n",
       " \"news moronic jill stein says istanbul attack not islam's faultbut everything to do with climate change …\",\n",
       " 'kim stanley robinson’s new york 2140 is a glorious thought experiment on climate change',\n",
       " ' australia faces potentially disastrous consequences of climate change inquiry told  by me and https…',\n",
       " \" area law man who doesn't believe in climate change or much else science worried cpd report isn't scientifically b…\",\n",
       " 'alaskan village votes to relocate over global warming ',\n",
       " 'a word from james hansen nasa climatologist on climate change',\n",
       " \"s top military experts warn that climate change is a 'catalyst for conflict' now on 4corners\",\n",
       " 'kate bigger ngos are finally seeing how gender equality is integral to fighting climate change wowldn',\n",
       " 'scott pruitt turns epa away from climate change agenda  ',\n",
       " \" we have a presidentelect who doesn't believe in climate change millions of people are going to have to say mr tã¢â‚¬â¦\",\n",
       " \"climate change 'activists' are stupid\",\n",
       " \"this is interesting trying to the pics of climate change and it won't let me\",\n",
       " \" she's thinking about how she's going to die because your husband doesn't believe in climate change ã¢â‚¬â¦\",\n",
       " \"cartoon if the media covered climate change the way it covers hillary's email\",\n",
       " ' the same people left defending darwins theory are liberal dems that also believe the fairy tale of global warming hmm…',\n",
       " 'i welcome global warming about now',\n",
       " 'yale survey seven in ten registered voters 69 say us should stay in paris climate change agreement',\n",
       " ' want to stop climate change  see beforetheflood at your university beforeyouvote',\n",
       " 'not much besides cbs is being untrue to global warming concerns when they suggest that less cars  bad thing hypocritical',\n",
       " ' if you ever doubt that you can make a difference on climate change just read this obit of tony de brum …',\n",
       " ' so on the day that donald trump nominates climate change denier scott pruitt to run epa he also meets with…',\n",
       " ' the guy with the nuclear codes thinks obama personally wiretapped him vaccines cause autism climate change is a hoax amp bi…',\n",
       " ' the epic size of hurricaineirma is fuelled by global warming',\n",
       " 'if canada goose wants to remain profitable they should be helping to fight global warming',\n",
       " 'before we spend more than five minutes together socially i need to know your stance on evolution and climate change',\n",
       " 'if found in magnetz thera are a total of 4 magnetz in the ozone layerz to make global warming that are uzebale',\n",
       " ' imvotingbecause the future of the planet is at stake hillary clinton will combat climate change donald trump thinks iã¢â‚¬â¦',\n",
       " 'obamas fiddled global warming data shamelessly manipulated  climatescam greenscam teaparty tcot pjnet',\n",
       " \" 'i'm going to die of climate change' millennial leftists literally believe this\",\n",
       " \" starts snowing in sandy 'ever since trump was elected global warming has already gone away wow' bob salveter di…\",\n",
       " \" 'global warming  hoax' 'drill baby drill'  sorry but trumpgop will end human civilization\",\n",
       " \"but trumpkins tell us that climate change 'is a chinese hoax' you mean to tell methey're idiots without a clue i'm shocked 😕\",\n",
       " 'want to fight climate change have fewer children',\n",
       " \" 'if climate change makes eastern north america drier then autumn colors will be spectacular'\",\n",
       " '  answers all your burning climate change questions',\n",
       " ' scientists cited climate change and nuclear threats in their decision to move the doomsdayclock closer to midnight ht…',\n",
       " \" malcolm roberts is hosting a climate change deniers' meeting at parliament tonight and i've found a copy of the age…\",\n",
       " ' watch beforetheflood right here as travels the world to tackle climate change httã¢â‚¬â¦',\n",
       " ' our oceans are under too much stress by 2030 half the world’s oceans could be reeling from climate change…',\n",
       " 'lain no see one side advocates climate change fixes equal rights for all acceptance love and…',\n",
       " \" when it's a warm sunny day but you realize that climate change is slowly killing the planet because it's actually…\",\n",
       " 'longer heat waves heavier smog go hand in hand with climate change  ars technica',\n",
       " \" new york's says tillerson used alias wayne tracker to discuss climate change while at  http…\",\n",
       " \" good news is we don't have to swallow your bs on climate change anymore right\",\n",
       " \"oh but climate change isn't real\",\n",
       " 'stopping global warming is only way to save great barrier reef',\n",
       " \"usda tells staff to stop using the term 'climate change'  climatechange\",\n",
       " '  calls on leaders of govt business amp civil society to back ambitious action on climate change…',\n",
       " 'six flags ticker symbol global warming simple essay',\n",
       " \" this map shows what americans think about climate change 70 believe us shouldn't withdraw from parisagreement…\",\n",
       " 'harry is trying to come up with a chorus about the dangers of global warming eventually',\n",
       " \"nytimes why so many of president trump's advisers are urging him to break a key promise on climate change …\",\n",
       " ' we can debate how to tackle climate change – but the science is settled climatemarch actonclimate …',\n",
       " ' how farmers in uganda are tackling climate change w help of ea …',\n",
       " ' i’m deeply concerned with scott pruitt’s unwillingness to fight climate change amp i’ll vote no on his nomination…',\n",
       " ' vote vote vote  voting for a candidate that believes climate change is a hoax is the most dangerous person toã¢â‚¬â¦',\n",
       " \" earthhour's 10th anniversary the biggest yet as famous landmarks go dark for climate change action…\",\n",
       " \"i'm on board with climate change but this is a dumb analogy\",\n",
       " \"xx our president doesn't believe in climate change nothing will even matter if we don't change the way we treat mother eaã¢â‚¬â¦\",\n",
       " \" claimed ted cruz's father helped kill jfk claimed climate change is a hoax created by the chinese defended japanese i…\",\n",
       " 'ship made a voyage that would not have happened without global warming',\n",
       " \" it's january 22nd and we still haven't had a snow day amp y'all don't believe in climate change\",\n",
       " 'lse china may be set to take on leadership role in global efforts to tackle climate change',\n",
       " ' these two young ontarians won first place in the climathon climate change hackathon toronto way to goã¢â‚¬â¦',\n",
       " ' trump and the guy who invented the global warming hoax meet in maralago awkward huh via …',\n",
       " 'thinking wonã¢â‚¬â„¢t stop climate change',\n",
       " ' watch beforetheflood right here as travels the world to tackle climate change httã¢â‚¬â¦',\n",
       " ...]"
      ]
     },
     "execution_count": 324,
     "metadata": {},
     "output_type": "execute_result"
    }
   ],
   "source": [
    "list(df_test['message'])"
   ]
  },
  {
   "cell_type": "code",
   "execution_count": null,
   "metadata": {},
   "outputs": [],
   "source": []
  }
 ],
 "metadata": {
  "kernelspec": {
   "display_name": "Python 3",
   "language": "python",
   "name": "python3"
  },
  "language_info": {
   "codemirror_mode": {
    "name": "ipython",
    "version": 3
   },
   "file_extension": ".py",
   "mimetype": "text/x-python",
   "name": "python",
   "nbconvert_exporter": "python",
   "pygments_lexer": "ipython3",
   "version": "3.7.4"
  }
 },
 "nbformat": 4,
 "nbformat_minor": 2
}
