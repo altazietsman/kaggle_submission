{
 "cells": [
  {
   "cell_type": "markdown",
   "metadata": {},
   "source": [
    "## Kaggle Climate Change Belief Challenge\n",
    "\n",
    "Alta Saunders"
   ]
  },
  {
   "cell_type": "markdown",
   "metadata": {},
   "source": [
    "# Aim\n",
    "\n",
    "Develop a machine leraning model that can predict whether people belief in Climate Change based on tweets."
   ]
  },
  {
   "cell_type": "markdown",
   "metadata": {},
   "source": [
    "# Supplied Data sets\n",
    "\n",
    "- train.csv (should be used to train data)\n",
    "- test.csv (should be used to test data and excludes arrival times)\n",
    "- example of submission"
   ]
  },
  {
   "cell_type": "markdown",
   "metadata": {},
   "source": [
    "# Import and viewing of Data"
   ]
  },
  {
   "cell_type": "code",
   "execution_count": 1,
   "metadata": {},
   "outputs": [],
   "source": [
    "import numpy as np\n",
    "import pandas as pd\n",
    "import matplotlib.pyplot as plt"
   ]
  },
  {
   "cell_type": "code",
   "execution_count": 2,
   "metadata": {},
   "outputs": [],
   "source": [
    "df_train = pd.read_csv('C:/Users/alta/Documents/GitHub/kaggle/train.csv')\n",
    "df_test = pd.read_csv('C:/Users/alta/Documents/GitHub/kaggle/test.csv')\n",
    "df_sub = pd.read_csv('C:/Users/alta/Documents/GitHub/kaggle/sample_submission.csv')"
   ]
  },
  {
   "cell_type": "markdown",
   "metadata": {},
   "source": [
    "## Dealing with Imbalanced data"
   ]
  },
  {
   "cell_type": "code",
   "execution_count": 10,
   "metadata": {},
   "outputs": [
    {
     "data": {
      "image/png": "[encoded data removed]",
      "text/plain": [
       "<Figure size 432x288 with 1 Axes>"
      ]
     },
     "metadata": {
      "needs_background": "light"
     },
     "output_type": "display_data"
    }
   ],
   "source": [
    "df_train['sentiment'].value_counts().plot(kind = 'bar')\n",
    "plt.show()"
   ]
  },
  {
   "cell_type": "markdown",
   "metadata": {},
   "source": [
    "There is a clear disparity in the distribution of the data (2,0,-1 are under represented). Everything needs to be equal before training."
   ]
  },
  {
   "cell_type": "code",
   "execution_count": 11,
   "metadata": {},
   "outputs": [],
   "source": [
    "# Indicies of each group\n",
    "sentiment_0 = df_train[df_train.sentiment == 0]\n",
    "sentiment_1 = df_train[df_train.sentiment == 1]\n",
    "sentiment_2 = df_train[df_train.sentiment == 2]\n",
    "sentiment_n1 = df_train[df_train.sentiment == -1]\n",
    "\n"
   ]
  },
  {
   "cell_type": "code",
   "execution_count": 12,
   "metadata": {},
   "outputs": [],
   "source": [
    "# get length of majority sentiment\n",
    "n_sentimentn1 = len(sentiment_n1)\n"
   ]
  },
  {
   "cell_type": "code",
   "execution_count": 13,
   "metadata": {},
   "outputs": [],
   "source": [
    "from sklearn.utils import resample"
   ]
  },
  {
   "cell_type": "code",
   "execution_count": 14,
   "metadata": {},
   "outputs": [],
   "source": [
    "# downsample majorityclass\n",
    "sentiment_0_upsampled = resample(sentiment_0, replace=True, n_samples=n_sentimentn1, random_state=50) \n",
    "sentiment_1_upsampled = resample(sentiment_1, replace=True, n_samples=n_sentimentn1, random_state=50)\n",
    "sentiment_2_upsampled = resample(sentiment_2, replace=True, n_samples=n_sentimentn1, random_state=50)\n",
    " "
   ]
  },
  {
   "cell_type": "code",
   "execution_count": 15,
   "metadata": {},
   "outputs": [],
   "source": [
    "#create new upsampled dataframe\n",
    "df_upsampled = pd.concat([sentiment_0_upsampled, sentiment_1_upsampled,sentiment_2_upsampled, sentiment_n1])"
   ]
  },
  {
   "cell_type": "code",
   "execution_count": 16,
   "metadata": {},
   "outputs": [
    {
     "data": {
      "image/png": "[encoded data removed]",
      "text/plain": [
       "<Figure size 432x288 with 1 Axes>"
      ]
     },
     "metadata": {
      "needs_background": "light"
     },
     "output_type": "display_data"
    }
   ],
   "source": [
    "df_upsampled['sentiment'].value_counts().plot(kind = 'bar')\n",
    "plt.show()"
   ]
  },
  {
   "cell_type": "markdown",
   "metadata": {},
   "source": [
    "# Preprocessing of data"
   ]
  },
  {
   "cell_type": "code",
   "execution_count": 17,
   "metadata": {},
   "outputs": [],
   "source": [
    "import nltk\n",
    "import re"
   ]
  },
  {
   "cell_type": "markdown",
   "metadata": {},
   "source": [
    "View data to see how to best clean it and remove noise"
   ]
  },
  {
   "cell_type": "markdown",
   "metadata": {},
   "source": [
    "To clean data we can remove the @.... strings, we can remove punctuation and make everything lower case."
   ]
  },
  {
   "cell_type": "code",
   "execution_count": 19,
   "metadata": {},
   "outputs": [],
   "source": [
    "pattern_tweets = r'(RT)|(@[A-Za-z0-9]+)'\n",
    "pattern_url = r'http[s]?://(?:[A-Za-z]|[0-9]|[$-_@.&+]|[!*\\(\\),]|(?:%[0-9A-Fa-f][0-9A-Fa-f]))+'"
   ]
  },
  {
   "cell_type": "code",
   "execution_count": 20,
   "metadata": {},
   "outputs": [],
   "source": [
    "tweets = df_upsampled['message']"
   ]
  },
  {
   "cell_type": "code",
   "execution_count": 21,
   "metadata": {},
   "outputs": [],
   "source": [
    "tweets_clean = []\n",
    "\n",
    "from string import punctuation\n",
    "my_punctuation = punctuation.replace(\"'\", \"\")\n",
    "\n",
    "for x in tweets:\n",
    "    new = ' '.join(re.sub(pattern_tweets,\" \",x).split())\n",
    "    new1 = ' '.join(re.sub(pattern_url,\" \",new).split())\n",
    "    new2 = new1.translate(str.maketrans(\"\", \"\", my_punctuation))\n",
    "   \n",
    "    tweets_clean.append(new2)"
   ]
  },
  {
   "cell_type": "code",
   "execution_count": 22,
   "metadata": {},
   "outputs": [
    {
     "data": {
      "text/plain": [
       "[\" We're talking about this story on social media The EPA's new head says CO2 isn't a main cause of global warming…\",\n",
       " 'Yes and The View will find a way to fix climate change MSNBC will figure out how to defeat ISIS without firing a shot',\n",
       " 'bogar The celebrities who are all screaming about this about climate change as well as…',\n",
       " ' How can people still try to deny global warming when Club Penguin had to shut down',\n",
       " \"Kong64 Is there really a God Does global warming exist Does the movie Pulp Fiction have a plot Hell I don't know I just wann…\",\n",
       " 'Very few fires in Australia this summer Must be climate change',\n",
       " ' Unlicensed lemonade is a bigger threat than climate change I applaud Tower Hamlets Council for their swift action https…',\n",
       " 'BBC News crid4b7ljy  signed an agreement accepting the need to tackle climate change But less than a month later this In ',\n",
       " 'I hope in 2017 people finally learn the difference between global warming and climate change',\n",
       " \" if global warming isn't real why did club penguin shut down\",\n",
       " 'Starr Notice that climate change not racism sexism homophobia or islamophobia is forcing CEOs to bounce …',\n",
       " \"I think we're looking at an America that is voting on more than just climate change\",\n",
       " 'why do people feel the need to blame taylor swift for everything that happens in the world cancer  taylor swift climate change taylor sw',\n",
       " 'Leave climate change the political economy of agriculture in India is fanning farmer anger Also see…',\n",
       " 'tfw u leave work and its hailing and raining but it was 60 yesterday thank u global warming',\n",
       " 'global warming ftw',\n",
       " 'Let me tell you my view point on global warming considering the smog show in Delhi recentlyDo read and spread this thread if u like it',\n",
       " 'this how global warming start with that hot body goddess',\n",
       " 'Hennenfent To top it all off on top of Russiagate and health care reform and the orb and climate change and North Korea the bee…',\n",
       " ' Can someone from ask our PM why we gave 265B to UN to fight climate change when Dubai is building 2400GW…',\n",
       " \" Interviewer 'What do you think about global warming' Melania Trump 'Hello He's kind he's strong he's a great cÃ¢â‚¬Â¦\",\n",
       " 'Kentut dari hewanhewan purba adalah penyebab utama global warming di zaman dinosaurus BBCnews',\n",
       " \" This iceberg's parents melted so now it fights global warming by ispeakpython via reddit\",\n",
       " \"I know too many liberal friends who don't see the irony in railing against climate change skeptics denying science wdeadly consequences\",\n",
       " \" Remember when someone says 'climate change' and freaks out Laugh real hard like I do����\",\n",
       " 'climate change',\n",
       " 'Agreed However the overwhelming majority of people believe humans impact global warming',\n",
       " \"Who's coming out to see me perform  Hakkasan tonight for my 'I love global warming' tour\",\n",
       " ' Gonna be funny when Trump becomes the global warming president probablywonthappenbutwhoreallyknows',\n",
       " 'Shared feeding cannot be by climate change whitout a common human defense',\n",
       " 'Dark areas of the map climate change support went Hillary',\n",
       " 'Population growth and climate change explained by Hans Rosling',\n",
       " ' How do they expect us to care about global warming with all this penguin on penguin crime',\n",
       " 'Calum tweets abt reunitingish w the cast sees replies begging him to come to their countries Calum goes back to rting climate change',\n",
       " \"And then they're going to be killed a second time by climate change\",\n",
       " ' Tom Friedman asks if Trump will withdraw from climate change accords Trump “I’m looking at it very closely I have an open…',\n",
       " \"people's everyday lives if it does become extreme enough Although global warming is controversial the fact that\",\n",
       " \"Watching on TYT and can't figure out how their concern over Trump unravelling climate change progress is any better with HRC\",\n",
       " 'The CoFounder of The Weather Channel is a climate change opponent GMB',\n",
       " \"yea your nudes are nice but what are your views on climate change' i just choked why is this me 😂\",\n",
       " \" someone told me i'm not qualified to discuss climate change so i pulled up a pic of my degree in environmental studies lol ni…\",\n",
       " ' “Indus civilisation didn’t collapse but deurbanised and migrated due to climate change” Cameron Petrie …',\n",
       " 'Webinar on gender agroforestry climate change en espanol ',\n",
       " \" Killing a hibernating bear is more dangerous than ya think if it's thrashing during a climate change nightmare about th…\",\n",
       " \" Yes I'm sure that's the big talk at G20 Not climate change or trade but why didn't John Podesta give a server th…\",\n",
       " \"checking in on the weather Unseasonably warm here in NY70 It's not global warming it's the heat of Trumps anger ElectionDay\",\n",
       " 'uber number already registered the cost of climate change',\n",
       " \"NiallMcCarthy I don't think that's accurate Many doubt man made climate change…\",\n",
       " \" 'Are you or have you ever been concerned about climate change' and you thought it couldn't get much weirder https…\",\n",
       " \"sorry for the global warming y'all i cannot help that i'm so dam hot oop \",\n",
       " \" looking forward to hearing the Government's plan on climate change and clean energy i'm sure it's coming up soon Budget…\",\n",
       " ' I know global warming is real because jalapeños keep getting hotter and hotter',\n",
       " \"ordeyo Two middle aged white men 'debate' whether penes cause climate change I'll make my own decisions ty very much notmypene…\",\n",
       " \" Watch Leonardo DiCaprio's climate change doc BeforeTheFlood for free online\",\n",
       " \"Lmfao you dumb af if you think climate change is causing all the fires and hurricanes it's clearly Gods wrath for us making pineapple pizza\",\n",
       " \"About time this global warming thing started paying off this'll do me til bonfire night getin scorchio\",\n",
       " 'If climate change is real then why are Chihuahuas always shivering',\n",
       " \"I don't believe Bella Thorne's and Tyler Posey's relationship exists just as much as Donald Trump doesn't believe global warming does\",\n",
       " ' 4 years of LNP energy and climate change policy QandA Electricity prices UP Carbon emissions UP Energy insecurity UP…',\n",
       " ' Due to Russian bots and global warming AprilFoolsDay happened in November',\n",
       " ' Poll Is man made climate change a scientific fact',\n",
       " 'QandA Hi can you ask on her feelings on climate change and Trump courting a climate skeptic to handle the EPA',\n",
       " \" 'do you believe in global warming jade' Jade yah bc every day the weather changes sommerhalder\",\n",
       " 'beltane it was cool when 0 of the 3 US presidential debates featured any questions whatsoever about climate change Ã¢â‚¬Â¦',\n",
       " ' You’re so hot you must be the cause for global warming ALDUBSeasonOfLove',\n",
       " \" 'How can there be global warming' pondered  'if it's cold outside Cold is the opposite of warm That's sciencÃ¢â‚¬Â¦\",\n",
       " ' your hairline suffering from global warming',\n",
       " 'Lol they said we should stop eating beef because of global warming I beg come again',\n",
       " 'I’m cool but global warming made me hot ALDUB17thMonthsary',\n",
       " ' ICYMI The US and China support action on climate change Trump and Putin support the US not defending NATO allies httpsÃ¢â‚¬Â¦',\n",
       " \"As it's the firstdayofspring listen to what Woolf Joyce Forster and Wells thought of climate change on Ep 2 🌼\",\n",
       " 'They asked me what my inspiration was and I told em global warming',\n",
       " 'Ã¢ï†\\x9dÂ¤Ã¯Â¸ï†\\x8fglobal warming',\n",
       " \"Does it 100 disprove global warming If not it's not relevant\",\n",
       " 'After GFC climate change  experimental mode of governance is an attempt to get transformative change in a difficult context AAG2017',\n",
       " \"Who the fuck taught to monopolize global warming I'm spending 425 on a powerade to keep my ass alive in this heat\",\n",
       " 'listen to only about 100 scientists about global climate change',\n",
       " ' says stability at threat from climate change calls for smarter Govt approaches to mobilise positive changes…',\n",
       " 'All the global warming',\n",
       " ' Give me a large scale policy the government could enact and show me how it would measurably slow climate change',\n",
       " 'Hybrids the strange animals that have created climate change',\n",
       " 'How does this fit in with global warming ',\n",
       " \"Not only a means to an end but coincidently that's how he gauges his global warming predictions Scary people\",\n",
       " \" Vi ska inte glÃƒÂ¶mma vem som ÃƒÂ¤r vice president Mike Pence anser att homosexualitet ÃƒÂ¤r en sjukdom och att 'global warming is aÃ¢â‚¬Â¦\",\n",
       " \" House Science Committee tweeted link to false article about climate change I'm looking forward to the tweets on leeches an…\",\n",
       " \" Taeyong is like the global warming bec he's waaayyy too hot\",\n",
       " \" Please don't worry about climate change Congressman Tim Wahlberg has a plan via …\",\n",
       " 'wintergirl93 Is he taking a pic of her fighting climate change',\n",
       " ' When climate change studies suggest that the temp in the future will rise by 2 degrees between your peak months…',\n",
       " \" Legit question If you don't think people are causing global warming do you have theories about why Democrats progressives…\",\n",
       " ' I hope Geography text books are being revised Cos this climate change get as e be',\n",
       " ' Where is your evidence that higher energy costs in Australia will negate climate change seriously',\n",
       " ' If global warming is a hoax then why did club penguin shut down ��������',\n",
       " 'If global warming turns out to be a thing better to pin your hopes on being given an interesting and i…',\n",
       " \" 1N Thread coming doubles down and argues 100 human contribution to global warming 'indefensible' …\",\n",
       " ' shes thinking about global warming tell your husband',\n",
       " 'policies for global warming pandaw cruises vietnam and cambodia',\n",
       " 'Mattis also says that climate change is a problem Just proves that elections are for show only',\n",
       " 'how would you best characterize his views on humancaused climate change Honest question',\n",
       " 'Why Corporate Demand Is Our Greatest Key to a Sustainable Future Despite climate change ………',\n",
       " 'Kentut dari hewanhewan purba adalah penyebab utama global warming di zaman dinosaurus BBCnews',\n",
       " ' can you believe paul rudd singlehandedly ended global warming',\n",
       " ' You want clarity on climate change Watch these two 5minute videos',\n",
       " ' liberals are so annoying have fun working to fight climate change w a person who believes climate change is a mÃ¢â‚¬Â¦',\n",
       " \"bbcqt I don't want a leader that says 'Yes I'll press it' N Korea has one of them Still nuclear winter would counteract global warming\",\n",
       " ' You’re so hot you must be the cause for global warming ALDUBSeasonOfLove',\n",
       " 'Cudder Everyone is enjoying this global warming',\n",
       " \"Look who's back in town And thank you global warming Ã¢â‚¬â€œ enjoying a quick trip to Brown County State Park on this 75 degree November day\",\n",
       " 'KYCATalks Terry talks about immigration global warming and other topics',\n",
       " 'Octo results in climate change errors ',\n",
       " ' New Fake photo shows possible climate change effects not flooded Houston airport …',\n",
       " ' Can I please get some climate change in my apartmentheatwave',\n",
       " \" Just like 'I'm not a scientist' deflects all conversation on climate change Bullshit\",\n",
       " 'new pitbull single called climate change ��',\n",
       " 'Kaya may climate change eh',\n",
       " 'DP Time for new job Great opportunity to convene global conversations on economy ampor climate change …',\n",
       " 'And this mother fucking rain too Like ok Washington Im so over it I vote climate change switch our weather with LA 2 Puhoor 2 move',\n",
       " 'Uhhhhhh oh now they are teaching us about global warmingis this National Geographic or CNN I am so confused b…',\n",
       " 'tfw u leave work and its hailing and raining but it was 60 yesterday thank u global warming',\n",
       " \"I wouldn't hate it if global warming would kick in this morning\",\n",
       " \" I move that we start calling 'climate change' 'climate fuckery' All with me retweet\",\n",
       " 'now that Obamacare is about gone Obama basically didnt accomplish much just us in more debt and no climate change policy and Trump',\n",
       " 'year is useless Yes every little bit is helpful amp awareness is key but there are other solutions for climate change All it takes is',\n",
       " \"This is the difference between Canada and the US While they're gutting climate change from EPA site we're worried…\",\n",
       " 'Wow heavy financial hitters demanding climate change risk evaluation for businesses ASIC as well Wonder how inve…',\n",
       " 'except for climate change',\n",
       " \" 'typical of John Terry to make it about himself' aye lads shouldve expected him to talk about global warming in his la…\",\n",
       " 'listen to only about 100 scientists about global climate change',\n",
       " \"Chambers Ok guys it's April We can no longer use the global warming joke in our posts about how it's warm outside\",\n",
       " ' Then remember that last time the subject of climate change was in the news the headlines went something like this…',\n",
       " 'We appreciate you risking your life in the global warming blizzard',\n",
       " \" Remember when someone says 'climate change' and freaks out Laugh real hard like I do����\",\n",
       " \"Wait wait WAIT looks outside the window Summer's over already Damn you climate change ☔️\",\n",
       " \" Eagle Scout Rex Tillerson led double elife as 'Wayne Tracker' to discuss climate change online says http…\",\n",
       " \"Haven't read the story but does it mention climate change\",\n",
       " 'Overlooked that Greenland WAS green and will be again as climate changes',\n",
       " \"I asked Chance for a glass of water and he said 'omg you're freaking liberal you know global warming is making us run out of water' 🤔\",\n",
       " ' How do they expect us to care about global warming with all this penguin on penguin crime',\n",
       " \" All of 's videos from the UN global warming conference in Marrakech with more to comeÃ¢â‚¬Â¦\",\n",
       " 'Blamed global warming for the World SEries rain delay',\n",
       " ' How do they expect us to care about global warming with all this penguin on penguin crime',\n",
       " \"It's funny how the mainstream media doesn't talk much about climate change Maybe it's proof they're more conservative than liberal\",\n",
       " ' First bipartisan press conference on a climate change plan since 2006 in Sacramento',\n",
       " 'You are supposed to call it climate change get with the program',\n",
       " ' Where the hell is global warming when you need it',\n",
       " 'i wanna get 2 kno U so tell me about the things you like to dothe music you listen tohow you feel ab climate changeampif you like drugs PLS',\n",
       " 'Maybe Maybe it is not possible Our global warming friends seem to forget the distinction between the two',\n",
       " 'Bijna elke duurzame loofbomen paddenstoel instelling wil cashen onder het mom van global warming ter…',\n",
       " 'Do you believe in climate change',\n",
       " \"Haven't seen this one before His other video 'Debunking 5 climate change myths' is terrible Do you want me to respond\",\n",
       " 'dore How is this addressing climate change…',\n",
       " ' Oh to have been a fly on the wall when Bill Shorten and Arnold Schwarzenegger talked about climate change …',\n",
       " ' Teacher Explain climate change Ms Dion Celine Dion There wer nights when the wind was so cold There wer days when…',\n",
       " 'Wish everyone in the Dakotas could hear truth on climate change from Brookings SD  April 4 7 pm',\n",
       " 'We all must become avocados to avoid global warming',\n",
       " \" All those 'After Trump China takes the lead in fighting climate change' pieces have to confront reality …\",\n",
       " \" Gavin's best guess is that 110 of climate scientists believe in global warming\",\n",
       " \"I love 's stances especially on education and climate change\",\n",
       " 'and the environment lmaooo Ur xans and vodka is only one person not contributing to climate change and d…',\n",
       " \" 🎵it's beginning to look a lot like global warming🎵\",\n",
       " 'This MTV star flogs climate change hypocrite Leonardo DiCaprio with ONE photo It should win award via',\n",
       " \"It's going to be getting pretty hot for sitting in that canOscar may be the first climate change refugee who is a Muppet\",\n",
       " 'Whoah I sense tongueincheek in that article Did global warming melt your sense of humor as well as your glaciers',\n",
       " 'I wrote this exact thing on my global warming essay can I report this for plagiarism 😤',\n",
       " ' 2 ปัญหานี้กำลังจะเป็นปัญหาระดับโลก ฝรั่งจะกดดันเราเหมือนประมงiuu และ climate change เพราะว่าขยะกับปลาในทะเลมันโกอินเตอร์ได้…',\n",
       " \" House Science Committee tweeted link to false article about climate change I'm looking forward to the tweets on leeches an…\",\n",
       " \" Trump says he will cancel Billions of dollars to the UN for global warming 'By the way no one knows what happens to thatÃ¢â‚¬Â¦\",\n",
       " 'not bad it will give room for talks like brexit terrorism migrant crisis climate change etcamp how trump wants to sustain uk as an allie',\n",
       " 'The Papers crid485fxj  he will not sign up to the climate change agreement He has isolated himself completely We ',\n",
       " \" i'm glad you asked 'email' mentions on cable news since Fri 2322 'climate change' mentions on cable since FrÃ¢â‚¬Â¦\",\n",
       " ' Reporter suggests climate change caused by Paris withdrawal will cause East River to rise by over 200 meters What…',\n",
       " ' and what Stephens shows is that rhetoric aside climate change is not that important to upper class libs denial is a Resp…',\n",
       " \"In his twitter account Donald Trump said on 6 November 2012 'The concept of global warming was created by and\",\n",
       " \" dean's gonna breathe and people will blame him for global warming 💀\",\n",
       " \"Those antitrump ppl so worried about climate change but they're not doing a damn thing to change what they do daytoday\",\n",
       " 'What scares me most about global warming is the possibility of more nude beaches',\n",
       " 'new pitbull single called climate change ��',\n",
       " ' Professors don’t want climate change research seen by the public Trying to block requests to see what kind of research…',\n",
       " ' In a strange twist fear of human extinction by global warming evaporated as the more threatening fear of global annihila…',\n",
       " 'Ã¢â‚¬Å“TrumpÃ¢â‚¬â„¢s new head of EPA transition said global warming is Ã¢â‚¬Ëœnothing to worry aboutÃ¢â‚¬â„¢Ã¢â‚¬ï†\\x9d by',\n",
       " ' We should stop talking about how humans cause global warming amp just focus on reversing global warming Sarcasm …',\n",
       " 'diverse Biodiversity loss phenology and climate change',\n",
       " 'it’s a bigger deal than climate change because eventually maybe we can fix that',\n",
       " 'but but global warming',\n",
       " ' How do they expect us to care about global warming with all this penguin on penguin crime',\n",
       " \"Hi I researching IRO the Under2MOU amp will like to know if there's a current overview doc of Nigerian climate change responses\",\n",
       " ' How do they expect us to care about global warming with all this penguin on penguin crime',\n",
       " \"ur mcm thinks climate change isn't real \",\n",
       " \"Kinda makes you think that the goal of enviros isn't really to fight climate change\",\n",
       " 'How hot are you on global warming Try our climate change quiz',\n",
       " ' Andy getting stuck into may about rolling back climate change commitmentsGood boy allinformurray',\n",
       " \" The electric car 'charging stations' at the UN global warming conference are fake They're not even connected to anÃ¢â‚¬Â¦\",\n",
       " 'climate change',\n",
       " ' People who denounce climate change be like',\n",
       " 'Out here in short sleeves in November global warming is pretty great so far',\n",
       " \" she's protesting for climate change\",\n",
       " ' Now if she could only be convinced that hyperbole is a leading cause of global warming',\n",
       " ' Kim Jong il will always be remembered fondly for his leadership and contributions on climate change…',\n",
       " ' When they started the Eko Atlantic City each time I pass through bar beach road I wonder about climate change thre…',\n",
       " \"'Steve Bannon' is new 'climate change'\",\n",
       " 'Ryan Zinke Interior secretary nominee tells Democrats climate change is real … climate…',\n",
       " \"Black men are the reason for global warming to her and hitler's main target in the holocaust was black women\",\n",
       " 'global warming in hellhahahaha',\n",
       " \" Chong says he believes in climate change and gets booed for carbon tax Trost says he doesn't believe and gets cheered cÃ¢â‚¬Â¦\",\n",
       " 'Weather and climate change will make a big impact on truck making it through the climate change just do right thing��',\n",
       " 'stout No Exactly the opposite 26 billion spent ON climate change research amp regulation',\n",
       " 'Will be blamed on global warming in 3 2',\n",
       " 'Today i bought a really warm puffy jacket and i swear if global warming screws this up for me i will be pissed',\n",
       " ' CLGD2016 COP22 Just handed out awards for legal essays on climate change to students from all over theÃ¢â‚¬Â¦',\n",
       " 'Older article explaining Russian oil thirst for Arctic How climate change plays a role Eliminating Middle East',\n",
       " ' How am I supposed to crack open a cold one with the boys with all this global warming',\n",
       " 'The US Center is streaming a presentation on jurisdictional approaches to climate change Watch now',\n",
       " \" Well on the plus side climate change isn't real anymore\",\n",
       " ' ExAustralian PM on coal tobacco and climate change denial',\n",
       " 'Both are required I believewe should add to our next climate change editorial',\n",
       " ' Where the hell is global warming when you need it',\n",
       " \" Thank goodness we don't have to worry about climate change any more Well done THE BLOCKCHAIN\",\n",
       " ' How do they expect us to care about global warming with all this penguin on penguin crime',\n",
       " \"lmao I'll sell once you've donated your nose to the people who are fighting global warming Save us please 🤣\",\n",
       " 'He saw a nuclear blast at 9 then spent his life opposing nuclear war and climate change',\n",
       " \"ivanka will make climate change her signature issue Is SHE 1st lady I'm So confused\",\n",
       " \"Takes 2 seconds POLL What do you think of Trump's executive order on climate change\",\n",
       " 'Kentut sapi termasuk penyebab utama global warming karena mengeluarkan gas panas yang bisa merusak udara',\n",
       " 'will it help global warming tho',\n",
       " 'Imagine that with global warming and all that stuff',\n",
       " \" Interviewer 'What do you think about global warming' Melania Trump 'Hello He's kind he's strong he's a great cÃ¢â‚¬Â¦\",\n",
       " 'Ohhh I bet if Lady Liberty could cry we could forget blaming global warming for a rise in sea levels',\n",
       " 'I know no journalist will ask this Please explain specifically how climate change is a national security issue',\n",
       " 'Worse than global warming',\n",
       " \"Denying climate change is fighting to  Our Supreme Court Editorial boards across the successes of health insurance'\",\n",
       " \"Leader of the 'free' world on climate change\",\n",
       " 'Download MP3 pop disco  27  The evidence for climate change WITHOUT computer models ',\n",
       " 'global warming',\n",
       " \"Journalism CNN style What Trump's executive order on climate change means for the world\",\n",
       " 'Oh no Bad climate change I only voted for Good climate change',\n",
       " \" 'So we lose the Maldives that's ok'  HartleyBrewer debates climate change with talkRADIO Ã¢â‚¬Â¦\",\n",
       " 'Tribe Why we have never found aliens  the great filter  climate change',\n",
       " \"The next person I see post a sarcastic 'this snow sucks' pic from Cabo or Florida I'll tell Leo DiCaprio you dont believe in climate change\",\n",
       " 'time is passing by i still want you crime is on the rise i still want you climate change and debt i still want you',\n",
       " \"liberal 'Can we maybe please try and stop global warming now'\",\n",
       " 'blajar itu pake buku buku itu dari kertas kertas dari kayu mari kita dukung anti global warming dengan tidak blajar menggunakan bukuhehe',\n",
       " \" Penguins fleeing global warming sneakily invade from the South while the navy deploys all assets on 'ring of steel' toÃ¢â‚¬Â¦\",\n",
       " 'Since the downturn ends 17 banks industry has unhapped for payments due to an ongoing climate change bill',\n",
       " \" Things discussed on CNN Hands Up Don't Shoot Asteroids causing climate change amp black holes swallowing 747 Ã¢â‚¬Â¦\",\n",
       " ' AntiTrump actor fights global warming but won’t give up 14 homes and private jet',\n",
       " 'he refuses to accept anyform of natural climate change',\n",
       " 'Trump a shocked Vatican and Ã¢â‚¬ËœpapalÃ¢â‚¬â„¢ climate change',\n",
       " ' Trump has selected Myron Ebell a climate change and global warming skeptic to lead the transition teamÃ¢â‚¬Â¦',\n",
       " 'Rest assured wine lovers your favourite tipple will adapt to climate change',\n",
       " 'So if February was a sign of global warming with a cold west coast and a warm east coast does March normalness mean we fixed it',\n",
       " 'HAARP 2015 Reveals climate change via',\n",
       " \"Wait wait WAIT looks outside the window Summer's over already Damn you climate change ☔️\",\n",
       " 'jones if you think global warming is bad Fav if you think global warming is good Joel Embiid NBAVOTE',\n",
       " ' Do you believe climate change is driven by humansCO2 or is a natural cyclical phenomenon climatemarch',\n",
       " 'zimmer Icebergs for global warming',\n",
       " 'Heated talk about global warming',\n",
       " ' Interested in glaciers and climate change 2yr researcher position in regional climate modeling htt…',\n",
       " \"It's global warming\",\n",
       " 'And this mother fucking rain too Like ok Washington Im so over it I vote climate change switch our weather with LA 2 Puhoor 2 move',\n",
       " \"About time this global warming thing started paying off this'll do me til bonfire night getin scorchio\",\n",
       " ' Problema nating lahat ang climate change pero ang pinaka kawawa ay ang ating magsasaka’t mangingisda  kung hindi…',\n",
       " ' Homes of Al Gore Elon Musk and Robert Iger Guess are they climate change advocates or hypocrites ParisAccord https…',\n",
       " 'Very few fires in Australia this summer Must be climate change',\n",
       " \" Macron at the G20 'We cant fight terrorism effectively if we dont have a clear plan to fight climate change' …\",\n",
       " 'uber number already registered the cost of climate change',\n",
       " ' Do you believe in climate change Why LanghapSarapYum',\n",
       " 'DailyClimate Anticipating local impact from climate change',\n",
       " ' A CNN host said we should all vote for Hillary because she believes in climate change These countries make one tÃ¢â‚¬Â¦',\n",
       " 'Ah Trump did not delete climate change etc from the white house website It was archived which ins normal protocol',\n",
       " 'this how global warming start with that hot body goddess',\n",
       " \" Morning after the Hillary rally How's that climate change platform working out\",\n",
       " \"You cling to the idea that not having anything about civil rights or climate change on the website isn't the same\",\n",
       " 'he refuses to accept anyform of natural climate change',\n",
       " \" Ok so i am a crochet addict This is my 'global warming blanket' stripes coloured according to last 100 years T an…\",\n",
       " ' Trying to stop Ledecky is like trying to stop global warming',\n",
       " \"PoemStone 'Keeping it Real' The most relevant post on 'global warming' now\",\n",
       " ' Missed our event with Fu Chengyu on China energy amp climate change Listen to the full audio here…',\n",
       " 'global warming confirmed as REAL in runeterra',\n",
       " 'wats global warming',\n",
       " \"first documented case of 'climate change'\",\n",
       " 'Today i bought a really warm puffy jacket and i swear if global warming screws this up for me i will be pissed',\n",
       " \"Do climate scientists keep quiet about global warming because they've mentioned it before\",\n",
       " 'Wo climate change legislation military occupation will become more necessary to make hungry people shut up about being hungry ChevyMalibu',\n",
       " \" Tillerson used secret alias “Wayne Tracker”  Exxon to discuss climate change amp co hasn't disclosed that in probe https…\",\n",
       " ' bob morley is so soft ill bet he has dreams of running in daisies with ellie and solving the climate change epidemic my beau…',\n",
       " \"we don't call climate change deniers climate change truthers do we\",\n",
       " \" You don't hear much about 'global warming' any more 'Climate change' is more userfriendly Age\",\n",
       " ' this is a fun website if u want men with the monster energy logo as their pic telling u climate change is fake',\n",
       " ' Probably about the same percentage of scientists who disagree with their peers about climate change',\n",
       " ' Theory the more a guy cares about climate change the better he is at giving head',\n",
       " 'Out here in short sleeves in November global warming is pretty great so far',\n",
       " 'This is why global warming exists',\n",
       " ' “Indus civilisation didn’t collapse but deurbanised and migrated due to climate change” Cameron Petrie …',\n",
       " \" now that's what i call it's simply too late to stop global climate change vol 37\",\n",
       " \"Another day tomorrow just talk about it  Paris climate change agreement Ronald McDonald sucks and Hillary isn't an activist just a stupid\",\n",
       " \"Black men are the reason for global warming to her and hitler's main target in the holocaust was black women\",\n",
       " \" Media falsely spins Trump's NYT climate comments  Trump cited Climategate restated skepticism of 'global warming' …\",\n",
       " 'Do you have questions about climate change Here are short answers to the most frequently asked questions…',\n",
       " 'page I asked my dad to watch this documentary that just came out on climate change and legit turned it into a trump vs hillary thing',\n",
       " 'Post something insightful about global warming again',\n",
       " 'Trump and climate change via rAskTrumpSupporters',\n",
       " 'global warming confirmed as REAL in runeterra',\n",
       " 'Maybe you should focus on hair loss secrets instead because that is affecting you more than global warming guy',\n",
       " ' if you think the mass of the sun is 998 of the galaxy then your stupid climate change analysis must be tÃ¢â‚¬Â¦',\n",
       " 'More than six in ten Trump voters support taxing andor regulating climate changecausing pollution…',\n",
       " 'except for climate change',\n",
       " 'Niggas asked me what my inspiration was i told em global warming',\n",
       " 'wats global warming',\n",
       " 'Pollution is not the same as global warming',\n",
       " \"You're saying climate change isn't real\",\n",
       " ' Senator Inhofe backs up his view that climate change is a hoax by pointing to peerreviewed scientific journal the UK Tele…',\n",
       " 'The irony is there were dead bees 🐝 on the ice Maybe Al Gore was right about the internet I mean global warming',\n",
       " ' When you chilling by the Mbawula portable fire place and a random nigga starts lecturing you about global warming …',\n",
       " \" Interviewer 'What do you think about global warming' Melania Trump 'Hello He's kind he's strong he's a great cÃ¢â‚¬Â¦\",\n",
       " '1st November Surely no such thing as global warming',\n",
       " 'I am the main cause of climate change I apologise',\n",
       " 'I went to a bill Clinton speech where he did nothing but highlight her policies about climate change student debt jobs',\n",
       " \" 'So we lose the Maldives that's ok'  HartleyBrewer debates climate change with talkRADIO Ã¢â‚¬Â¦\",\n",
       " 'DNC staffer rips Donna Brazille Screams he will prematurely die from climate change All her fault via',\n",
       " ' Americans are even less worried about Russia than climate change',\n",
       " \"Zeets 'It's not the end of the world' Trump administration kills climate change action plan 'It's just the beginning of it'\",\n",
       " \" Actually a lot of us believe in climate change We just think we shouldn't have to pay for the entire world\",\n",
       " 'Megasized Canadian delegation in Morocco for this yearÃ¢â‚¬â„¢s United Nations climate change conference',\n",
       " 'National GeographicÃ¢â‚¬â„¢s climate change documentary with Leonardo DiCaprio is now on YouTube via',\n",
       " \"You lot You spend all your time thinking about dying Like you're going to get killed by eggs or beef or global warming or asteroids\",\n",
       " ' In full page ad in NYT in 2009 called for urgent action on climate change Which does he believe httÃ¢â‚¬Â¦',\n",
       " ' Donald Trump is the best thing to happen to global warming seriously auspol ParisAgreementÃ¢â‚¬Â¦',\n",
       " '  due to climate change we no longer see roaming ATATs anymore  sad 🙁',\n",
       " 'He has six publications on climate change ClimateCounts COP22',\n",
       " \"i always start my conversations talking about global warming it's a real icebreaker High five 🖐\",\n",
       " ' Spatial resilience of forested landscapes under climate change and management …',\n",
       " ' Several information pages have disappeared from the White House website including civil rights climate change and…',\n",
       " 'winky immigrants blush daffodils global warming lightblue even sandwiches brexit feminists',\n",
       " \"Join ECO Dir Erick Shambarger  free movie Before the Flood DiCaprio's climate change movie tonight 7pm at UWM\",\n",
       " 'They r good for causing global warming because of all the hot air they r expelling Maybe they need to shut the hel…',\n",
       " \"there's nothing I man caused global warming to fix\",\n",
       " \" Why does Arctic Yamal LNG project matter There's big  for Russia if global warming thaws ice opens shipp…\",\n",
       " \" Scientists at The Field Museum are often asked about climate change Here's a quick FAQ …\",\n",
       " 'You are supposed to call it climate change get with the program',\n",
       " 'In the world of climate change anything is possible',\n",
       " 'Trump patience is over wt North Korea is dat a solution to global warming',\n",
       " \" TragÃƒÂ©dia tristeza E Trump NEGA qualquer problema de 'climate change'\",\n",
       " ' Tom Friedman asks if Trump will withdraw from climate change accords Trump “I’m looking at it very closely I have an open…',\n",
       " 'De effecten van global warming worden door veel mensen enorm onderschat En je kunt erop wachten dat we te laat zijn straks gtgt',\n",
       " 'climate change theyre gone bill',\n",
       " 'I am the main cause of climate change I apologise',\n",
       " 'blast caused by cow farts global warming and HRCs hot lying air',\n",
       " 'Not always easy to show if harm will be caused  systems are complex  climate change …',\n",
       " \" The 'Is climate change real' one after that with a coal plant owner and a polar bear looks to be great too\",\n",
       " \" Give me two beers and I'll give you the world's greatest speech about climate change Ã°Å¸Ëœâ€šÃ°Å¸Ëœâ€š swear\",\n",
       " ' Like a bird on a wire I have tried in my way to be free  Carlos Curbelo climate change and Trump httpsÃ¢â‚¬Â¦',\n",
       " \" Entertainers are all good if they're meeting w lib presidents to work on climate change but how dare one talk abt urban…\",\n",
       " 'climate change',\n",
       " 'And trying to prevent global warming will cause more global warming Lol',\n",
       " 'Let me tell you my view point on global warming considering the smog show in Delhi recentlyDo read and spread this thread if u like it',\n",
       " \" So are these trails contributing to climate change or are they 'geoengineering' which is supposed to combat it\",\n",
       " 'I want this but I live in Texas and every season is now global warming',\n",
       " \"Dudethat's just normal weatherhas nothing to do with climate changedolt\",\n",
       " \"It's just like that in 's home but instead of singing duets Mark amp I are yelling about climate change\",\n",
       " \"I guess he hasn't heard about climate change 😂\",\n",
       " 'winky immigrants blush daffodils global warming lightblue even sandwiches brexit feminists',\n",
       " ' Theo Epstein needs tougher challenges Like climate change Or the England job',\n",
       " ' What do you do when you are talking to the climate choirtake them to church  cuz climate change this is nothing short o…',\n",
       " ' Trump has selected Myron Ebell a climate change and global warming skeptic to lead the transition teamÃ¢â‚¬Â¦',\n",
       " ' Great article about the teachers teaching climate change is manmade amp the conservative parents amp kids rejecting it …',\n",
       " 'Must be that damn climate change',\n",
       " 'Now I Get It The hot debate over the Paris Agreement on climate change',\n",
       " \"But if climate change is real how come there's still many liberal snowflakes scienceisntreal am I Tomi Lahren yet ❄️\",\n",
       " \"digrange no offence but you spent 8 years studying 'global warming fraud' and never modeled closing of power plÃ¢â‚¬Â¦\",\n",
       " 'The whole theory argument about climate change is based on computer modeling',\n",
       " 'bogar The celebrities who are all screaming about this about climate change as well as…',\n",
       " '1958 can you take the truth about global warming animal feces processing meat to eat barbaric yes annoying census 1958 proof',\n",
       " \"Hell is getting crowded and that's why we have climate changeÃ°Å¸ËœË†\",\n",
       " ' ministri negazionisti del climate change nemici di ogni controllo sulla finanza ecc CHe guerra al…',\n",
       " \" The United States' deputy ambassador in Beijing embassy has resigned over President Trump’s climate change decision…\",\n",
       " 'Doing this for a simple stats project Do you believe global warming will ever be a serious threat to your life or lifestyle',\n",
       " 'cage Everyone knows the primary contributor to global warming is hot air emitted by politicians',\n",
       " \"If Trump ever decides climate change is real fixing it will be Jared's job too\",\n",
       " ' the fact that Leonardo DiCaprio met with trump to discuss climate change a MAN',\n",
       " \" Yes I'm sure that's the big talk at G20 Not climate change or trade but why didn't John Podesta give a server th…\",\n",
       " ' You can now watch Leonardo DiCaprioÃ¢â‚¬â„¢s climate change doc online for free',\n",
       " 'Kentut dari hewanhewan purba adalah penyebab utama global warming di zaman dinosaurus BBCnews',\n",
       " ' Important point is “There are no areas of the country where electric vehicles have higher global warming emissions… …',\n",
       " 'I guess global warming and sea rise came earlier than I thought now that Wichita is on the Atlantic Coast',\n",
       " ' HereÃ¢â‚¬â„¢s what you need to know about Leonardo DiCaprioÃ¢â‚¬â„¢s climate change film',\n",
       " \"ottawa Or all that money could be spent on how to help women with hot flashes That's likely what causes global warming anyway😳\",\n",
       " 'zimmer Icebergs for global warming',\n",
       " ' Give me a large scale policy the government could enact and show me how it would measurably slow climate change',\n",
       " 'U really out here on Twitter expecting everybody to be doing nothing but thinking about climate change 247 ����\\u200d♀️ l…',\n",
       " '74 in November so climate change',\n",
       " \"i always start my conversations talking about global warming it's a real icebreaker High five 🖐\",\n",
       " ' Americans are even less worried about Russia than climate change',\n",
       " ' CAN we just appreciate how HOT Kylie Jenow that I got your attention can we find a cause for global warming amp what w…',\n",
       " \"Trumpland  next you'll be blaming him for climate change Fuck off you reprehensible creature\",\n",
       " \" As I often say I don't know the truth about climate change but I have to wonder why the topic it conforms to the…\",\n",
       " ' In a strange twist fear of human extinction by global warming evaporated as the more threatening fear of global annihila…',\n",
       " 'Scorpio n pisces need to stay faraway from each other as possible the red Sea might part global warming will stop',\n",
       " 'bw Do you believe that negative climate change is real Please  I need a large variety of responses',\n",
       " ' How do they expect us to care about global warming with all this penguin on penguin crime',\n",
       " ' We are at a point in human history where Cory Booker a US senator is discussing climate change with Bert from Ses…',\n",
       " \" Orbison Hillary's been in charge for 20 years 'They' blame climate change on the new guy\",\n",
       " \" The electric car 'charging stations' at the UN global warming conference are fake They're not even connected to anÃ¢â‚¬Â¦\",\n",
       " ' Umm global warming  never heard of that never thought that ummm what is that ',\n",
       " \"Ha That's why it's called extreme climate change😝 G'nite Steph💚\",\n",
       " \"It's likely that in 2017 global development agencies will be overwhelming focused on climate change and clean energ…\",\n",
       " \"ContinentalSunrise PMB jets out 2 Morocco 4 climate change summit Just wondern if He knows what 'that' means especially to 9ja\",\n",
       " 'have Craig Oliver explain climate change taxing taxing the tax Importing Saudi Algeria bitumen No invest in tech',\n",
       " ' your hairline suffering from global warming',\n",
       " \"edit Skeptics are people who demand evidence People who ignore evidence are 'deniers' There is no such thing as a climate changeÃ¢â‚¬Â¦\",\n",
       " 'The rain really needs to stop I blame global warming',\n",
       " \"I thought you'd like to know that pasta in mystery red sauce and climate change were on the menu tonight…\",\n",
       " 'positive 81 Tum muskurae sheetal hawae chal gai sansar me Kaha hai global warming',\n",
       " ' Ivanka will head a review of US climate change policy WTF UnitedNations…',\n",
       " 'hannam Australia welcome to your new climate change policy via',\n",
       " 'Watch get climate change lessons from ',\n",
       " \"high Ack i would LOVE to get hauled in front of a world court to argue 'climate change' That meme is so weak it dies a…\",\n",
       " 'this i agree on but plz understand that their role is disaster management not climate change',\n",
       " 'I thought global warming was supposed to kill us in 50 years max',\n",
       " 'This is a stupid tweet Earthquakes are almost impossible to predict and have nothing to do with climate change',\n",
       " 'Video lecture the crisis in Syria and role of climate change',\n",
       " 'I was cold back then but global warming make me hot By the way where is my jokbal',\n",
       " 'summerstanton Honestly people over react way too quickly How much you wanna bet the gay rights and climate change pages online are…',\n",
       " ' Bbh boys are hot Bbh girls are hot Bbh why is everyone so hot Ksoo global warming',\n",
       " 'Elizabeth You climate change will kill us all Me an intellectual Joe Jonas has been to the year 3000 amp not much has changed b…',\n",
       " \"Sanctified6 Y'all go out and enjoy this global warming today\",\n",
       " 'What does GOD say about climate change Bill',\n",
       " 'KArmstrong I am blaming global warming',\n",
       " ' basically one of the reasons of global warming',\n",
       " \" 'very expensive GLOBAL WARMING bullshit' used to be Trump's preferred method of referring to climate changeÃ¢â‚¬Â¦ Ã¢â‚¬Â¦\",\n",
       " \"Haven't seen this one before His other video 'Debunking 5 climate change myths' is terrible Do you want me to respond\",\n",
       " 'What if this is the angle with which we can create a coherent response to climate change',\n",
       " 'like the other night I asked my mom who is a trump supporter if she believes in global warming',\n",
       " '•global warming before and after photoshop•',\n",
       " \" Interviewer 'What do you think about global warming' Melania Trump 'Hello He's kind he's strong he's a great cÃ¢â‚¬Â¦\",\n",
       " ' With excellent shade toopoints out the history of working with the GOP on climate change Which sounds almost liÃ¢â‚¬Â¦',\n",
       " \"Watch the climate change documentary by Leonardo DiCaprio 'Before the Flood' full movie Ã¢â‚¬Â¢ National Geographic Ã¢â‚¬Â¢\",\n",
       " 'BIKE chalate samay  bewajah flashlight marne walo ko  global warming ka doshi maanna chahiye ������ FB',\n",
       " 'I blame global warming also for the lag or is that just the fact I SUCK',\n",
       " 'Are you referring to Russia or climate change',\n",
       " \" Just like 'I'm not a scientist' deflects all conversation on climate change Bullshit\",\n",
       " 'Yes Virginia hell has frozen over and global warming is now a scientific happening',\n",
       " ' You are voting for more than just a president Senators members of Congress propositions on condoms climate change andÃ¢â‚¬Â¦',\n",
       " \"Dang flabbit that darn tootin' Indiana weather Ain't nobody knows climate change amp rising sea levels like a hoosier Yee ha\",\n",
       " 'I suppose the next step is to queue up an inspirational song change my profile pic to a Union Jack ���� amp blame global warming LondonBridge',\n",
       " ' d hypocrite how can u talk about climate change while ur country is full of I better pass my Neighbour GeneratorÃ¢â‚¬Â¦',\n",
       " ' Professors don’t want climate change research seen by the public Trying to block requests to see what kind of research…',\n",
       " \" If global warming isn't real then why is club penguin shutting down ����\",\n",
       " ' Obama takes private jet to Italy and gives talk on climate change via',\n",
       " \" That's what we want to hear Josh Trump causes 'great uncertainty' at climate change conference Ã¢â‚¬Â¦\",\n",
       " 'Ah apparently global warming has led to a shark crisis Someone tell donald',\n",
       " \" Why do I get myself in these global warming debates Why Can't folks just enjoy a nice day anymore without thinking tÃ¢â‚¬Â¦\",\n",
       " 'DailyClimate Anticipating local impact from climate change',\n",
       " 'Doing this for a simple stats project Do you believe global warming will ever be a serious threat to your life or lifestyle',\n",
       " 'NEWS PAPER HEADLINE Chicago Cubs being celebrated as heroes after reversing climate change by making hell freeze over',\n",
       " ' Smart thread from an attorney involved in every Supreme Court climate change case and who knows law far bett…',\n",
       " \"About time this global warming thing started paying off this'll do me til bonfire night getin scorchio\",\n",
       " \" 'Stories about climate change stress me out hurting my immune system Therefore they are a form of violence amp should be bann…\",\n",
       " \" To be clear any Premier fighting climate change Kevin O'Leary is coming after you A Senator poo pooing residen…\",\n",
       " \" lol it's really gone wow Trump in less than an hour has solved climate change i guess\",\n",
       " 'Wish everyone in the Dakotas could hear truth on climate change from Brookings SD  April 4 7 pm',\n",
       " 'The worst thing about global warming is it allows people to wear flipflops in public later on into the year',\n",
       " 'What global warming',\n",
       " ' เพิ่งไปฟังสัมมนาเกี่ยวกับเรื่องนี้มา เรื่อง conflict ระหว่างอุปกรณ์ทำความเย็นกับ climate change อยากเล่า …',\n",
       " ' States can implement their own climate change policies Outrage more about politics than concern for…',\n",
       " ' The appropriate response in agencies asked to name climate change names btw is for the senior civil servant in each to re…',\n",
       " \"The 'skeptical environmentalist' takes on climate change in the controversial doc Cool It\",\n",
       " ' ano na hirap mo hanapan ng matinong picture ha  global warming',\n",
       " \"John E Doyle Consensus about humans' impact on global warming\",\n",
       " 'climate change theyre gone bill',\n",
       " ' SICK Gloria Steinem says that allowing a human child to be born instead of murdering it will cause global warming …',\n",
       " ' Negara paling rendah di dunia adalah Maldives Dijangka akan tenggelam kerana global warming pada suatu hari nanti JomÃ¢â‚¬Â¦',\n",
       " ' His smile is brighter than the sun ever with global warming ✨',\n",
       " ' The Economics Advantage assessing the value of climate change actions in agriculture Video cop22',\n",
       " 'Rosenthal Considering climate change is the issue voters are least concerned with in polls bullpenning probably sells more copies',\n",
       " 'America If you dont believe that the decline of pirates is causing global warming than look at this graph that is SCIENTIFI…',\n",
       " 'How is climate change effecting the military Sharon Burke poses the question on ujelp17 4corners',\n",
       " \" So are these trails contributing to climate change or are they 'geoengineering' which is supposed to combat it\",\n",
       " 'must be global warming',\n",
       " 'Yes RaiseOurTaxes to prevent global climate change',\n",
       " ' Sen Nick McKim offers Sen Malcolm Roberts a tin foil hat during climate change debate Ã¢â‚¬Â¦',\n",
       " ' Is dis �������� �� �� global warming bada Diya princess ne �� ��',\n",
       " 'Not a single mention of China inventing climate change Fake news BBCDebate LeadersDebate',\n",
       " '8 climate change i guess mine hurts like a bitch too',\n",
       " 'gotta be global warming They need some excuse',\n",
       " \" I'm a big fan of global warming I hate snow and cold weather climatemarch\",\n",
       " ' savor ur cold ones while u can climate change is gonna have u cracking a lukewarm one w the boys lmao',\n",
       " ' the way seokjin blinks is so adorable global warming stops trees grow crime rate decreases',\n",
       " 'The worst part of global warming is that I brought all my shorts to school only for it to be hot enough to wear one pair once',\n",
       " ' shes thinking about global warming tell your husband',\n",
       " 'plug your butt hole then if your so worried about methane causing global warming How many millions fart a day',\n",
       " ' Ã¢â‚¬ËœTILTÃ¢â‚¬â„¢ is a 5 STAR thought provoking conspiracy thriller involving climate change Ã¢â‚¬Â¦',\n",
       " \"Nigga asked me what's my inspiration I said global warming\",\n",
       " \"Kelly 'Polar bears don't have any natural enemies so if it dies it's from starvation' This is for the 'global warmingÃ¢â‚¬Â¦\",\n",
       " 'Tell us your story now about climate change in our story contest climatechange',\n",
       " \" Anything else you'd like to accuse Putin of Perhaps global warming Or maybe a yettobediscovered invasion of Ea…\",\n",
       " \"Masten Here's an explanation but the answer is no the main cause of climate change is not…\",\n",
       " \"Takes 2 seconds POLL What do you think of Trump's executive order on climate change\",\n",
       " ' Thanks global warming and one of my personal photographers',\n",
       " 'The sun spins around the earth global warming is a thing that can happen',\n",
       " 'time is passing by i still want you crime is on the rise i still want you climate change and debt i still want you',\n",
       " ' Great article about the teachers teaching climate change is manmade amp the conservative parents amp kids rejecting it …',\n",
       " ' The 2009 ad signed by the Trumps imploring Obama and Congress to act on climate change',\n",
       " ' The nominees for Secretary of Interior amp Energy have testified that they believe in manmade climate change',\n",
       " \" Do you guys actually care about climate change or are just mad Donald trump doesn't believe it's real\",\n",
       " 'Courting Disaster I noted yesterday that bluestatelevel action on climate change is onlyÃ¢â‚¬Â¦ ',\n",
       " \" Malcolm Roberts  'CSIRO have provided 0 empirical evidence on climate change' Journalist  'Do you believe in God SenÃ¢â‚¬Â¦\",\n",
       " \"Bitch talk to me I'll talk about global warming with you\",\n",
       " '45 we are going to fix it no tell but meal on wheel children lunchs woman health care climate change  hoax EPA not all of these needed',\n",
       " 'Harry is typing up a strongly worded email to management about the dangers of global warming shortly',\n",
       " 'sgk global warmingなら地球温暖化',\n",
       " \" Ok so i am a crochet addict This is my 'global warming blanket' stripes coloured according to last 100 years T an…\",\n",
       " ' 8 of Democrats deny climate change is a problem I suspect there is a lot of overlap bet…',\n",
       " ' You’re so hot you must be the cause for global warming ALDUBSeasonOfLove',\n",
       " ' Jualan climate change ga laku di jakarta Ga ada yg peduli makanya ga ada yang jualan Menyedihkan tp kenyataan httpÃ¢â‚¬Â¦',\n",
       " 'Juarez because of the global warming that was made up by the Chinese',\n",
       " ' What do you do when you are talking to the climate choirtake them to church  cuz climate change this is nothing short o…',\n",
       " \"Not exactly You resigned because you wouldn't be benefitting from climate change agenda You…\",\n",
       " \"Are you saying he DOESN'T believe in global warmingclimate change\",\n",
       " ' “Stop global warming” they demanded The AI sat quietly designing an optimal solution The first wave of plagues began…',\n",
       " ' Read somewhere Eating meat will cause global warming amp also gets heart attack',\n",
       " 'At RampM Developments we are always reviewing climate change and energy use  email the team to find out more estimat…',\n",
       " 'if global warming not real then explain this yourefakenews',\n",
       " ' climate changenothing a good creamsickle wont solve 😁😁',\n",
       " 'action Absolutely bugger all on climate change in the budget Reduce congestion more about time saving for motorists Unreal Bl…',\n",
       " \"Britain faces '1000 year ICE AGE' due to freak climate change I am neither endorsing or debunking this allegation\",\n",
       " 'Maybe global warming is messing up its sleep cycle',\n",
       " \" Reminder abstract deadline for the upcoming SSHB2017 symposium on 'The human biology of climate change' is 30 Jun…\",\n",
       " 'Southern South America is outside the nuclear fallout zone and temperate enough to survive global warming',\n",
       " \" On climate change Sellers RIP wrote 'History is replete with examples of us humans getting out of tight spots'…\",\n",
       " \"To people worried about global warming can't spell 'grody chillage' without 'ice age'\",\n",
       " 'might accidentally stop climate change buy giving large corporate tax breaks to manufacturers',\n",
       " \" if global warming isn't real why did club penguin shut down\",\n",
       " \" if global warming isn't real why did club penguin shut down\",\n",
       " \" Transcript Here's what actually said about climate change in his Fox interview today…\",\n",
       " ' polar bears for climate change',\n",
       " \"cancel billions in payments to UN climate change programs and use the money to fix America's water and environmental infrastructure\",\n",
       " 'Population growth and climate change explained by Hans Rosling',\n",
       " \" When it's 70 degrees in February in Chicago and you allow yourself to forget about climate change for a hot second…\",\n",
       " 'Bad storms turn every floodtossed Briton into an overnight expert on global warming business startup success motivation',\n",
       " 'People never notice climate change',\n",
       " \"Trumpland  next you'll be blaming him for climate change Fuck off you reprehensible creature\",\n",
       " \"he made good points abt common claims but he didn't debunk climate change he debunked popular arguments NONE of which I use\",\n",
       " ' If you believe that there is causation between global warming and diabetes you are a moron  obesity yes sedentary yes',\n",
       " \" Here's my other Sunday Toronto Sun column Schooling DiCaprio on global warming Ã¢â‚¬Â¦\",\n",
       " \"Serious q If GOP believes climate change isn't real why need 'clean' coal If humans can't impact enviro why need coal to be 'clean'\",\n",
       " ' ano na hirap mo hanapan ng matinong picture ha  global warming',\n",
       " \"if CA can’t build the bullet train using our own money then how was the state going to pay for a satellite to monitor climate change' 22\",\n",
       " \" Trump Time  What's next for the environment 'That includes a promise to cancel billions of climate change spendiÃ¢â‚¬Â¦\",\n",
       " 'I wrote this exact thing on my global warming essay can I report this for plagiarism 😤',\n",
       " 'bw Do you believe that negative climate change is real Please  I need a large variety of responses',\n",
       " \"Ok here's my pitch there's bells jingling a horse neighs then I jump in with this snappy tune about starving orphans and global warming\",\n",
       " 'Ã¢ï†\\x9dÂ¤Ã¯Â¸ï†\\x8fglobal warming',\n",
       " 'Anyone have ideas or content to share for teaching climate change content in Calc 1Calc 2',\n",
       " 'Is climate change sexist Ã°Å¸â€˜â‚¬',\n",
       " ' How do they expect us to care about global warming with all this penguin on penguin crime',\n",
       " ' Trump again vows to cancel the US contribution to the UN climate change program and spend it on clean water and clean air in AmÃ¢â‚¬Â¦',\n",
       " 'Iran Professor Donald solves climate change',\n",
       " ' Subnational leaders coming together for global cooperation on climate change at the States and Regions General AsseÃ¢â‚¬Â¦',\n",
       " 'Wikipedia 74 of Canadians see climate change as a threat so throw out that many voters',\n",
       " 'kalenga When global warming lit',\n",
       " ' polar bears for climate change',\n",
       " \" Dear Icebergs Sorry to hear about the global warming  Karma's bitch Sincerely The Titanic\",\n",
       " \"But global warming doesn't exist trump said so  It's gotta be True\",\n",
       " \" I can't wait for Elon and Ivanka Trump to solve climate change by empowering women to work 16 hour shifts building…\",\n",
       " \" He doesn't believe in climate change guys\",\n",
       " ' In the US climate change has never experienced the level of media attention or public interest it received over th…',\n",
       " \"Cave Factchecking Bernie Sanders in Phoenix Did Donald Trump call climate change a 'hoax' via Ã¢â‚¬Â¦\",\n",
       " 'since climate change is a hoax how about telling TN I no longer need emissions testing on my car I could use the 10bucks',\n",
       " \"  ’s carbon footprint hypocrisy reveals that he's not actually too worried about climate change…\",\n",
       " 'You mean climate change Climate change climate change climate change I will use it as much as I can Climate change',\n",
       " 'Fire is not abt global warming tho ������',\n",
       " ' How do they expect us to care about global warming with all this penguin on penguin crime',\n",
       " 'Vet link was in phone memory I was hoping for quiet Sunday of save the rhinos or end global warming',\n",
       " ' bob morley is so soft ill bet he has dreams of running in daisies with ellie and solving the climate change epidemic my beau…',\n",
       " 'China Briefing China acting on climate change provides the full transcript of the S',\n",
       " ' Just published New animation puts recent climate change in context of past 800000 yrs nerilie https…',\n",
       " \"Hi I researching IRO the Under2MOU amp will like to know if there's a current overview doc of Nigerian climate change responses\",\n",
       " ' Subnational leaders coming together for global cooperation on climate change at the States and Regions General AsseÃ¢â‚¬Â¦',\n",
       " 'Wow using antisemitism to describe climate change I am going to unload a can of aerosol in your honor snowflake',\n",
       " ' El hombre mas peligroso del mundo Donald Trump is betting against all odds on climate changeÃ¢â‚¬Â¦',\n",
       " \" Someone tell global warming that it's the firstdayofspring MondayMorning\",\n",
       " \" 'Some women lie about rape that's why I'm sending you a link about how climate change isn't real'\",\n",
       " ' Side effect of Demonitisation  Modi had to change his views about climate change MumbaiRains PaltuRam …',\n",
       " 'dont fight climate change everyone understand climate change and change causes caused by mans uses of planet Easy to do',\n",
       " \" She's back Dame Vivienne's first collection for London Fashion Week Men's raised the temperature on climate change…\",\n",
       " 'I wonder what the effects of climate change are on flying Flights have never been bumpier',\n",
       " \" Soakin' up that global warming sun\",\n",
       " 'Trump wins election amp he is now a catalyst for climate change in Wash No more cush jobs they will be accountablenopension',\n",
       " 'They ask me my inspiration I tell em global warming too cozy',\n",
       " \"Britain faces '1000 year ICE AGE' due to freak climate change I am neither endorsing or debunking this allegation\",\n",
       " ' if you believe in global warming have a crush on josh dun or hate yourself',\n",
       " \"If talks to about climate change and makes Japan pay for a hyper loop to Asia love ya Japan I'll get a boner\",\n",
       " \" Does anyone think global warming is a good thing I love Lady Gaga I think she's a really interesting artist\",\n",
       " \"Well it's good to know we don't have to worry about that global warming thing trump will have none of itlol\",\n",
       " ' Theory the more a guy cares about climate change the better he is at giving head',\n",
       " 'I must be this global warming they are talking about Making things to hot and melting snow flakes haha',\n",
       " \"they'll burn the fucker to the ground like the British global warming or no\",\n",
       " 'saxton oh dammit shadow international rade amp climate change I was kinda close',\n",
       " ' What happened to they all drove cars and caused global warming',\n",
       " 'if not for climate change information watch Before the Flood because Leonardo DiCaprio',\n",
       " \" i'm glad you asked 'email' mentions on cable news since Fri 2322 'climate change' mentions on cable since FrÃ¢â‚¬Â¦\",\n",
       " ' How do they expect us to care about global warming with all this penguin on penguin crime',\n",
       " \"there's nothing I man caused global warming to fix\",\n",
       " \"climate change protesters are causing traffic chaos and causing car journeys to take longer Isn't this causing more pollution Ironic\",\n",
       " ' polar bears for climate change',\n",
       " \" The United States' deputy ambassador in Beijing embassy has resigned over President Trump’s climate change decision…\",\n",
       " 'crayford Silly interview question Which has more impact on global warming bitcoins or JSON parsing',\n",
       " 'Hybrids the strange animals that have created climate change',\n",
       " \"What do you guys think of Trump's stance on climate change and global warming\",\n",
       " \" Let's talk climate change TravelBan FoxNewsSpecialists\",\n",
       " 'Mattis also says that climate change is a problem Just proves that elections are for show only',\n",
       " ' Interested in glaciers and climate change 2yr researcher position in regional climate modeling htt…',\n",
       " \" Fed EnergyEnvt Minister refused to allow term 'climate change' in COAG Energy Council Communique despit…\",\n",
       " ' American Airlines flight sent 10 to the hospital yesterday due to bazaar turbulence associated with global warming https…',\n",
       " \" The Rebel caught lying about journalists and climate change That's so out of character Thx Ã¢â‚¬Â¦\",\n",
       " 'This means scientists are actively trying to disprove human impact on climate change at the same rate they are proving',\n",
       " \"I don't believe Bella Thorne's and Tyler Posey's relationship exists just as much as Donald Trump doesn't believe global warming does\",\n",
       " ' Be a light for climate change © 2017 detail Beneath the Stars Tina Monod Acrylic 24x24 …',\n",
       " 'metafizik  said would handle climate change like OJ would hunt for his exwife’s murderer …',\n",
       " 'The complex world of climate change governance new actors new arrangements OUPblog',\n",
       " \" Orbison Hillary's been in charge for 20 years 'They' blame climate change on the new guy\",\n",
       " ' How do they expect us to care about global warming with all this penguin on penguin crime',\n",
       " ' 1st yung cyber technology na kay bilis2nd yung social media and 3rd climate change na di pwede baliwalain A…',\n",
       " ' yeah because all the boys come on twitter to talk about global warming and climate change',\n",
       " ' HERO John Kerry will spend Election Day cropdusting planet with jet exhaust to fight climate change Ã¢â‚¬Â¦',\n",
       " ' Crosscheck and disagree on climate change  warming cause What do you think',\n",
       " ' Here s how you could live and work in France all expenses paid to work on climate change The……',\n",
       " \" y'all trippin about climate change like we didn't already know that we all die you either kill yourself or get killed\",\n",
       " \" Obama's decisive action toward climate change has been to cut oil imports by 60 then subtitute those imports with domestic…\",\n",
       " 'Population growth and climate change explained by Hans Rosling',\n",
       " \" Hey girl are you climate change Because I'm going to ignore you until you fuck me\",\n",
       " 'blajar itu pake buku buku itu dari kertas kertas dari kayu mari kita dukung anti global warming dengan tidak blajar menggunakan bukuhehe',\n",
       " ' Stop worryin bout trump isis computer viruses AIDS ya moms amp mans global warming world hunger the war n SMASH THA…',\n",
       " ' Americans are even less worried about Russia than climate change',\n",
       " \" Leonardo DiCaprio's climate change documentary is free for a week INDIGENOUS TAIRP Ã¢â‚¬Â¦\",\n",
       " ' Turns out NYC Mayor is hypocritical about climate change what a shock',\n",
       " 'Right New Maine antidiscrimination bill would protect… climate change skeptics',\n",
       " \" Interviewer 'What do you think about global warming' Melania Trump 'Hello He's kind he's strong he's a great cÃ¢â‚¬Â¦\",\n",
       " \"Free stream of tonight's climate change event with on Pennsylvania Cable Network  \",\n",
       " 'What does GOD say about climate change Bill',\n",
       " 'global warming hits you fast',\n",
       " 'Why Corporate Demand Is Our Greatest Key to a Sustainable Future Despite climate change ………',\n",
       " \"Amber He obviously wrong but to call him a ' climate change denier…\",\n",
       " 'To tum ho global warming ki waja �� ��',\n",
       " ' forever summer holiday is about global warming',\n",
       " 'Plus loads of land that no doubt benefits from EU policies on farming amp global warming hypocrite',\n",
       " \" Watch Leonardo DiCaprio's climate change doc BeforeTheFlood for free online\",\n",
       " ' Unlicensed lemonade is a bigger threat than climate change I applaud Tower Hamlets Council for their swift action https…',\n",
       " 'They asked me what my inspiration was I told em global warming😂🔥🌎❄️',\n",
       " \"Just heard on Savage show that they're saying 'global warming' is causing the reindeer to get smaller  \",\n",
       " 'I’m cool but global warming made me hot ALDUB17thMonthsary',\n",
       " ' Jualan climate change ga laku di jakarta Ga ada yg peduli makanya ga ada yang jualan Menyedihkan tp kenyataan httpÃ¢â‚¬Â¦',\n",
       " 'If global warming was real then how are polar bears still building igloos and shit',\n",
       " 'why do people feel the need to blame taylor swift for everything that happens in the world cancer  taylor swift climate change taylor sw',\n",
       " ' Ironic China warns Trump against abandoning climate change deal Source China has warned Donald Trump that he httpsÃ¢â‚¬Â¦',\n",
       " \"jk bc global warming I'm currently wearing shorts\",\n",
       " \" here's the ceo of GE a company that gives money to jim inhofe  a senator who believes global warming is a hoax https…\",\n",
       " 'Lowkey not complaining about global warming Ã¢Ëœâ‚¬Ã¯Â¸ï†\\x8fÃ°Å¸ï†\\x8dÂ¹',\n",
       " '❤The Taiwan government should apologize to the whole world making air pollution caused the global warming',\n",
       " \" Trees come on motherfucker I'm getting real bored amp fuck climate change Ã¢â‚¬Â¦\",\n",
       " \" So how's that global warming thing going I see not important\",\n",
       " ' Making a thread on global warming facts yall need to know',\n",
       " \"Adam maakte al 923 keer zijn 'no agenda show' leuk Info over 'global warming'…\",\n",
       " \" It's snow joke climate change claims yet another casualty SaveOurSnowmen …\",\n",
       " \"  'debates on climate change amp endocrine disruptors have suffered from distortion of evidence by industrially…\",\n",
       " \"LMAO Damn ya'll vegans are slow The animals we eat are the ones affected by climate change they don't cause or af…\",\n",
       " \" Tim Ball starts by thanking Malcolm Roberts for his first visit to Australia calls global warming 'the greatest deceptionÃ¢â‚¬Â¦\",\n",
       " 'The very climate change theatricals have responded by lined up when they have installed wiggling mobile phones to claim a glass car',\n",
       " \" Leonardo DiCaprio's climate change documentary 'Before the Flood' is now streaming for free on YouTubeÃ¢â‚¬Â¦\",\n",
       " ' Will the climate change by the year 2000 Ask Secretary of Commerce Wilbur Ross ParisAccord',\n",
       " 'We might have found the ‘cure’ for global warming – and it’s basically Gaviscon D13',\n",
       " \"Wait wait WAIT looks outside the window Summer's over already Damn you climate change ☔️\",\n",
       " \" Today 'Adaptations to global climate change' symposium at eseb2017 Program here LT …\",\n",
       " \" In briefing just now White House official responds to question about whether Trump thinks climate change is real 'Can we…\",\n",
       " \" Trump Time  What's next for the environment 'That includes a promise to cancel billions of climate change spendiÃ¢â‚¬Â¦\",\n",
       " ' Leonardo DiCaprioÃ¢â‚¬â„¢s climate change film Before The Flood Music by Trent Reznor Watch free ',\n",
       " 'Is a tough climate change policy an election winning strategy',\n",
       " ' so just released an album called climate change in 2012 he released global warming really makes u think…',\n",
       " ' global warming killed club penguin',\n",
       " 'Whoah I sense tongueincheek in that article Did global warming melt your sense of humor as well as your glaciers',\n",
       " ' How do they expect us to care about global warming with all this penguin on penguin crime',\n",
       " ' Sweet Is it even possible for to be hotter Ah now I understand the reason for global warming ��☝������',\n",
       " \"Some kid named Naomi asked when climate change actually started Damn Mike drop for this little 6 yo That's a big question\",\n",
       " 'global warming aint got shit on us',\n",
       " ' bi lance omg why is everyone so hot ace pidge global warming',\n",
       " ' Poll Is man made climate change a scientific fact',\n",
       " 'I think Nuclear Winters and nearextinction are a bit risky in fighting global warming to be honest ',\n",
       " \"benjvmins no matter your size be comfortable bitch with global warming goin on it's gonna be hot af wear as little as possible\",\n",
       " 'Blamed global warming for the World SEries rain delay',\n",
       " ' Americans are even less worried about Russia than climate change',\n",
       " \" if global warming doesn't exist then why is club penguin shutting down\",\n",
       " \" Thank goodness we don't have to worry about climate change any more Well done THE BLOCKCHAIN\",\n",
       " \"China work on climate change you have a epidemic in your hands I'll be transferring some paperwork\",\n",
       " \"eh apparently climate change is SO bad that it's causing penguins to mutate into puffins ClimateBarbie…\",\n",
       " 'So you believe climate change is a hoax',\n",
       " ' Americans are even less worried about Russia than climate change',\n",
       " \" Let's talk climate change TravelBan FoxNewsSpecialists\",\n",
       " 'It is so cold in Russian they LIKE the idea of global warming PruittScienceFacts SCROTUS',\n",
       " \" 'You're gonna die of old age I'm gonna die of climate change' DNC staffer yells at Brazile for helping elect Trump Ã¢â‚¬Â¦\",\n",
       " ' we dont get a lot of new tatsunari pictures but when we do angels sing sinners are forgiven global warming is solve…',\n",
       " ' Wonder how many were just whining about climate change',\n",
       " 'Yo if japan made an anime about global warming do you thnk more people would care Kinda like more people liked animals after kemono friends',\n",
       " \"Well it's good to know we don't have to worry about that global warming thing trump will have none of itlol\",\n",
       " ' How do they expect us to care about global warming with all this penguin on penguin crime',\n",
       " \" Malcolm Roberts just asked the CSIRO about a study which stated 'penises cause climate change' Seriously…\",\n",
       " 'The latest The climate change Daily Thanks to climate',\n",
       " 'America If you dont believe that the decline of pirates is causing global warming than look at this graph that is SCIENTIFI…',\n",
       " \"Niggas asked me what my inspiration was I told'em global warming you feel me cozy\",\n",
       " 'Even if it were true the main word here isLESS It says less climate change than we thought Not no climate change',\n",
       " ' so to global warming for this beautiful weather',\n",
       " \"If you just love farmers and rural communities but don't believe in climate change it is still the best way to farm\",\n",
       " ' I will be on 5pm n discus climate change amp terorism Mar…',\n",
       " ' gemuk macam ni kalau gesel peha tu boleh mengakibatkan global warming',\n",
       " \"Dr Laure de Preux cochair of next week's conference looks at health impact of climate change MobiliseBusiness\",\n",
       " ' jiyong girls are so hot jiyong guys are hot too oh damn jiyong why is everyone so hot daesung global warming',\n",
       " 'If you think global warming and death storms are beyond our control this is your guy  Editorial  BergenCoNews',\n",
       " 'climate change',\n",
       " 'waiting for climate change effects',\n",
       " 'If global warming is real how come I had to wear a sweater to class today  me a scientist',\n",
       " \"'One of the benefits of global warming and international terrorism'\",\n",
       " 'Do you believe in climate change',\n",
       " 'Niggas ask me what my inspiration is I told them global warming',\n",
       " \" Theresa May's new chief of staff Gavin Barwell is known for his knowledgable concern about climate change …\",\n",
       " ' Do you believe in climate change Why LanghapSarapYum',\n",
       " 'Tempo11 Skies  weather  climate  climate change  global warming  HOW DARE YOU GET POLITICAL  unfollow',\n",
       " 'Trumps 1st day 1 Repeal Obamacare 2 Cancel Obama executive orders mostly re climate change 3 Supreme Court 4 Cancel Iran Deal',\n",
       " ' Back door knocking in Spruce Cliff Important discussions on Westgate School and climate change yyccurrie abndp httpsÃ¢â‚¬Â¦',\n",
       " 'Government employees in the EPA will not give Trump the names of people who worked on or attended meetings on climate change',\n",
       " 'Do you think investors pressuring oil giants on climate change can impact value of oil reserves',\n",
       " ' when global warming🔥🌍 got the weather perfect 👌amp all your windows down cooling cause you know we about to have a wa…',\n",
       " 'brorelax Hence something like climate change findings',\n",
       " ' Trump has selected Myron Ebell a climate change and global warming skeptic to lead the transition teamÃ¢â‚¬Â¦',\n",
       " \" she's protesting for climate change\",\n",
       " ' Genuinely interested about the group who follows me Is global warming real',\n",
       " 'new pitbull single called climate change ��',\n",
       " \" 🎵it's beginning to look a lot like global warming🎵\",\n",
       " ' In full page ad in NYT in 2009 called for urgent action on climate change Which does he believe httÃ¢â‚¬Â¦',\n",
       " \"People who believe in climate change also generally refuse to say that trans isn't real out loud so You're no better\",\n",
       " \" Throws phone 'Please direct your feedback to our FB Messenger which is powered by telepathy and climate change denial' …\",\n",
       " 'US has announced it will withdraw from the Paris climate accord Over 33 thousand WikiLeaks docs on climate change gWeRB',\n",
       " \" People scared of global warming killing everyone like that's a bad thing lmao\",\n",
       " 'This global warming so late in the season is pretty annoying ��',\n",
       " ' Just published New animation puts recent climate change in context of past 800000 yrs nerilie https…',\n",
       " 'paul27 This weather is love I fuck with global warming',\n",
       " \"If Trump ever decides climate change is real fixing it will be Jared's job too\",\n",
       " 'MasterPiece happy anniv KissMarc  imaah KM before hahaha  climate change KISSES AlbumAbangan',\n",
       " \" Does anyone think global warming is a good thing I love Lady Gaga I think she's a really interesting artist\",\n",
       " 'wow wow finally climate change is not the evil now you wake up Good',\n",
       " ' staph causing global warming you hot stuff ��������',\n",
       " ' How do they expect us to care about global warming with all this penguin on penguin crime',\n",
       " 'I think there is a difference between climate change and global warming',\n",
       " ' Little known fact that unsecured private emails have massive global warming potential so this is fine …',\n",
       " \"Due to global warming and hot temps construction jobs are up Wait your boss doesn't believe the jobs report\",\n",
       " ' Grassyknoll  AntiTrump actor fights global warming but won’t give up 14 homes and private jet',\n",
       " ' Team energyclimate change we should check this out McGgovt fant httpsÃ¢â‚¬Â¦',\n",
       " 'waiting for climate change effects',\n",
       " \"this has got to be fake news 'cause NOAA says there's global warming \",\n",
       " \"Except this one chick who's watching that Leonardo DiCaprio documentary about climate change Boo NoChicagoPride ScienceIsBad\",\n",
       " 'peters Never been climate change fanatic But was dragged to 4day highpower climate change conference ONLY TOTAL DIMWIT WOULD B…',\n",
       " ' The climate change mannequin challenge news 61216 © Glen Le Lievre XNUHoF …',\n",
       " \"It's March global warming much pennsylvania snow spring uppergwenyd dyecorduroy…\",\n",
       " 'By storing water for irrigation and drinking purposehow is he battling climate change Slightly stretched',\n",
       " \"Ok here's my pitch there's bells jingling a horse neighs then I jump in with this snappy tune about starving orphans and global warming\",\n",
       " \"pl '40 of the US population doesn't see why global warming is a problem since Christ is returning in a few decades' Chomsky…\",\n",
       " 'Denying climate change is in standing up for bold action now',\n",
       " 'Wireman I love this weather but like global warming',\n",
       " ' Do you believe in climate change',\n",
       " \"toll I'm not saying it is or isn't But why do you feel climate change is a hoax\",\n",
       " \"EricThe CA Public Utility Commission is now collecting mandatory to 'fight climate change' lt WTF\",\n",
       " \"Donald Trump will find it 'very difficult' to back out of Paris climate change Agreement\",\n",
       " 'Spended da day servicing da snowblowers in short sleeves outside da bright side of climate change',\n",
       " \" 'We’ve got to … try to ride the global warming issue Even if the theory of global warming is wrong …' …\",\n",
       " ' Lovin this global warming weather ',\n",
       " ' Trump again vows to cancel the US contribution to the UN climate change program and spend it on clean water and clean air in AmÃ¢â‚¬Â¦',\n",
       " \"took me a while to get to this thanks so much scary how 'climate change' has sort of lost its sexiness in the media meanwhile\",\n",
       " 'At Chautauqua discussion on climate change with CSIS expert',\n",
       " 'Would you like to add a quote to a press release about climate change Share here',\n",
       " ' Just published New animation puts recent climate change in context of past 800000 yrs nerilie https…',\n",
       " \"If global warming isn't real then why is club penguin shutting down\",\n",
       " ' SICK Gloria Steinem says that allowing a human child to be born instead of murdering it will cause global warming …',\n",
       " 'Ranch No it is when hell freezes over  climate change',\n",
       " 'it’s a bigger deal than climate change because eventually maybe we can fix that',\n",
       " 'Damn China amp their climate change conspiracy Frack baby frack',\n",
       " 'I feel the more interesting Venn diagram is those who do believe in climate change and those who don’t believe in s…',\n",
       " ' Crosscheck and disagree on climate change  warming cause What do you think',\n",
       " ' How do they expect us to care about global warming with all this penguin on penguin crime',\n",
       " 'Uhhhhhh oh now they are teaching us about global warmingis this National Geographic or CNN I am so confused b…',\n",
       " 'page I asked my dad to watch this documentary that just came out on climate change and legit turned it into a trump vs hillary thing',\n",
       " 'I hate global warming A LOT but I kinda think the universe is giving us these temps to save us from the rest of the mess that is life rn ☀️',\n",
       " \"kanew Keep on it heard something like this week's ago It's not just climate change info'they' are taking down\",\n",
       " ' Nothing to do with global warming of course',\n",
       " \"lee i blame you girls for global warming y'all should feel bad haha\",\n",
       " \" Orbison Hillary's been in charge for 20 years 'They' blame climate change on the new guy\",\n",
       " \" We now have to say 'extreme severities in weather events' 😂😂😂 that's how we're gonna sell climate change to ol' boy\",\n",
       " ' because of global warming boobs are going ixtinct',\n",
       " ' Yes nothing like a little snow storm in NYC when you are on your way to work Hello climate change https…',\n",
       " \" The budget also says that the administration would “cease payments to the United Nations’ climate change programs' https…\",\n",
       " 'snuggles u Depression random mood swings global warming',\n",
       " \" Hey girl are you climate change Because I'm going to ignore you until you fuck me\",\n",
       " 'what climate change',\n",
       " 'I fw global warming heavily',\n",
       " ' cause of global warming ����',\n",
       " \"You're quite the twat magnet Don't ever tweet about climate change  those nobbers REALLY don't mind para…\",\n",
       " ' Santa discovers undeniable proof of global warming as he sets off from the North Pole',\n",
       " 'Octo results in climate change errors ',\n",
       " ' Explain this global warming stuff to me��',\n",
       " ' Everytime Renjun breathes he slows down global warming He realigns the Earth Animals recover from extinction Deforesta…',\n",
       " 'climate change in the united kingdom jeep dealers lincoln ne',\n",
       " 'Want ‘climate change consensus’ Let’s form the McChrystal Commission',\n",
       " ' Will global warming impact on coldrelated deaths Come to Prof Richard Morris Inaugural Lecture…',\n",
       " ' Our emergency podcast on President Trump and where we go from here on climate change As emotional as podcasts get httpÃ¢â‚¬Â¦',\n",
       " \"Britain faces '1000 year ICE AGE' due to freak climate change I am neither endorsing or debunking this allegation\",\n",
       " \"What you're doing is interesting but with that anchor I FEEL the pro climate change side won Valid side of argument or not\",\n",
       " 'Daily Briefing  Rex Tillerson took a different tone on climate change when the cameras were off amp more…',\n",
       " \" 'If global warming is real then why do you sleep under the covers'\",\n",
       " \" Dr Jonathan Pershing's special envoy for climate change ClimateCounts Ã¢â‚¬Â¦\",\n",
       " ' Gonna be funny when Trump becomes the global warming president probablywonthappenbutwhoreallyknows',\n",
       " 'teen Women4Climate women are the cause of global warming becaues they are so sexy Hot',\n",
       " 'gotta be global warming They need some excuse',\n",
       " \"Leonardo DiCaprio the guy UN chose for global warming Ain't seen often on social media He doesn't transmit STD Still he isn't seen\",\n",
       " \" Eddie Vedder talked about climate change during his RockHall2017 induction speech saying 'it's real it's not fak…\",\n",
       " 'Whole truth about climate change😎',\n",
       " 'Hopefully your climate changes to 1488Ã‚Â° in the near future',\n",
       " 'Differences in climate change GHToday',\n",
       " \" i still can't believe this gif of taehyung saved the human race stopped global warming and watered every plant onÃ¢â‚¬Â¦\",\n",
       " \"Fck me I'm being told to turn my TV off at the wall to help fight global warming but look at all those planes in the sky\",\n",
       " \"DylanLane Wes Rucker's opinion on climate change is exactly why I opened this app tonight\",\n",
       " ' Teacher Explain climate change Ms Dion Celine Dion There wer nights when the wind was so cold There wer days when…',\n",
       " ' Weather used to not be climate but now snow in winter is climate change',\n",
       " 'blast caused by cow farts global warming and HRCs hot lying air',\n",
       " ' Directive set to reverse Obamaera policies that prioritized the role of climate change in government decisions ie…',\n",
       " ' Due to Russian bots and global warming AprilFoolsDay happened in November',\n",
       " \"Your WCW snap chatted the snow outside and said 'global warming'\",\n",
       " 'she give me hot head i call her global warming',\n",
       " \"Philippines used climate change It's very effective\",\n",
       " ' Hacking models for infectious disease and climate change IMED2016 Ã¢â‚¬Â¦',\n",
       " ' No Ezra it is global warming Maybe the 8 Billion litres of sewage dumped by Climate Barbie in Montreal h…',\n",
       " \" If climate change isn't real then how do you explain the sudden rise in tweetstorms\",\n",
       " \" I do wonder if it's time journos started stating 'immigrants are good for the economy' like we now say 'climate change is c…\",\n",
       " 'Leave climate change the political economy of agriculture in India is fanning farmer anger Also see…',\n",
       " ' Making a thread on global warming facts yall need to know',\n",
       " 'The problem in our world 2day is not climate change or economic issues but the rising challenges of inhuman senseless people in human form',\n",
       " \"The climate change 'physicist entrepreneurs' Malm described geoengineeeing  the Lauderdale effect capital\",\n",
       " ' Trump Whatever Al Gore says well cope with climate change  CNET charlesmilander …',\n",
       " \"   Trump is like 'global warming'melting away the iceberg ��\",\n",
       " 'climate change sus ��',\n",
       " ' A CNN host said we should all vote for Hillary because she believes in climate change These countries make one tÃ¢â‚¬Â¦',\n",
       " 'cold weather is my time to shine and global warming is really messing that up for me',\n",
       " 'the global warming is caused by her cabbage farts',\n",
       " ' If global warming is a hoax then why did club penguin shut down ��������',\n",
       " 'Talking in German about food and climate change ❤️ R20AWS',\n",
       " 'Maybe global warming is messing up its sleep cycle',\n",
       " ' 米国政府はある研究者に連絡して、申請書のアブストラクトに「climate change」気候変動との表現を削除しないと予算を貰えない、と通知した。スタリん時代のソ連や毛沢東の文化大革命並のサイエンスに政治的介入だ。どうなる米国…',\n",
       " 'To reign global warming on Israel',\n",
       " 'They also deny climate change Chinese hoax right',\n",
       " 'Harry is professing his love for the dangers of global warming tomorrow',\n",
       " 'climate change',\n",
       " ' How am I supposed to crack open a cold one with the boys with all this global warming',\n",
       " 'Hybrids the strange animals that have created climate change',\n",
       " \" 'If you know where someone stands on abortion or masturbation you'll know where they stand on climate change' RobÃ¢â‚¬Â¦\",\n",
       " 'zimmer Icebergs for global warming',\n",
       " ' When 225 Canadians jet to Morocco to Ã¢â‚¬Ëœfight climate changeÃ¢â‚¬â„¢ they emit clouds of hypocrisy cdnpolÃ¢â‚¬Â¦',\n",
       " \"Scientists are now saying climate change is 'whatever' and life is 'bullshit' and 'Judith left me last night that's why I'm drunk at work'\",\n",
       " ' 8 of Democrats deny climate change is a problem I suspect there is a lot of overlap bet…',\n",
       " \"you can't disprove irrelevant arguments just because you don't believe in global warming the fallacies\",\n",
       " 'Which was came up with the idea to order the EPA to remove all data about climate change from its website YOU',\n",
       " 'I would say one of the only positives about obvious global warming is that I can go out and catch bass in the middle of February',\n",
       " \" 'I tell you I only discredited climate change scientists for years but this Trump business is crazy' No No No NOOOOOOO…\",\n",
       " ' what a beautiful day for climate change',\n",
       " \" if global warming isn't real why did club penguin shut down\",\n",
       " 'I hate global warming A LOT but I kinda think the universe is giving us these temps to save us from the rest of the mess that is life rn ☀️',\n",
       " \"This is the difference between Canada and the US While they're gutting climate change from EPA site we're worried…\",\n",
       " \" ur mcm doesn't believe in global warming\",\n",
       " \"If climate change isn't real how come club penguin shut down\",\n",
       " \"The pledge is to keep global warming 'well below 2 degrees' climatecounts\",\n",
       " 'Watch get climate change lessons from ',\n",
       " 'Is the iceberg that broke off Antarctica the result of climate change ',\n",
       " 'Good Less babies and more food Adopt these lil Asian babies so you can do something good in your miserable global warming ass life',\n",
       " ' Team energyclimate change we should check this out McGgovt fant httpsÃ¢â‚¬Â¦',\n",
       " ' Little known fact that unsecured private emails have massive global warming potential so this is fine …',\n",
       " '  article discusses gene catalogues that aim to select crops that can survive climate change…',\n",
       " 'Whole truth about climate change😎',\n",
       " 'Hudson Excolleague of Ambassador Rank tells that climate change was a key reason he took the job in China…',\n",
       " \"This is the difference between Canada and the US While they're gutting climate change from EPA site we're worried…\",\n",
       " ' Hey Lisa Bloom you want to schedule a presser for Reality Winner and blame the President and climate change for t…',\n",
       " \"Just heard on Savage show that they're saying 'global warming' is causing the reindeer to get smaller  \",\n",
       " ' Our annual Bray Day Service named after our founder will focus on climate change Wed 15 Feb 12am London …',\n",
       " ' When you chilling by the Mbawula portable fire place and a random nigga starts lecturing you about global warming …',\n",
       " \" Interesting how people brag about being ignorant about math but ask the same person about global warming and they're…\",\n",
       " \" look into the camera and tell climate change 'stop it'\",\n",
       " ' Unlicensed lemonade is a bigger threat than climate change I applaud Tower Hamlets Council for their swift action https…',\n",
       " 'He is writing a song about the dangers of global warming eventually',\n",
       " \"Five reasons Harvey has been so destructive  it's not only about climate change Related Articles\",\n",
       " 'If global warming is real how come I had to wear a sweater to class today  me a scientist',\n",
       " ' yeah because all the boys come on twitter to talk about global warming and climate change',\n",
       " 'Team 32 interesting to hear more accounts about peoples opinions on climate change 17posc225',\n",
       " \" You must be a rocket scientist with retorts like that one Maybe you should tell Trump climate change wasn't a hoax from China\",\n",
       " 'ancient carvings prophesy how MOAB could solve climate change',\n",
       " \" Interviewer 'What do you think about global warming' Melania Trump 'Hello He's kind he's strong he's a great cÃ¢â‚¬Â¦\",\n",
       " 'Great to find experts using data rather than dogma in analysis of climate change  …',\n",
       " 'Both are required I believewe should add to our next climate change editorial',\n",
       " 'Thinking about climate change gives me anxiety 🙂',\n",
       " ' Where is your degree in science u r blowning methane out of your mouth creating more global warming The Arctic isÃ¢â‚¬Â¦',\n",
       " ' Trump has selected Myron Ebell a climate change and global warming skeptic to lead the transition teamÃ¢â‚¬Â¦',\n",
       " 'This means scientists are actively trying to disprove human impact on climate change at the same rate they are proving',\n",
       " 'Whoah I sense tongueincheek in that article Did global warming melt your sense of humor as well as your glaciers',\n",
       " 'I began to belive in global warming seeing all the believe in global warming seeing all the fried brains here on',\n",
       " ' This thread A journalist who has reached his breaking point covering climate change',\n",
       " \"A SciFi author explains why we won't solve global warming Read the blog Ã¢Å¾Â¡ amreading\",\n",
       " \" It's from all the jet fuel burned by the private jets that shuttle you amp DiCaprio to your climate change speeches http…\",\n",
       " \" Whew I thought they were going say sexism brought us 'global warming' There might be someÃ¢â‚¬Â¦\",\n",
       " ' Turns out NYC Mayor is hypocritical about climate change what a shock',\n",
       " '65° today So global warming',\n",
       " \" good morning i'm glowing my pussy poppin and i'm not contributing to the leading cause of climate change i love being…\",\n",
       " 'Its 20 degrees here and global warming is not even on my list of things to be concerned about',\n",
       " 'tfw u leave work and its hailing and raining but it was 60 yesterday thank u global warming',\n",
       " \"if global warming ain't real then explain club penguin shutting down\",\n",
       " \" If global warming doesn't exist then why is Club Penguin shutting down Stay woke\",\n",
       " 'Do you believe in climate change',\n",
       " 'the main goal is to protect species from over fishing and allow them to repopulate not to protect them from global warming',\n",
       " 'climate change theyre gone bill',\n",
       " 'Kentut sapi termasuk penyebab utama global warming karena mengeluarkan gas panas yang bisa merusak udara',\n",
       " 'With regards to climate change',\n",
       " 'emawee human involvement with climate change',\n",
       " ' 1st yung cyber technology na kay bilis2nd yung social media and 3rd climate change na di pwede baliwalain A…',\n",
       " 'climate change',\n",
       " 'kalenga When global warming lit',\n",
       " 'They r good for causing global warming because of all the hot air they r expelling Maybe they need to shut the hel…',\n",
       " 'Maybe a freak storm generated by global warming will hit Washington DC damage White House Congress and other hi…',\n",
       " ' Are you prepared for climate change asks George Pepler Award winner Isobel BrunnKiaer in her blog',\n",
       " \"atWoo We are excited to welcome filmmaker Jared Scott Join us on Thursday 29 to screen his film about climate change 'Age…\",\n",
       " \"Don't you for climate change after visit to young liberal staffer would like when it had a special guest Lady Gaga\",\n",
       " ' 2 ปัญหานี้กำลังจะเป็นปัญหาระดับโลก ฝรั่งจะกดดันเราเหมือนประมงiuu และ climate change เพราะว่าขยะกับปลาในทะเลมันโกอินเตอร์ได้…',\n",
       " ' How can people still try to deny global warming when Club Penguin had to shut down',\n",
       " ' Do you believe in climate change Why LanghapSarapYum',\n",
       " 'global warming',\n",
       " 'dying of climate change Ã°Å¸ËœÆ’',\n",
       " 'might accidentally stop climate change buy giving large corporate tax breaks to manufacturers',\n",
       " 'Some scary climate change references in that last scene iceampfire GamesOfThrones bestepisode',\n",
       " ' In full page ad in NYT in 2009 called for urgent action on climate change Which does he believe httÃ¢â‚¬Â¦',\n",
       " ' In a strange twist fear of human extinction by global warming evaporated as the more threatening fear of global annihila…',\n",
       " 'if climate change is a hoax why did Club Penguin shut down',\n",
       " \" Tomorrow at noon Scotland's First Minister talks Brexit climate change and more Livestream here…\",\n",
       " \" Since it's coming up again because of Irma here's what we know about the link between climate change amp hurricanes https…\",\n",
       " ' How do they expect us to care about global warming with all this penguin on penguin crime',\n",
       " 'Damn China amp their climate change conspiracy Frack baby frack',\n",
       " 'I guess global warming and sea rise came earlier than I thought now that Wichita is on the Atlantic Coast',\n",
       " ' Great events coming up next week Oxford climate change actions identity politics understanding corruption…',\n",
       " 'I thought it was increasingly poor diets and lack of exercise but climate change makes more sense',\n",
       " 'Watch get climate change lessons from ',\n",
       " \" To read most climate change articles you'd think there aren't any women climate scientists Climate journalists do bet…\",\n",
       " \"Starving poor people don't give a shit about global warming or climate change All they want is some food and fuel to cook it\",\n",
       " ' Damn girl are you climate change because I believe you are real and that you might kill me',\n",
       " \" Turnbull's dead end on climate change\",\n",
       " 'This is why global warming exists',\n",
       " 'Damn global warming',\n",
       " \"We're gonna end global warming baby\",\n",
       " \"Lol love this climate change's a threat to Mattis bc it'll make terrorizing the mideast to secure US oil assets a…\",\n",
       " \" true even the global warming is Taylor's fault everything is Taylor's fault\",\n",
       " 'The problem in our world 2day is not climate change or economic issues but the rising challenges of inhuman senseless people in human form',\n",
       " 'KArmstrong I am blaming global warming',\n",
       " \"BabyKhai In all seriousness Them hoes adapting and it's not hard for them because of global warming Ã°Å¸ËœÂ\\xadÃ°Å¸Ëœâ€š\",\n",
       " 'Ranch I understand the impact of global warming as I once had to DOUBLE apply sun screen while on a Bahamian Island vacation t…',\n",
       " 'This is why global warming exists',\n",
       " \"eh apparently climate change is SO bad that it's causing penguins to mutate into puffins ClimateBarbie…\",\n",
       " ' remember the time republicans blamed Barbra Streisand for global warming',\n",
       " ' Back door knocking in Spruce Cliff Important discussions on Westgate School and climate change yyccurrie abndp httpsÃ¢â‚¬Â¦',\n",
       " \"Gold's gone many other minerals almost gone we've restricted 12 of sought import hardwoods and China's now planting for climate change\",\n",
       " 'my nut red peonies global warming lawngreen tea earth aaaaaaaaaaa',\n",
       " \"global warming is not a thing' he said\",\n",
       " \" You don't hear much about 'global warming' any more 'Climate change' is more userfriendly Age\",\n",
       " \" Obama thinks global warming isn't real\",\n",
       " 'Wo climate change legislation military occupation will become more necessary to make hungry people shut up about being hungry ChevyMalibu',\n",
       " 'me we need snow smh fuck climate change snows me',\n",
       " 'I liked a video these intros will legit stop global warming',\n",
       " 'I texted friend wanting2know WHERE MYblasted global warming was',\n",
       " 'Now I Get It The hot debate over the Paris Agreement on climate change',\n",
       " ' WUWT climate change briefing for PresidentelectÃ‚ Trump',\n",
       " ' Our president on TV is climate change in reality Climate of our country Climate of our culture Catac…',\n",
       " 'Opinions Does climate change concern you  Vote and retweet climate',\n",
       " 'I know that climate change is within',\n",
       " 'You cannot talk about climate change and defence in the same moment audience  push the button and you will not nee…',\n",
       " \"tree If you aren't commuting to work strictly by rolling down steep hills you are the reason for global warming\",\n",
       " 'BBC News crid4b7ljy  signed an agreement accepting the need to tackle climate change But less than a month later this In ',\n",
       " 'This global warming so late in the season is pretty annoying ��',\n",
       " ' shes thinking about global warming tell your husband',\n",
       " ' 19 de Julho e está a chover come on global warming',\n",
       " ' Clearly a sign of global warming The AI winter of the 1980s is thawing',\n",
       " ' Look on the bright side compared to the coming thermonuclear inferno global warming will seem quite pleasant',\n",
       " 'EN What effect is global warming having on the Swiss Alps ⛰️',\n",
       " 'menTory remember global warming as well',\n",
       " \"If anyone needs a respite from global warming come over to my parents' house\",\n",
       " \"sensei Interviewers don't push back against ANYTHING 'Oh reverse racism amp climate change are both real Yes everyone has a po…\",\n",
       " 'the global warming is caused by her cabbage farts',\n",
       " \" PMB attends a climate change conference to make commitments to reduce carbon emissions when we aren't even industriÃ¢â‚¬Â¦\",\n",
       " \" Tomorrow at noon Scotland's First Minister talks Brexit climate change and more Livestream here…\",\n",
       " 'summerstanton Honestly people over react way too quickly How much you wanna bet the gay rights and climate change pages online are…',\n",
       " ' Innocent babes not getting tattooed still branded children of the climate change era Birthmark',\n",
       " \"I hope that the scientists have included that in their 'climate change' research calculations\",\n",
       " \" Here's the statement of NYT editorial page editor James Bennet about Bret Stephens' oped on climate change …\",\n",
       " ...]"
      ]
     },
     "execution_count": 22,
     "metadata": {},
     "output_type": "execute_result"
    }
   ],
   "source": [
    "tweets_clean"
   ]
  },
  {
   "cell_type": "code",
   "execution_count": 26,
   "metadata": {},
   "outputs": [],
   "source": [
    "df_upsampled['message'] = tweets_clean"
   ]
  },
  {
   "cell_type": "code",
   "execution_count": 27,
   "metadata": {},
   "outputs": [],
   "source": [
    "#make lower case\n",
    "df_upsampled['message'] = df_upsampled['message'].str.lower()"
   ]
  },
  {
   "cell_type": "markdown",
   "metadata": {},
   "source": [
    "## Tokenization"
   ]
  },
  {
   "cell_type": "code",
   "execution_count": 28,
   "metadata": {},
   "outputs": [],
   "source": [
    "from nltk.tokenize import word_tokenize, TweetTokenizer"
   ]
  },
  {
   "cell_type": "code",
   "execution_count": 29,
   "metadata": {},
   "outputs": [],
   "source": [
    "tokeniser = TweetTokenizer()\n",
    "df_upsampled['tokens'] = df_upsampled['message'].apply(tokeniser.tokenize)"
   ]
  },
  {
   "cell_type": "code",
   "execution_count": 30,
   "metadata": {},
   "outputs": [
    {
     "data": {
      "text/plain": [
       "11385    [we're, talking, about, this, story, on, socia...\n",
       "10030    [yes, and, the, view, will, find, a, way, to, ...\n",
       "12929    [bogar, the, celebrities, who, are, all, screa...\n",
       "14408    [how, can, people, still, try, to, deny, globa...\n",
       "13470    [kong, 64, is, there, really, a, god, does, gl...\n",
       "Name: tokens, dtype: object"
      ]
     },
     "execution_count": 30,
     "metadata": {},
     "output_type": "execute_result"
    }
   ],
   "source": [
    "df_upsampled['tokens'].head()"
   ]
  },
  {
   "cell_type": "markdown",
   "metadata": {},
   "source": [
    "## Vectorize"
   ]
  },
  {
   "cell_type": "code",
   "execution_count": 5,
   "metadata": {},
   "outputs": [],
   "source": [
    "from sklearn.feature_extraction.text import CountVectorizer"
   ]
  },
  {
   "cell_type": "code",
   "execution_count": 56,
   "metadata": {},
   "outputs": [],
   "source": [
    "df_upsampled.to_csv(r'C:/Users/alta/Documents/Explore/Trains/Sprint 6/kaggle/df_upsampled.csv', index = False)"
   ]
  },
  {
   "cell_type": "code",
   "execution_count": 20,
   "metadata": {},
   "outputs": [
    {
     "data": {
      "text/plain": [
       "20"
      ]
     },
     "execution_count": 20,
     "metadata": {},
     "output_type": "execute_result"
    }
   ],
   "source": [
    "import gc\n",
    "gc.collect()"
   ]
  },
  {
   "cell_type": "code",
   "execution_count": 24,
   "metadata": {},
   "outputs": [],
   "source": [
    "df_upsampled = pd.read_csv('C:/Users/alta/Documents/Explore/Trains/Sprint 6/kaggle/df_upsampled.csv')"
   ]
  },
  {
   "cell_type": "code",
   "execution_count": 25,
   "metadata": {},
   "outputs": [],
   "source": [
    "vect = CountVectorizer(ngram_range=(3,4))"
   ]
  },
  {
   "cell_type": "code",
   "execution_count": null,
   "metadata": {},
   "outputs": [],
   "source": [
    "X_tokens = vect.fit_transform(df_upsampled['message'])\n",
    "df_tokens = pd.DataFrame(X_tokens.A, columns=vect.get_feature_names())"
   ]
  },
  {
   "cell_type": "code",
   "execution_count": 8,
   "metadata": {},
   "outputs": [
    {
     "data": {
      "text/plain": [
       "Index(['004 change the', '004 change the climate', '0bama ties to',\n",
       "       '0bama ties to global', '0bama to 9112001', '0bama to 9112001 amp',\n",
       "       '0friv the problem', '0friv the problem for', '10 bet it',\n",
       "       '10 bet it just',\n",
       "       ...\n",
       "       'และ climate change เพราะว', 'โอ how climate', 'โอ how climate change',\n",
       "       'と通知した スタリん時代のソ連や毛沢東の文化大革命並のサイエンスに政治的介入だ どうなる米国',\n",
       "       '気候変動との表現を削除しないと予算を貰えない と通知した スタリん時代のソ連や毛沢東の文化大革命並のサイエンスに政治的介入だ',\n",
       "       '気候変動との表現を削除しないと予算を貰えない と通知した スタリん時代のソ連や毛沢東の文化大革命並のサイエンスに政治的介入だ どうなる米国',\n",
       "       '申請書のアブストラクトに climate change',\n",
       "       '申請書のアブストラクトに climate change 気候変動との表現を削除しないと予算を貰えない',\n",
       "       '米国政府はある研究者に連絡して 申請書のアブストラクトに climate',\n",
       "       '米国政府はある研究者に連絡して 申請書のアブストラクトに climate change'],\n",
       "      dtype='object', length=90391)"
      ]
     },
     "execution_count": 8,
     "metadata": {},
     "output_type": "execute_result"
    }
   ],
   "source": [
    "col_names_tokens = df_tokens.columns\n",
    "col_names_tokens"
   ]
  },
  {
   "cell_type": "code",
   "execution_count": 9,
   "metadata": {},
   "outputs": [],
   "source": [
    "#add sentiment and to dataframe\n",
    "y = df_upsampled['sentiment']"
   ]
  },
  {
   "cell_type": "markdown",
   "metadata": {},
   "source": [
    "# Train model"
   ]
  },
  {
   "cell_type": "markdown",
   "metadata": {},
   "source": [
    "## Split data into train and test data set"
   ]
  },
  {
   "cell_type": "code",
   "execution_count": 10,
   "metadata": {},
   "outputs": [],
   "source": [
    "from sklearn.model_selection import train_test_split\n",
    "\n",
    "X_train, X_test, y_train, y_test = train_test_split(df_tokens,y)"
   ]
  },
  {
   "cell_type": "markdown",
   "metadata": {},
   "source": [
    "# Feature Selection"
   ]
  },
  {
   "cell_type": "markdown",
   "metadata": {},
   "source": [
    "## Threshold variance"
   ]
  },
  {
   "cell_type": "code",
   "execution_count": null,
   "metadata": {},
   "outputs": [],
   "source": [
    "# Import the var thresh model and choose a threshold\n",
    "from sklearn.feature_selection import VarianceThreshold\n",
    "selector = VarianceThreshold(threshold=0.02)\n",
    "\n",
    "# Transform (i.e.: run selection on) the training data\n",
    "X_train_vt = selector.fit_transform(X_train)"
   ]
  },
  {
   "cell_type": "code",
   "execution_count": null,
   "metadata": {},
   "outputs": [],
   "source": [
    "X_test_vt = selector.transform(X_test)"
   ]
  },
  {
   "cell_type": "code",
   "execution_count": null,
   "metadata": {},
   "outputs": [],
   "source": [
    "X_train_vt.shape"
   ]
  },
  {
   "cell_type": "code",
   "execution_count": 1099,
   "metadata": {},
   "outputs": [
    {
     "data": {
      "text/plain": [
       "(3955, 13)"
      ]
     },
     "execution_count": 1099,
     "metadata": {},
     "output_type": "execute_result"
    }
   ],
   "source": [
    "X_test_vt.shape"
   ]
  },
  {
   "cell_type": "code",
   "execution_count": null,
   "metadata": {},
   "outputs": [],
   "source": []
  },
  {
   "cell_type": "markdown",
   "metadata": {},
   "source": [
    "## K-best"
   ]
  },
  {
   "cell_type": "code",
   "execution_count": 1100,
   "metadata": {},
   "outputs": [],
   "source": [
    "# Import the feature selector module\n",
    "from sklearn import feature_selection\n",
    "from sklearn.feature_selection import f_classif\n",
    "\n",
    "# Set up selector, choosing score function and number of features to retain\n",
    "selector_kbest = feature_selection.SelectKBest(score_func=f_classif, k=20)\n",
    "\n",
    "# Transform (i.e.: run selection on) the training data\n",
    "X_train_kbest = selector_kbest.fit_transform(X_train, y_train)"
   ]
  },
  {
   "cell_type": "code",
   "execution_count": 1101,
   "metadata": {},
   "outputs": [],
   "source": [
    "# Before generating predictions, we'll need to transform the test data the same way we did the train data\n",
    "X_test_kbest = selector_kbest.transform(X_test)"
   ]
  },
  {
   "cell_type": "code",
   "execution_count": 1102,
   "metadata": {},
   "outputs": [
    {
     "data": {
      "text/plain": [
       "(3955, 20)"
      ]
     },
     "execution_count": 1102,
     "metadata": {},
     "output_type": "execute_result"
    }
   ],
   "source": [
    "X_test_kbest.shape"
   ]
  },
  {
   "cell_type": "code",
   "execution_count": 1103,
   "metadata": {},
   "outputs": [
    {
     "data": {
      "text/plain": [
       "(11864, 20)"
      ]
     },
     "execution_count": 1103,
     "metadata": {},
     "output_type": "execute_result"
    }
   ],
   "source": [
    "X_train_kbest.shape"
   ]
  },
  {
   "cell_type": "markdown",
   "metadata": {},
   "source": [
    "## Train model"
   ]
  },
  {
   "cell_type": "code",
   "execution_count": 11,
   "metadata": {},
   "outputs": [],
   "source": [
    "from sklearn.linear_model import LogisticRegression\n",
    "from sklearn.neighbors import KNeighborsClassifier\n",
    "from sklearn.svm import SVC\n",
    "from sklearn.discriminant_analysis import LinearDiscriminantAnalysis\n",
    "from sklearn.discriminant_analysis import QuadraticDiscriminantAnalysis\n",
    "from sklearn.tree import DecisionTreeClassifier\n",
    "from sklearn.ensemble import RandomForestClassifier, AdaBoostClassifier"
   ]
  },
  {
   "cell_type": "code",
   "execution_count": 12,
   "metadata": {},
   "outputs": [],
   "source": [
    "#create models\n",
    "\n",
    "#lr = LogisticRegression(C=0.05, penalty='l1', solver='liblinear', verbose=1) \n",
    "#kn = KNeighborsClassifier(5)\n",
    "#svc_linear = SVC(kernel=\"linear\", C=0.05)\n",
    "svc = SVC(gamma=1, C=2)\n",
    "#dtc = DecisionTreeClassifier(max_depth=10)\n",
    "#rfc = RandomForestClassifier(max_depth=10, n_estimators=10)\n",
    "#abc = AdaBoostClassifier()"
   ]
  },
  {
   "cell_type": "code",
   "execution_count": null,
   "metadata": {},
   "outputs": [],
   "source": [
    "#train model on train data\n",
    "#lr.fit(X_train, y_train)\n",
    "#kn.fit(X_train, y_train)\n",
    "#svc_linear.fit(X_train, y_train)\n",
    "svc.fit(X_train, y_train)\n",
    "#dtc.fit(X_train, y_train)\n",
    "#rfc.fit(X_train, y_train)\n",
    "#abc.fit(X_train, y_train)"
   ]
  },
  {
   "cell_type": "code",
   "execution_count": 1107,
   "metadata": {},
   "outputs": [],
   "source": [
    "#predict on test data\n",
    "#lr_pred = lr.predict(X_test)\n",
    "#kn_pred = kn.predict(X_test)\n",
    "#svc_linear_pred = svc_linear.predict(X_test)\n",
    "svc_pred =  svc.predict(X_test)\n",
    "#dtc_pred = dtc.predict(X_test)\n",
    "#rfc_pred = rfc.predict(X_test) \n",
    "#abc_pred = abc.predict(X_test)"
   ]
  },
  {
   "cell_type": "markdown",
   "metadata": {},
   "source": [
    "create svc models with variance selecting"
   ]
  },
  {
   "cell_type": "code",
   "execution_count": 1109,
   "metadata": {},
   "outputs": [],
   "source": [
    "svc_kbest = SVC(gamma=1, C=2)\n",
    "svc_kbest = svc_kbest.fit(X_train_kbest, y_train)\n",
    "svc_kbest_pred = svc_kbest.predict(X_test_kbest)"
   ]
  },
  {
   "cell_type": "code",
   "execution_count": 1110,
   "metadata": {},
   "outputs": [],
   "source": [
    "svc_vt = SVC(gamma=1, C=2)\n",
    "svc_vt = svc_vt.fit(X_train_vt, y_train)\n",
    "svc_vt_pred = svc_vt.predict(X_test_vt)"
   ]
  },
  {
   "cell_type": "markdown",
   "metadata": {},
   "source": [
    "## Calculate metrics"
   ]
  },
  {
   "cell_type": "markdown",
   "metadata": {},
   "source": [
    "### F1"
   ]
  },
  {
   "cell_type": "code",
   "execution_count": 1111,
   "metadata": {},
   "outputs": [],
   "source": [
    "lr_f1  = metrics.f1_score(y_test, lr_pred, average='micro')\n",
    "kn_f1  = metrics.f1_score(y_test, kn_pred, average='micro')\n",
    "svc_linear_f1  = metrics.f1_score(y_test, svc_linear_pred, average='micro')\n",
    "svc_f1  = metrics.f1_score(y_test, svc_pred, average='micro')\n",
    "dtc_f1  = metrics.f1_score(y_test, dtc_pred, average='micro')\n",
    "rfc_f1  = metrics.f1_score(y_test, rfc_pred, average='micro')\n",
    "abc_f1  = metrics.f1_score(y_test, abc_pred, average='micro')"
   ]
  },
  {
   "cell_type": "code",
   "execution_count": 1112,
   "metadata": {},
   "outputs": [
    {
     "name": "stdout",
     "output_type": "stream",
     "text": [
      "lr:  0.5284450063211125\n",
      "kn:  0.5302149178255373\n",
      "svc_linear:  0.5292035398230088\n",
      "svc:  0.5332490518331227\n",
      "dtc:  0.5332490518331227\n",
      "rfc : 0.5322376738305942\n",
      "abc : 0.5329962073324905\n"
     ]
    }
   ],
   "source": [
    "print('lr: ', lr_f1)\n",
    "print('kn: ', kn_f1)\n",
    "print('svc_linear: ', svc_linear_f1)\n",
    "print('svc: ', svc_f1)\n",
    "print('dtc: ', dtc_f1)\n",
    "print('rfc :', rfc_f1)\n",
    "print('abc :', abc_f1)"
   ]
  },
  {
   "cell_type": "code",
   "execution_count": 1113,
   "metadata": {},
   "outputs": [],
   "source": [
    "svc_f1_vt  = metrics.f1_score(y_test, svc_vt_pred, average='micro')\n",
    "svc_f1_kbest  = metrics.f1_score(y_test, svc_kbest_pred, average='micro')"
   ]
  },
  {
   "cell_type": "code",
   "execution_count": 1114,
   "metadata": {},
   "outputs": [
    {
     "name": "stdout",
     "output_type": "stream",
     "text": [
      "vt:  0.5274336283185841\n",
      "kbest:  0.5292035398230088\n"
     ]
    }
   ],
   "source": [
    "print('vt: ', svc_f1_vt)\n",
    "print('kbest: ', svc_f1_kbest)"
   ]
  },
  {
   "cell_type": "markdown",
   "metadata": {},
   "source": [
    "## Tune Hyper parameters"
   ]
  },
  {
   "cell_type": "code",
   "execution_count": 931,
   "metadata": {},
   "outputs": [],
   "source": [
    "from sklearn.model_selection import GridSearchCV"
   ]
  },
  {
   "cell_type": "markdown",
   "metadata": {},
   "source": [
    "Since SVC model did the best, we will start with the hyper parameter tuning for it"
   ]
  },
  {
   "cell_type": "code",
   "execution_count": 932,
   "metadata": {},
   "outputs": [],
   "source": [
    "nfolds = 2\n",
    "\n",
    "Cs = [0.001, 0.01, 0.1, 1, 10]\n",
    "gammas = [0.001, 0.01, 0.1, 1]\n",
    "\n",
    "param_grid = {\n",
    "    'C'     : Cs, \n",
    "    'gamma' : gammas\n",
    "    }\n",
    "\n",
    "grid_SVM = GridSearchCV(SVC(), param_grid, scoring='f1_micro', cv=nfolds)"
   ]
  },
  {
   "cell_type": "code",
   "execution_count": 933,
   "metadata": {},
   "outputs": [
    {
     "ename": "AttributeError",
     "evalue": "'GridSearchCV' object has no attribute 'best_params_'",
     "output_type": "error",
     "traceback": [
      "\u001b[1;31m---------------------------------------------------------------------------\u001b[0m",
      "\u001b[1;31mAttributeError\u001b[0m                            Traceback (most recent call last)",
      "\u001b[1;32m<ipython-input-933-e838e2b91ff6>\u001b[0m in \u001b[0;36m<module>\u001b[1;34m\u001b[0m\n\u001b[1;32m----> 1\u001b[1;33m \u001b[0mgrid_SVM\u001b[0m\u001b[1;33m.\u001b[0m\u001b[0mbest_params_\u001b[0m\u001b[1;33m\u001b[0m\u001b[1;33m\u001b[0m\u001b[0m\n\u001b[0m",
      "\u001b[1;31mAttributeError\u001b[0m: 'GridSearchCV' object has no attribute 'best_params_'"
     ]
    }
   ],
   "source": [
    "grid_SVM.best_params_"
   ]
  },
  {
   "cell_type": "markdown",
   "metadata": {},
   "source": [
    "Now lets use to new hyperparamers and see if there is an improvement"
   ]
  },
  {
   "cell_type": "code",
   "execution_count": 934,
   "metadata": {},
   "outputs": [],
   "source": [
    "svc_new = SVC(gamma=1, C=1)"
   ]
  },
  {
   "cell_type": "code",
   "execution_count": 935,
   "metadata": {},
   "outputs": [
    {
     "data": {
      "text/plain": [
       "SVC(C=1, cache_size=200, class_weight=None, coef0=0.0,\n",
       "    decision_function_shape='ovr', degree=3, gamma=1, kernel='rbf', max_iter=-1,\n",
       "    probability=False, random_state=None, shrinking=True, tol=0.001,\n",
       "    verbose=False)"
      ]
     },
     "execution_count": 935,
     "metadata": {},
     "output_type": "execute_result"
    }
   ],
   "source": [
    "svc_new.fit(X_train, y_train)"
   ]
  },
  {
   "cell_type": "code",
   "execution_count": 936,
   "metadata": {},
   "outputs": [],
   "source": [
    "svc_new_pred =  svc_new.predict(X_test)"
   ]
  },
  {
   "cell_type": "code",
   "execution_count": 937,
   "metadata": {},
   "outputs": [
    {
     "name": "stdout",
     "output_type": "stream",
     "text": [
      "svc_new:  0.5832417582417583\n"
     ]
    }
   ],
   "source": [
    "svc_f1_new  = metrics.f1_score(y_test, svc_new_pred, average='micro')\n",
    "print('svc_new: ', svc_f1_new)"
   ]
  },
  {
   "cell_type": "markdown",
   "metadata": {},
   "source": [
    "Save model to be used later"
   ]
  },
  {
   "cell_type": "code",
   "execution_count": 248,
   "metadata": {},
   "outputs": [],
   "source": [
    "import pickle"
   ]
  },
  {
   "cell_type": "code",
   "execution_count": 249,
   "metadata": {},
   "outputs": [],
   "source": [
    "model_saved_path = 'C:/Users/alta/Documents/Explore/Trains/Sprint 6/kaggle/svc_new.pkl'"
   ]
  },
  {
   "cell_type": "code",
   "execution_count": 250,
   "metadata": {},
   "outputs": [],
   "source": [
    "with open(model_saved_path, 'wb') as file: pickle.dump(svc_new, file)"
   ]
  },
  {
   "cell_type": "markdown",
   "metadata": {},
   "source": [
    "## Get submission dataframe"
   ]
  },
  {
   "cell_type": "code",
   "execution_count": 992,
   "metadata": {},
   "outputs": [],
   "source": [
    "df_test = pd.read_csv('C:/Users/alta/Documents/GitHub/kaggle/test.csv')\n",
    "df_sub = pd.read_csv('C:/Users/alta/Documents/GitHub/kaggle/sample_submission.csv')"
   ]
  },
  {
   "cell_type": "code",
   "execution_count": 993,
   "metadata": {},
   "outputs": [],
   "source": [
    "tweets_test = df_test['message']"
   ]
  },
  {
   "cell_type": "code",
   "execution_count": 994,
   "metadata": {},
   "outputs": [],
   "source": [
    "tweets_test_clean = []\n",
    "\n",
    "for x in tweets_test:\n",
    "    new = ' '.join(re.sub(pattern_tweets,\" \",x).split())\n",
    "    new1 = ' '.join(re.sub(pattern_url,\" \",new).split())\n",
    "    new2 = new1.translate(str.maketrans(\"\", \"\", my_punctuation))\n",
    "   \n",
    "    tweets_test_clean.append(new2)"
   ]
  },
  {
   "cell_type": "code",
   "execution_count": 995,
   "metadata": {},
   "outputs": [],
   "source": [
    "df_test['message'] = tweets_test_clean"
   ]
  },
  {
   "cell_type": "code",
   "execution_count": 996,
   "metadata": {},
   "outputs": [],
   "source": [
    "#make lower case\n",
    "df_test['message'] = df_test['message'].str.lower()"
   ]
  },
  {
   "cell_type": "code",
   "execution_count": 997,
   "metadata": {},
   "outputs": [],
   "source": [
    "tokeniser = TweetTokenizer()\n",
    "#df_test['tokens'] = df_test['message'].apply(tokeniser.tokenize)"
   ]
  },
  {
   "cell_type": "code",
   "execution_count": 998,
   "metadata": {},
   "outputs": [],
   "source": [
    "#df_test['stem'] = df_test['tokens'].apply(tweet_stemmer, args=(stemmer, ))"
   ]
  },
  {
   "cell_type": "code",
   "execution_count": 999,
   "metadata": {},
   "outputs": [],
   "source": [
    "#df_test['stem_sw'] = df_test['stem'].apply(remove_stop_words)"
   ]
  },
  {
   "cell_type": "code",
   "execution_count": 1000,
   "metadata": {},
   "outputs": [],
   "source": [
    "#df_test['stem_final'] = [' '.join(x) for x in df_test['stem_sw']]"
   ]
  },
  {
   "cell_type": "code",
   "execution_count": 1001,
   "metadata": {},
   "outputs": [],
   "source": [
    "vect = CountVectorizer(stop_words = 'english', max_df=0.5, ngram_range=(1, 4), min_df= .01)\n",
    "\n",
    "X_stem_test = vect.fit_transform(df_test['message'])\n",
    "df_stem_test = pd.DataFrame(X_stem_test.A, columns=vect.get_feature_names())"
   ]
  },
  {
   "cell_type": "code",
   "execution_count": 1002,
   "metadata": {},
   "outputs": [],
   "source": [
    "name_list = []\n",
    "\n",
    "for i in df_stem_test.columns:\n",
    "    if i in col_names_tokens:\n",
    "        name_list.append(i)"
   ]
  },
  {
   "cell_type": "code",
   "execution_count": 1003,
   "metadata": {},
   "outputs": [],
   "source": [
    "missing = []\n",
    "\n",
    "for i in col_names_tokens:\n",
    "    if i not in name_list:\n",
    "        missing.append(i)"
   ]
  },
  {
   "cell_type": "code",
   "execution_count": 1004,
   "metadata": {},
   "outputs": [],
   "source": [
    "complete_word_list = name_list + missing"
   ]
  },
  {
   "cell_type": "code",
   "execution_count": 1005,
   "metadata": {},
   "outputs": [
    {
     "data": {
      "text/plain": [
       "18"
      ]
     },
     "execution_count": 1005,
     "metadata": {},
     "output_type": "execute_result"
    }
   ],
   "source": [
    "len(missing)"
   ]
  },
  {
   "cell_type": "code",
   "execution_count": 1006,
   "metadata": {},
   "outputs": [
    {
     "data": {
      "text/plain": [
       "75"
      ]
     },
     "execution_count": 1006,
     "metadata": {},
     "output_type": "execute_result"
    }
   ],
   "source": [
    "len(name_list)"
   ]
  },
  {
   "cell_type": "code",
   "execution_count": 1007,
   "metadata": {},
   "outputs": [
    {
     "data": {
      "text/plain": [
       "['action',\n",
       " 'agreement',\n",
       " 'amp',\n",
       " 'believe',\n",
       " 'believe climate',\n",
       " 'believe climate change',\n",
       " 'carbon',\n",
       " 'cause',\n",
       " 'change hoax',\n",
       " 'change real',\n",
       " 'china',\n",
       " 'chinese',\n",
       " 'climate change hoax',\n",
       " 'climate change real',\n",
       " 'climatechange',\n",
       " 'die',\n",
       " 'does',\n",
       " 'doesn',\n",
       " 'doesn believe',\n",
       " 'doesn believe climate',\n",
       " 'doesn believe climate change',\n",
       " 'don',\n",
       " 'donald',\n",
       " 'donald trump',\n",
       " 'earth',\n",
       " 'energy',\n",
       " 'environment',\n",
       " 'epa',\n",
       " 'fight',\n",
       " 'fight climate',\n",
       " 'fight climate change',\n",
       " 'global',\n",
       " 'global warming',\n",
       " 'going',\n",
       " 'going die',\n",
       " 'good',\n",
       " 'head',\n",
       " 'hoax',\n",
       " 'https',\n",
       " 'isn',\n",
       " 'just',\n",
       " 'know',\n",
       " 'like',\n",
       " 'make',\n",
       " 'need',\n",
       " 'new',\n",
       " 'news',\n",
       " 'obama',\n",
       " 'paris',\n",
       " 'people',\n",
       " 'president',\n",
       " 'pruitt',\n",
       " 'real',\n",
       " 'really',\n",
       " 'right',\n",
       " 'said',\n",
       " 'say',\n",
       " 'says',\n",
       " 'science',\n",
       " 'scientists',\n",
       " 'scott',\n",
       " 'stop',\n",
       " 'study',\n",
       " 'think',\n",
       " 'thinking',\n",
       " 'time',\n",
       " 'trump',\n",
       " 'trump climate',\n",
       " 'trump climate change',\n",
       " 'want',\n",
       " 'warming',\n",
       " 'watch',\n",
       " 'weather',\n",
       " 'world',\n",
       " 'years',\n",
       " 'al',\n",
       " 'al gore',\n",
       " 'change',\n",
       " 'chief',\n",
       " 'climate',\n",
       " 'climate change',\n",
       " 'data',\n",
       " 'fake',\n",
       " 'gore',\n",
       " 'great',\n",
       " 'ice',\n",
       " 'leaders',\n",
       " 'll',\n",
       " 'man',\n",
       " 'manmade',\n",
       " 'order',\n",
       " 'threat',\n",
       " 'year']"
      ]
     },
     "execution_count": 1007,
     "metadata": {},
     "output_type": "execute_result"
    }
   ],
   "source": [
    "complete_word_list"
   ]
  },
  {
   "cell_type": "code",
   "execution_count": 1008,
   "metadata": {},
   "outputs": [],
   "source": [
    "new_X = df_stem_test.reindex(columns = complete_word_list, fill_value=0)"
   ]
  },
  {
   "cell_type": "code",
   "execution_count": 1009,
   "metadata": {},
   "outputs": [
    {
     "data": {
      "text/plain": [
       "93"
      ]
     },
     "execution_count": 1009,
     "metadata": {},
     "output_type": "execute_result"
    }
   ],
   "source": [
    "len(col_names_tokens)"
   ]
  },
  {
   "cell_type": "code",
   "execution_count": 1010,
   "metadata": {},
   "outputs": [
    {
     "data": {
      "text/plain": [
       "93"
      ]
     },
     "execution_count": 1010,
     "metadata": {},
     "output_type": "execute_result"
    }
   ],
   "source": [
    "len(new_X.columns)"
   ]
  },
  {
   "cell_type": "code",
   "execution_count": 1011,
   "metadata": {},
   "outputs": [],
   "source": [
    "y_pred = svc.predict(new_X)"
   ]
  },
  {
   "cell_type": "code",
   "execution_count": 1012,
   "metadata": {},
   "outputs": [],
   "source": [
    "svc_final_df = pd.DataFrame()\n",
    "\n",
    "svc_final_df['tweetid'] = df_test['tweetid']\n",
    "svc_final_df['sentiment'] = y_pred"
   ]
  },
  {
   "cell_type": "code",
   "execution_count": 1014,
   "metadata": {},
   "outputs": [],
   "source": [
    "svc_final_df.to_csv(r'C:/Users/alta/Documents/Explore/Trains/Sprint 6/kaggle/svc_kaggle_sumbmission.csv', index = False)"
   ]
  },
  {
   "cell_type": "code",
   "execution_count": 1013,
   "metadata": {},
   "outputs": [
    {
     "data": {
      "image/png": "[encoded data removed]",
      "text/plain": [
       "<Figure size 432x288 with 1 Axes>"
      ]
     },
     "metadata": {
      "needs_background": "light"
     },
     "output_type": "display_data"
    }
   ],
   "source": [
    "svc_final_df['sentiment'].value_counts().plot(kind = 'bar')\n",
    "plt.show()"
   ]
  },
  {
   "cell_type": "code",
   "execution_count": null,
   "metadata": {},
   "outputs": [],
   "source": []
  }
 ],
 "metadata": {
  "kernelspec": {
   "display_name": "Python 3",
   "language": "python",
   "name": "python3"
  },
  "language_info": {
   "codemirror_mode": {
    "name": "ipython",
    "version": 3
   },
   "file_extension": ".py",
   "mimetype": "text/x-python",
   "name": "python",
   "nbconvert_exporter": "python",
   "pygments_lexer": "ipython3",
   "version": "3.7.4"
  }
 },
 "nbformat": 4,
 "nbformat_minor": 2
}
